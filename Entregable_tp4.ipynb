{
 "cells": [
  {
   "cell_type": "markdown",
   "metadata": {},
   "source": [
    "# **PROYECTO 4 -   Sistema de Recomendaciones Steam+Ampliación de Sentiment Analisis con NLP** \n",
    "**Este proyecto se monta sobre el trabajo Nro. 3 y pretende,después de realizar la combinación de los datasets, ampliar el análisis exploratorio de la columna \"Text\" a fin de determinar si existe la posibilidad de mejorar las predicciones: hasta el momento se recomendaron solo los juegos cuyos reviews fueron relizados por usuarios que jugaron más de su mediana global de horas de juego, dejando fuera a aquellos con comentarios positivos por debajo de dicho nivel y a los juegos con comentarios positivos con \"hours\" por encima de dicho nivel.**\n",
    "\n",
    "**El análisis se llevará a cabo en el apartado \"Parte D - Análisis Exploratorio usando NLP\"**\n",
    "\n",
    "**A continuación, el link al repositorio GitHub: https://github.com/agueroaugusto/steam/(se cargó solo el dataset Games ya que el de Reviews excede los 25mb y se acotó el Grid Search de los modelos vistos en tp3 para optimizar la demora)**"
   ]
  },
  {
   "cell_type": "markdown",
   "metadata": {},
   "source": [
    "## **Parte A - Análisis Exploratorio**"
   ]
  },
  {
   "cell_type": "code",
   "execution_count": 1,
   "metadata": {
    "ExecuteTime": {
     "end_time": "2021-02-03T13:09:28.593212Z",
     "start_time": "2021-02-03T13:09:25.575443Z"
    }
   },
   "outputs": [
    {
     "name": "stderr",
     "output_type": "stream",
     "text": [
      "[nltk_data] Downloading package punkt to\n",
      "[nltk_data]     C:\\Users\\augusto\\AppData\\Roaming\\nltk_data...\n",
      "[nltk_data]   Package punkt is already up-to-date!\n",
      "[nltk_data] Downloading package stopwords to\n",
      "[nltk_data]     C:\\Users\\augusto\\AppData\\Roaming\\nltk_data...\n",
      "[nltk_data]   Package stopwords is already up-to-date!\n"
     ]
    }
   ],
   "source": [
    "#Librerías \n",
    "import gzip\n",
    "import numpy as np\n",
    "import matplotlib.pyplot as plt\n",
    "import seaborn as sns\n",
    "import pandas as pd\n",
    "import gc #garbage collector\n",
    "#from pandas_profiling import ProfileReport\n",
    "import itertools\n",
    "import nltk\n",
    "nltk.download('punkt')\n",
    "nltk.download('stopwords')\n",
    "from surprise import Dataset\n",
    "from surprise import Reader\n",
    "from surprise.model_selection import train_test_split"
   ]
  },
  {
   "cell_type": "markdown",
   "metadata": {},
   "source": [
    "## Reviews"
   ]
  },
  {
   "cell_type": "markdown",
   "metadata": {},
   "source": [
    "#Se inicia abriendo el archivo json y pasandolo a csv.\n",
    "def parse(path):\n",
    "    g = gzip.open(path, 'r')\n",
    "    for l in g:\n",
    "        yield eval(l)\n",
    "contador = 0\n",
    "data_reviews = []\n",
    "n = 1\n",
    "for l in parse('steam_reviews.json.gz'):\n",
    "    if contador%n == 0:\n",
    "        data_reviews.append(l)\n",
    "    else:\n",
    "        pass\n",
    "    contador += 1\n",
    "reviews = pd.DataFrame(data_reviews)\n",
    "\n",
    "#se guarda el dataset \n",
    "reviews.to_csv('reviews.csv', index= False)"
   ]
  },
  {
   "cell_type": "code",
   "execution_count": 2,
   "metadata": {
    "ExecuteTime": {
     "end_time": "2021-02-03T13:11:11.005391Z",
     "start_time": "2021-02-03T13:09:28.596205Z"
    }
   },
   "outputs": [
    {
     "data": {
      "text/html": [
       "<div>\n",
       "<style scoped>\n",
       "    .dataframe tbody tr th:only-of-type {\n",
       "        vertical-align: middle;\n",
       "    }\n",
       "\n",
       "    .dataframe tbody tr th {\n",
       "        vertical-align: top;\n",
       "    }\n",
       "\n",
       "    .dataframe thead th {\n",
       "        text-align: right;\n",
       "    }\n",
       "</style>\n",
       "<table border=\"1\" class=\"dataframe\">\n",
       "  <thead>\n",
       "    <tr style=\"text-align: right;\">\n",
       "      <th></th>\n",
       "      <th>username</th>\n",
       "      <th>hours</th>\n",
       "      <th>products</th>\n",
       "      <th>product_id</th>\n",
       "      <th>page_order</th>\n",
       "      <th>date</th>\n",
       "      <th>text</th>\n",
       "      <th>early_access</th>\n",
       "      <th>page</th>\n",
       "      <th>found_funny</th>\n",
       "      <th>compensation</th>\n",
       "      <th>user_id</th>\n",
       "    </tr>\n",
       "  </thead>\n",
       "  <tbody>\n",
       "    <tr>\n",
       "      <th>0</th>\n",
       "      <td>Chaos Syren</td>\n",
       "      <td>0.1</td>\n",
       "      <td>41.0</td>\n",
       "      <td>725280</td>\n",
       "      <td>0</td>\n",
       "      <td>2017-12-17</td>\n",
       "      <td>This would not be acceptable as an entertainme...</td>\n",
       "      <td>False</td>\n",
       "      <td>1</td>\n",
       "      <td>nan</td>\n",
       "      <td>NaN</td>\n",
       "      <td>nan</td>\n",
       "    </tr>\n",
       "    <tr>\n",
       "      <th>1</th>\n",
       "      <td>₮ʜᴇ Wᴀʀᴛᴏɴ</td>\n",
       "      <td>51.1</td>\n",
       "      <td>769.0</td>\n",
       "      <td>328100</td>\n",
       "      <td>0</td>\n",
       "      <td>2017-12-27</td>\n",
       "      <td>looks like a facebook game</td>\n",
       "      <td>False</td>\n",
       "      <td>1</td>\n",
       "      <td>nan</td>\n",
       "      <td>NaN</td>\n",
       "      <td>nan</td>\n",
       "    </tr>\n",
       "    <tr>\n",
       "      <th>2</th>\n",
       "      <td>hello?&lt;</td>\n",
       "      <td>14.6</td>\n",
       "      <td>2.0</td>\n",
       "      <td>328100</td>\n",
       "      <td>1</td>\n",
       "      <td>2017-10-16</td>\n",
       "      <td>Better than Minecraft</td>\n",
       "      <td>False</td>\n",
       "      <td>1</td>\n",
       "      <td>2.0</td>\n",
       "      <td>Product received for free</td>\n",
       "      <td>nan</td>\n",
       "    </tr>\n",
       "    <tr>\n",
       "      <th>3</th>\n",
       "      <td>Cyderine916</td>\n",
       "      <td>5.0</td>\n",
       "      <td>64.0</td>\n",
       "      <td>35140</td>\n",
       "      <td>0</td>\n",
       "      <td>2018-01-04</td>\n",
       "      <td>I love and idolized Batman and this game is Ma...</td>\n",
       "      <td>False</td>\n",
       "      <td>1</td>\n",
       "      <td>nan</td>\n",
       "      <td>NaN</td>\n",
       "      <td>nan</td>\n",
       "    </tr>\n",
       "    <tr>\n",
       "      <th>4</th>\n",
       "      <td>DarklyThinking</td>\n",
       "      <td>16.6</td>\n",
       "      <td>577.0</td>\n",
       "      <td>35140</td>\n",
       "      <td>1</td>\n",
       "      <td>2018-01-04</td>\n",
       "      <td>Still worth playing in 2018.\\nProbably my favo...</td>\n",
       "      <td>False</td>\n",
       "      <td>1</td>\n",
       "      <td>nan</td>\n",
       "      <td>NaN</td>\n",
       "      <td>76561198007483072.0</td>\n",
       "    </tr>\n",
       "  </tbody>\n",
       "</table>\n",
       "</div>"
      ],
      "text/plain": [
       "         username  hours  products  product_id  page_order        date  \\\n",
       "0     Chaos Syren    0.1      41.0      725280           0  2017-12-17   \n",
       "1      ₮ʜᴇ Wᴀʀᴛᴏɴ   51.1     769.0      328100           0  2017-12-27   \n",
       "2         hello?<   14.6       2.0      328100           1  2017-10-16   \n",
       "3     Cyderine916    5.0      64.0       35140           0  2018-01-04   \n",
       "4  DarklyThinking   16.6     577.0       35140           1  2018-01-04   \n",
       "\n",
       "                                                text  early_access  page  \\\n",
       "0  This would not be acceptable as an entertainme...         False     1   \n",
       "1                         looks like a facebook game         False     1   \n",
       "2                              Better than Minecraft         False     1   \n",
       "3  I love and idolized Batman and this game is Ma...         False     1   \n",
       "4  Still worth playing in 2018.\\nProbably my favo...         False     1   \n",
       "\n",
       "   found_funny               compensation             user_id  \n",
       "0          nan                        NaN                 nan  \n",
       "1          nan                        NaN                 nan  \n",
       "2          2.0  Product received for free                 nan  \n",
       "3          nan                        NaN                 nan  \n",
       "4          nan                        NaN 76561198007483072.0  "
      ]
     },
     "execution_count": 2,
     "metadata": {},
     "output_type": "execute_result"
    }
   ],
   "source": [
    "#se carga el dataset modificado y se imrimen las primeras instancias\n",
    "reviews = pd.read_csv(r'reviews.csv')\n",
    "#evitamos que los product_id aparezcan con notación cientrífica\n",
    "pd.options.display.float_format = '{:.1f}'.format\n",
    "#borramos duplicados\n",
    "reviews.drop_duplicates(subset=['product_id', 'user_id'], keep='last')\n",
    "#imprimimos las primeras instancias\n",
    "reviews.head()"
   ]
  },
  {
   "cell_type": "code",
   "execution_count": 3,
   "metadata": {
    "ExecuteTime": {
     "end_time": "2021-02-03T13:11:13.884341Z",
     "start_time": "2021-02-03T13:11:11.019354Z"
    }
   },
   "outputs": [
    {
     "data": {
      "text/html": [
       "<div>\n",
       "<style scoped>\n",
       "    .dataframe tbody tr th:only-of-type {\n",
       "        vertical-align: middle;\n",
       "    }\n",
       "\n",
       "    .dataframe tbody tr th {\n",
       "        vertical-align: top;\n",
       "    }\n",
       "\n",
       "    .dataframe thead th {\n",
       "        text-align: right;\n",
       "    }\n",
       "</style>\n",
       "<table border=\"1\" class=\"dataframe\">\n",
       "  <thead>\n",
       "    <tr style=\"text-align: right;\">\n",
       "      <th></th>\n",
       "      <th>hours</th>\n",
       "      <th>products</th>\n",
       "      <th>product_id</th>\n",
       "      <th>page_order</th>\n",
       "      <th>page</th>\n",
       "      <th>found_funny</th>\n",
       "      <th>user_id</th>\n",
       "    </tr>\n",
       "  </thead>\n",
       "  <tbody>\n",
       "    <tr>\n",
       "      <th>count</th>\n",
       "      <td>7766532.0</td>\n",
       "      <td>7778108.0</td>\n",
       "      <td>7793069.0</td>\n",
       "      <td>7793069.0</td>\n",
       "      <td>7793069.0</td>\n",
       "      <td>1200756.0</td>\n",
       "      <td>3176223.0</td>\n",
       "    </tr>\n",
       "    <tr>\n",
       "      <th>mean</th>\n",
       "      <td>111.8</td>\n",
       "      <td>236.5</td>\n",
       "      <td>251380.5</td>\n",
       "      <td>4.5</td>\n",
       "      <td>893.0</td>\n",
       "      <td>7.9</td>\n",
       "      <td>76561198096417120.0</td>\n",
       "    </tr>\n",
       "    <tr>\n",
       "      <th>std</th>\n",
       "      <td>392.9</td>\n",
       "      <td>485.8</td>\n",
       "      <td>150112.0</td>\n",
       "      <td>2.9</td>\n",
       "      <td>1927.7</td>\n",
       "      <td>73.4</td>\n",
       "      <td>100841037.5</td>\n",
       "    </tr>\n",
       "    <tr>\n",
       "      <th>min</th>\n",
       "      <td>0.0</td>\n",
       "      <td>1.0</td>\n",
       "      <td>10.0</td>\n",
       "      <td>0.0</td>\n",
       "      <td>1.0</td>\n",
       "      <td>1.0</td>\n",
       "      <td>76561197960265808.0</td>\n",
       "    </tr>\n",
       "    <tr>\n",
       "      <th>25%</th>\n",
       "      <td>4.0</td>\n",
       "      <td>45.0</td>\n",
       "      <td>203770.0</td>\n",
       "      <td>2.0</td>\n",
       "      <td>52.0</td>\n",
       "      <td>1.0</td>\n",
       "      <td>76561198025640032.0</td>\n",
       "    </tr>\n",
       "    <tr>\n",
       "      <th>50%</th>\n",
       "      <td>15.3</td>\n",
       "      <td>110.0</td>\n",
       "      <td>252490.0</td>\n",
       "      <td>4.0</td>\n",
       "      <td>237.0</td>\n",
       "      <td>1.0</td>\n",
       "      <td>76561198071083136.0</td>\n",
       "    </tr>\n",
       "    <tr>\n",
       "      <th>75%</th>\n",
       "      <td>59.7</td>\n",
       "      <td>246.0</td>\n",
       "      <td>346110.0</td>\n",
       "      <td>7.0</td>\n",
       "      <td>829.0</td>\n",
       "      <td>3.0</td>\n",
       "      <td>76561198140793520.0</td>\n",
       "    </tr>\n",
       "    <tr>\n",
       "      <th>max</th>\n",
       "      <td>42100.7</td>\n",
       "      <td>18188.0</td>\n",
       "      <td>777950.0</td>\n",
       "      <td>9.0</td>\n",
       "      <td>18371.0</td>\n",
       "      <td>13318.0</td>\n",
       "      <td>76561198803033792.0</td>\n",
       "    </tr>\n",
       "  </tbody>\n",
       "</table>\n",
       "</div>"
      ],
      "text/plain": [
       "          hours  products  product_id  page_order      page  found_funny  \\\n",
       "count 7766532.0 7778108.0   7793069.0   7793069.0 7793069.0    1200756.0   \n",
       "mean      111.8     236.5    251380.5         4.5     893.0          7.9   \n",
       "std       392.9     485.8    150112.0         2.9    1927.7         73.4   \n",
       "min         0.0       1.0        10.0         0.0       1.0          1.0   \n",
       "25%         4.0      45.0    203770.0         2.0      52.0          1.0   \n",
       "50%        15.3     110.0    252490.0         4.0     237.0          1.0   \n",
       "75%        59.7     246.0    346110.0         7.0     829.0          3.0   \n",
       "max     42100.7   18188.0    777950.0         9.0   18371.0      13318.0   \n",
       "\n",
       "                  user_id  \n",
       "count           3176223.0  \n",
       "mean  76561198096417120.0  \n",
       "std           100841037.5  \n",
       "min   76561197960265808.0  \n",
       "25%   76561198025640032.0  \n",
       "50%   76561198071083136.0  \n",
       "75%   76561198140793520.0  \n",
       "max   76561198803033792.0  "
      ]
     },
     "execution_count": 3,
     "metadata": {},
     "output_type": "execute_result"
    }
   ],
   "source": [
    "reviews.describe()"
   ]
  },
  {
   "cell_type": "markdown",
   "metadata": {},
   "source": [
    "**Features (con una breve descripción de los datos según Profile Report)**\n",
    "- *username*: nombre del usuario, el 17.6% de los valores son únicos.\n",
    "- *hours*: cantidad de horas jugadas al realizar el comentario.  Median=15.3 < Mean=111.8364833. La distribución tiene cola hacia la derecha.\n",
    "- *products*: cantidad de productos adquiridos al realizar el comentario. median\t110 < Mean\t236.4839008.  La distribución tiene cola hacia la derecha.\n",
    "- *product_id*: identificación del producto. hay 15474 juegos con comentarios.\n",
    "- *page_order*: posición del comentario dentro de la página (cada juego tiene páginas de comentarios).  sus valores oscilan entre 1 y 10 y tiene una distribución uniforme. Esta columna no nos arroja información.-    \n",
    "- *date*: fecha del comentario.  durante el mes de noviembre de los años 2016 y 2017 parecieran estar los picos.\n",
    "- *text*: comentario. el valor más común es 'good game' y, al igual que todos los valores más frecuentes, indican valoraciones positivas.\n",
    "- *early_access*: true si corresponde a un juego con acceso temprano.  el 13.8% de los reviews se realizaron sobre juegos con acceso temprano.\n",
    "- *page*: página de comentario del juego. Median=237, Mean=893.0330963 (cada página tiene diez comentarios). Nuevamente se observa una cola hacia la derecha.\n",
    "- *user_id*: id del usuario.  Hay 1426419 usuarios que realizaron comentarios\n",
    "- *found_funny*: cantidad de usuarios para los que la review resultó divertida. el valor máximo es 13218. No sabemos para qué usuarios resultó divertido por lo que no podremos extrapolar el review.\n",
    "- *compensation*: pago por juego. Product received for free =1,8%, el resto son missing. Esta columna no nos arroja información."
   ]
  },
  {
   "cell_type": "markdown",
   "metadata": {},
   "source": [
    "### **Missing Values**"
   ]
  },
  {
   "cell_type": "code",
   "execution_count": 4,
   "metadata": {
    "ExecuteTime": {
     "end_time": "2021-02-03T13:11:23.173097Z",
     "start_time": "2021-02-03T13:11:13.886338Z"
    }
   },
   "outputs": [
    {
     "name": "stderr",
     "output_type": "stream",
     "text": [
      "C:\\Users\\augusto\\anaconda3\\envs\\data_science\\lib\\site-packages\\ipykernel_launcher.py:10: MatplotlibDeprecationWarning: Adding an axes using the same arguments as a previous axes currently reuses the earlier instance.  In a future version, a new instance will always be created and returned.  Meanwhile, this warning can be suppressed, and the future behavior ensured, by passing a unique label to each axes instance.\n",
      "  # Remove the CWD from sys.path while we load stuff.\n"
     ]
    },
    {
     "data": {
      "image/png": "[encoded data removed]",
      "text/plain": [
       "<Figure size 432x288 with 1 Axes>"
      ]
     },
     "metadata": {
      "needs_background": "light"
     },
     "output_type": "display_data"
    },
    {
     "data": {
      "text/html": [
       "<div>\n",
       "<style scoped>\n",
       "    .dataframe tbody tr th:only-of-type {\n",
       "        vertical-align: middle;\n",
       "    }\n",
       "\n",
       "    .dataframe tbody tr th {\n",
       "        vertical-align: top;\n",
       "    }\n",
       "\n",
       "    .dataframe thead th {\n",
       "        text-align: right;\n",
       "    }\n",
       "</style>\n",
       "<table border=\"1\" class=\"dataframe\">\n",
       "  <thead>\n",
       "    <tr style=\"text-align: right;\">\n",
       "      <th></th>\n",
       "      <th>Total</th>\n",
       "      <th>Percent</th>\n",
       "    </tr>\n",
       "  </thead>\n",
       "  <tbody>\n",
       "    <tr>\n",
       "      <th>compensation</th>\n",
       "      <td>7647446</td>\n",
       "      <td>98.1</td>\n",
       "    </tr>\n",
       "    <tr>\n",
       "      <th>found_funny</th>\n",
       "      <td>6592313</td>\n",
       "      <td>84.6</td>\n",
       "    </tr>\n",
       "    <tr>\n",
       "      <th>user_id</th>\n",
       "      <td>4616846</td>\n",
       "      <td>59.2</td>\n",
       "    </tr>\n",
       "    <tr>\n",
       "      <th>hours</th>\n",
       "      <td>26537</td>\n",
       "      <td>0.3</td>\n",
       "    </tr>\n",
       "    <tr>\n",
       "      <th>text</th>\n",
       "      <td>17972</td>\n",
       "      <td>0.2</td>\n",
       "    </tr>\n",
       "    <tr>\n",
       "      <th>products</th>\n",
       "      <td>14961</td>\n",
       "      <td>0.2</td>\n",
       "    </tr>\n",
       "    <tr>\n",
       "      <th>username</th>\n",
       "      <td>208</td>\n",
       "      <td>nan</td>\n",
       "    </tr>\n",
       "  </tbody>\n",
       "</table>\n",
       "</div>"
      ],
      "text/plain": [
       "                Total  Percent\n",
       "compensation  7647446     98.1\n",
       "found_funny   6592313     84.6\n",
       "user_id       4616846     59.2\n",
       "hours           26537      0.3\n",
       "text            17972      0.2\n",
       "products        14961      0.2\n",
       "username          208      nan"
      ]
     },
     "execution_count": 4,
     "metadata": {},
     "output_type": "execute_result"
    }
   ],
   "source": [
    "#Valores faltantes\n",
    "missing=reviews.isna().sum()/len(reviews)*100\n",
    "#se crea otra serie para usar como variable independiente.\n",
    "columnas=reviews.columns\n",
    "##Gráfico\n",
    "sns.barplot(y=columnas, x = missing, palette=\"rocket\")\n",
    "plt.title(\"Gráfico I: Valores Faltantes\",fontsize=18)\n",
    "plt.xlabel(\"Cantidad\",fontsize=14)\n",
    "plt.ylabel(\"Columnas\",fontsize=14)\n",
    "ax = plt.axes()\n",
    "plt.grid(True,color='grey', linestyle='--', linewidth=0.5)\n",
    "ax.set_axisbelow(True)\n",
    "plt.show()\n",
    "def missing_percentage(df):\n",
    "    total = reviews.isnull().sum().sort_values(ascending = False)[reviews.isnull().sum().sort_values(ascending = False) != 0]\n",
    "    percent = round(reviews.isnull().sum().sort_values(ascending = False)/len(df)*100,2)[round(reviews.isnull().sum().sort_values(ascending = False)/len(reviews)*100,2) != 0]\n",
    "    return pd.concat([total, percent], axis=1, keys=['Total','Percent'])\n",
    "missing_percentage(reviews)"
   ]
  },
  {
   "cell_type": "markdown",
   "metadata": {},
   "source": [
    "**Se descartarán found_funny y compensation. El principal problema del dataset es que cuenta con casi el 60% de valores faltantes en los id de los usuarios. También se eliminarpa page_order por no aportar información significativa.**"
   ]
  },
  {
   "cell_type": "markdown",
   "metadata": {},
   "source": [
    "### **Descarte de columnas poco significativas+optimización de tipo de datos**"
   ]
  },
  {
   "cell_type": "code",
   "execution_count": 5,
   "metadata": {
    "ExecuteTime": {
     "end_time": "2021-02-03T13:11:32.221641Z",
     "start_time": "2021-02-03T13:11:23.175092Z"
    }
   },
   "outputs": [
    {
     "name": "stdout",
     "output_type": "stream",
     "text": [
      "user_id         float64\n",
      "username         object\n",
      "product_id       uint32\n",
      "text             object\n",
      "hours           float16\n",
      "products         uint16\n",
      "date             object\n",
      "page             uint16\n",
      "early_access       bool\n",
      "dtype: object\n"
     ]
    },
    {
     "data": {
      "text/html": [
       "<div>\n",
       "<style scoped>\n",
       "    .dataframe tbody tr th:only-of-type {\n",
       "        vertical-align: middle;\n",
       "    }\n",
       "\n",
       "    .dataframe tbody tr th {\n",
       "        vertical-align: top;\n",
       "    }\n",
       "\n",
       "    .dataframe thead th {\n",
       "        text-align: right;\n",
       "    }\n",
       "</style>\n",
       "<table border=\"1\" class=\"dataframe\">\n",
       "  <thead>\n",
       "    <tr style=\"text-align: right;\">\n",
       "      <th></th>\n",
       "      <th>user_id</th>\n",
       "      <th>username</th>\n",
       "      <th>product_id</th>\n",
       "      <th>text</th>\n",
       "      <th>hours</th>\n",
       "      <th>products</th>\n",
       "      <th>date</th>\n",
       "      <th>page</th>\n",
       "      <th>early_access</th>\n",
       "    </tr>\n",
       "  </thead>\n",
       "  <tbody>\n",
       "    <tr>\n",
       "      <th>0</th>\n",
       "      <td>nan</td>\n",
       "      <td>Chaos Syren</td>\n",
       "      <td>725280</td>\n",
       "      <td>This would not be acceptable as an entertainme...</td>\n",
       "      <td>0.1</td>\n",
       "      <td>41</td>\n",
       "      <td>2017-12-17</td>\n",
       "      <td>1</td>\n",
       "      <td>False</td>\n",
       "    </tr>\n",
       "    <tr>\n",
       "      <th>1</th>\n",
       "      <td>nan</td>\n",
       "      <td>₮ʜᴇ Wᴀʀᴛᴏɴ</td>\n",
       "      <td>328100</td>\n",
       "      <td>looks like a facebook game</td>\n",
       "      <td>51.1</td>\n",
       "      <td>769</td>\n",
       "      <td>2017-12-27</td>\n",
       "      <td>1</td>\n",
       "      <td>False</td>\n",
       "    </tr>\n",
       "    <tr>\n",
       "      <th>2</th>\n",
       "      <td>nan</td>\n",
       "      <td>hello?&lt;</td>\n",
       "      <td>328100</td>\n",
       "      <td>Better than Minecraft</td>\n",
       "      <td>14.6</td>\n",
       "      <td>2</td>\n",
       "      <td>2017-10-16</td>\n",
       "      <td>1</td>\n",
       "      <td>False</td>\n",
       "    </tr>\n",
       "    <tr>\n",
       "      <th>3</th>\n",
       "      <td>nan</td>\n",
       "      <td>Cyderine916</td>\n",
       "      <td>35140</td>\n",
       "      <td>I love and idolized Batman and this game is Ma...</td>\n",
       "      <td>5.0</td>\n",
       "      <td>64</td>\n",
       "      <td>2018-01-04</td>\n",
       "      <td>1</td>\n",
       "      <td>False</td>\n",
       "    </tr>\n",
       "    <tr>\n",
       "      <th>4</th>\n",
       "      <td>76561198007483072.0</td>\n",
       "      <td>DarklyThinking</td>\n",
       "      <td>35140</td>\n",
       "      <td>Still worth playing in 2018.\\nProbably my favo...</td>\n",
       "      <td>16.6</td>\n",
       "      <td>577</td>\n",
       "      <td>2018-01-04</td>\n",
       "      <td>1</td>\n",
       "      <td>False</td>\n",
       "    </tr>\n",
       "  </tbody>\n",
       "</table>\n",
       "</div>"
      ],
      "text/plain": [
       "              user_id        username  product_id  \\\n",
       "0                 nan     Chaos Syren      725280   \n",
       "1                 nan      ₮ʜᴇ Wᴀʀᴛᴏɴ      328100   \n",
       "2                 nan         hello?<      328100   \n",
       "3                 nan     Cyderine916       35140   \n",
       "4 76561198007483072.0  DarklyThinking       35140   \n",
       "\n",
       "                                                text  hours  products  \\\n",
       "0  This would not be acceptable as an entertainme...    0.1        41   \n",
       "1                         looks like a facebook game   51.1       769   \n",
       "2                              Better than Minecraft   14.6         2   \n",
       "3  I love and idolized Batman and this game is Ma...    5.0        64   \n",
       "4  Still worth playing in 2018.\\nProbably my favo...   16.6       577   \n",
       "\n",
       "         date  page  early_access  \n",
       "0  2017-12-17     1         False  \n",
       "1  2017-12-27     1         False  \n",
       "2  2017-10-16     1         False  \n",
       "3  2018-01-04     1         False  \n",
       "4  2018-01-04     1         False  "
      ]
     },
     "execution_count": 5,
     "metadata": {},
     "output_type": "execute_result"
    }
   ],
   "source": [
    "#se reorganiza el dataset tomando solo las columnas relevantes\n",
    "reviews=reviews[['user_id','username','product_id','text','hours','products','date','page','early_access']]\n",
    "#se eliminan los valores faltantes\n",
    "#no se eliminan para user_id porque son demasiados\n",
    "reviews.dropna(subset=['username'], how='all', inplace=True)\n",
    "reviews.dropna(subset=['text'], how='all', inplace=True)\n",
    "reviews.dropna(subset=['hours'], how='all', inplace=True)\n",
    "reviews.dropna(subset=['products'], how='all', inplace=True)\n",
    "#impresión de tipo de datos\n",
    "\n",
    "#se optimizan los datatypes\n",
    "reviews['product_id'] = reviews['product_id'].astype(np.uint32)\n",
    "reviews['hours'] = reviews['hours'].astype(np.float16)\n",
    "reviews['products'] = reviews['products'].astype(np.uint16)\n",
    "reviews['page'] = reviews['page'].astype(np.uint16)\n",
    "#reviews['user_id'] = reviews['user_id'].astype(np.int64)\n",
    "#se guarda el dataset\n",
    "#reviews.to_csv('reviews_opt.csv', index= False)\n",
    "print(reviews.dtypes)\n",
    "reviews.head()"
   ]
  },
  {
   "cell_type": "markdown",
   "metadata": {},
   "source": [
    "### **Preguntas sobre Reviews**"
   ]
  },
  {
   "cell_type": "markdown",
   "metadata": {},
   "source": [
    "### 1- Dado que existen un 60% de missing_values para  user_id, podemos reemplazar esta columna con el nombre de los usuarios?"
   ]
  },
  {
   "cell_type": "code",
   "execution_count": 6,
   "metadata": {
    "ExecuteTime": {
     "end_time": "2021-02-03T13:11:56.864313Z",
     "start_time": "2021-02-03T13:11:32.223661Z"
    }
   },
   "outputs": [
    {
     "name": "stderr",
     "output_type": "stream",
     "text": [
      "C:\\Users\\augusto\\anaconda3\\envs\\data_science\\lib\\site-packages\\matplotlib\\backends\\backend_agg.py:214: RuntimeWarning: Glyph 3640 missing from current font.\n",
      "  font.set_text(s, 0.0, flags=flags)\n",
      "C:\\Users\\augusto\\anaconda3\\envs\\data_science\\lib\\site-packages\\matplotlib\\backends\\backend_agg.py:183: RuntimeWarning: Glyph 3640 missing from current font.\n",
      "  font.set_text(s, 0, flags=flags)\n"
     ]
    },
    {
     "data": {
      "image/png": "[encoded data removed]",
      "text/plain": [
       "<Figure size 1080x360 with 2 Axes>"
      ]
     },
     "metadata": {
      "needs_background": "light"
     },
     "output_type": "display_data"
    },
    {
     "data": {
      "text/html": [
       "<div>\n",
       "<style scoped>\n",
       "    .dataframe tbody tr th:only-of-type {\n",
       "        vertical-align: middle;\n",
       "    }\n",
       "\n",
       "    .dataframe tbody tr th {\n",
       "        vertical-align: top;\n",
       "    }\n",
       "\n",
       "    .dataframe thead th {\n",
       "        text-align: right;\n",
       "    }\n",
       "</style>\n",
       "<table border=\"1\" class=\"dataframe\">\n",
       "  <thead>\n",
       "    <tr style=\"text-align: right;\">\n",
       "      <th></th>\n",
       "      <th>user_id</th>\n",
       "      <th>username</th>\n",
       "      <th>product_id</th>\n",
       "      <th>text</th>\n",
       "      <th>hours</th>\n",
       "      <th>products</th>\n",
       "      <th>date</th>\n",
       "      <th>page</th>\n",
       "      <th>early_access</th>\n",
       "    </tr>\n",
       "  </thead>\n",
       "  <tbody>\n",
       "    <tr>\n",
       "      <th>29045</th>\n",
       "      <td>76561198021444240.0</td>\n",
       "      <td>123</td>\n",
       "      <td>1610</td>\n",
       "      <td>One of the best space games ive ever played</td>\n",
       "      <td>97.9</td>\n",
       "      <td>103</td>\n",
       "      <td>2014-02-02</td>\n",
       "      <td>9</td>\n",
       "      <td>False</td>\n",
       "    </tr>\n",
       "    <tr>\n",
       "      <th>29510</th>\n",
       "      <td>76561198072738320.0</td>\n",
       "      <td>123</td>\n",
       "      <td>271590</td>\n",
       "      <td>Don't buy. They don't bother fixing bugs, only...</td>\n",
       "      <td>484.0</td>\n",
       "      <td>69</td>\n",
       "      <td>2017-12-30</td>\n",
       "      <td>107</td>\n",
       "      <td>False</td>\n",
       "    </tr>\n",
       "    <tr>\n",
       "      <th>47279</th>\n",
       "      <td>76561198141516112.0</td>\n",
       "      <td>123</td>\n",
       "      <td>427730</td>\n",
       "      <td>the game is boring without freinds but with th...</td>\n",
       "      <td>7.9</td>\n",
       "      <td>19</td>\n",
       "      <td>2016-12-29</td>\n",
       "      <td>205</td>\n",
       "      <td>False</td>\n",
       "    </tr>\n",
       "    <tr>\n",
       "      <th>49267</th>\n",
       "      <td>76561198120382960.0</td>\n",
       "      <td>123</td>\n",
       "      <td>35140</td>\n",
       "      <td>Great game, with a good story. Lots to explore...</td>\n",
       "      <td>4.6</td>\n",
       "      <td>243</td>\n",
       "      <td>2016-06-30</td>\n",
       "      <td>242</td>\n",
       "      <td>False</td>\n",
       "    </tr>\n",
       "    <tr>\n",
       "      <th>51651</th>\n",
       "      <td>76561198194763872.0</td>\n",
       "      <td>123</td>\n",
       "      <td>350280</td>\n",
       "      <td>I enjoy games again.</td>\n",
       "      <td>68.5</td>\n",
       "      <td>145</td>\n",
       "      <td>2017-08-14</td>\n",
       "      <td>239</td>\n",
       "      <td>False</td>\n",
       "    </tr>\n",
       "  </tbody>\n",
       "</table>\n",
       "</div>"
      ],
      "text/plain": [
       "                  user_id username  product_id  \\\n",
       "29045 76561198021444240.0      123        1610   \n",
       "29510 76561198072738320.0      123      271590   \n",
       "47279 76561198141516112.0      123      427730   \n",
       "49267 76561198120382960.0      123       35140   \n",
       "51651 76561198194763872.0      123      350280   \n",
       "\n",
       "                                                    text  hours  products  \\\n",
       "29045        One of the best space games ive ever played   97.9       103   \n",
       "29510  Don't buy. They don't bother fixing bugs, only...  484.0        69   \n",
       "47279  the game is boring without freinds but with th...    7.9        19   \n",
       "49267  Great game, with a good story. Lots to explore...    4.6       243   \n",
       "51651                               I enjoy games again.   68.5       145   \n",
       "\n",
       "             date  page  early_access  \n",
       "29045  2014-02-02     9         False  \n",
       "29510  2017-12-30   107         False  \n",
       "47279  2016-12-29   205         False  \n",
       "49267  2016-06-30   242         False  \n",
       "51651  2017-08-14   239         False  "
      ]
     },
     "execution_count": 6,
     "metadata": {},
     "output_type": "execute_result"
    }
   ],
   "source": [
    "#Boxplot Rooms\n",
    "fig=plt.figure(figsize=(15,5))\n",
    "plt.suptitle('Gráfico II: Usuarios',fontsize=20, ha='center')\n",
    "ax1=fig.add_subplot(1,2,1)\n",
    "ax2=fig.add_subplot(1,2,2)\n",
    "sns.countplot(reviews['user_id'], ax=ax1,order=reviews.user_id.value_counts().iloc[:50].index)\n",
    "\n",
    "sns.countplot(reviews['username'], ax=ax2,order=reviews.username.value_counts().iloc[:50].index)\n",
    "ax1.set_title(\"Gráfico II.a: Según User_ID\",fontsize=16)\n",
    "ax2.set_title(\"Gráfico II.b: Segúin Username\",fontsize=16)\n",
    "ax1.set_xlabel('Hours',fontsize=16)\n",
    "#ax1.set_ylabel('Rooms',fontsize=16)\n",
    "ax2.set_xlabel('Hours',fontsize=16)\n",
    "#ax2.set_ylabel('Rooms',fontsize=16)\n",
    "fig.subplots_adjust(top=0.8)\n",
    "plt.show()\n",
    "\n",
    "user=reviews[(reviews.username=='123')]\n",
    "user.head()"
   ]
  },
  {
   "cell_type": "markdown",
   "metadata": {},
   "source": [
    "**Hay muchos user id que se loguean con diferentes usernames, por lo que no podremos recurrir al nombre para utilizarlos.**"
   ]
  },
  {
   "cell_type": "markdown",
   "metadata": {},
   "source": [
    "### 2- ¿Cuáles son los juegos más comentados?"
   ]
  },
  {
   "cell_type": "code",
   "execution_count": 7,
   "metadata": {
    "ExecuteTime": {
     "end_time": "2021-02-03T13:11:57.449301Z",
     "start_time": "2021-02-03T13:11:56.871271Z"
    }
   },
   "outputs": [
    {
     "data": {
      "image/png": "[encoded data removed]",
      "text/plain": [
       "<Figure size 1080x360 with 1 Axes>"
      ]
     },
     "metadata": {
      "needs_background": "light"
     },
     "output_type": "display_data"
    }
   ],
   "source": [
    "\n",
    "fig=plt.figure(figsize=(15,5))\n",
    "plt.suptitle('Gráfico III: Usuarios',fontsize=20, ha='center')\n",
    "reviews['product_id'].value_counts().iloc[:30].plot(kind='bar')\n",
    "reviews['product_id'].value_counts().iloc[:5]\n",
    "fig.subplots_adjust(top=0.8)\n",
    "plt.show()\n"
   ]
  },
  {
   "cell_type": "markdown",
   "metadata": {},
   "source": [
    "**Los juegos más comentados son el 440, el 52490 y el 49520, cuando analicemoso el siguiente dataset sabremos de qué juegos se trata.**"
   ]
  },
  {
   "cell_type": "markdown",
   "metadata": {},
   "source": [
    "## 3- ¿Cuántas horas  juega cada usuario?"
   ]
  },
  {
   "cell_type": "code",
   "execution_count": 8,
   "metadata": {
    "ExecuteTime": {
     "end_time": "2021-02-03T13:12:00.873008Z",
     "start_time": "2021-02-03T13:11:57.451256Z"
    }
   },
   "outputs": [
    {
     "data": {
      "image/png": "[encoded data removed]",
      "text/plain": [
       "<Figure size 1080x360 with 2 Axes>"
      ]
     },
     "metadata": {
      "needs_background": "light"
     },
     "output_type": "display_data"
    },
    {
     "data": {
      "text/plain": [
       "count   7733533.0\n",
       "mean          nan\n",
       "std           nan\n",
       "min           0.0\n",
       "25%           4.0\n",
       "50%          15.4\n",
       "75%          59.7\n",
       "max       42112.0\n",
       "Name: hours, dtype: float64"
      ]
     },
     "execution_count": 8,
     "metadata": {},
     "output_type": "execute_result"
    }
   ],
   "source": [
    "#Boxplot Rooms\n",
    "fig=plt.figure(figsize=(15,5))\n",
    "plt.suptitle('Gráfico IV: Horas de juego al comentar',fontsize=20, ha='center')\n",
    "ax1=fig.add_subplot(1,2,1)\n",
    "ax2=fig.add_subplot(1,2,2)\n",
    "sns.boxplot(data = reviews,x='hours',showfliers=True,showmeans=True,meanprops={\"marker\":\"o\",\"markerfacecolor\":\"white\", \"markeredgecolor\":\"black\"}, ax=ax1)\n",
    "\n",
    "sns.boxplot(data = reviews,x='hours',showfliers=False,showmeans=True,meanprops={\"marker\":\"o\",\"markerfacecolor\":\"white\", \"markeredgecolor\":\"black\"}, ax=ax2)\n",
    "ax1.set_title(\"Gráfico IV.a: Hours con Outliers\",fontsize=16)\n",
    "ax2.set_title(\"Gráfico IV.b: Hours sin Outliers\",fontsize=16)\n",
    "ax1.set_xlabel('Hours',fontsize=16)\n",
    "#ax1.set_ylabel('Rooms',fontsize=16)\n",
    "ax2.set_xlabel('Hours',fontsize=16)\n",
    "#ax2.set_ylabel('Rooms',fontsize=16)\n",
    "fig.subplots_adjust(top=0.8)\n",
    "plt.show()\n",
    "\n",
    "reviews.hours.describe()"
   ]
  },
  {
   "cell_type": "markdown",
   "metadata": {},
   "source": [
    "**La mediana indica que los usuarios jugaron 15.4 horas a la hora de realizar los comentarios. Este valor puede resultar más representativo que el promedio dado que la distribución tiene una marcada cola hacia la derecha.**"
   ]
  },
  {
   "cell_type": "markdown",
   "metadata": {},
   "source": [
    "### 4- Cuántos juegos tiene cada usuario?"
   ]
  },
  {
   "cell_type": "code",
   "execution_count": 9,
   "metadata": {
    "ExecuteTime": {
     "end_time": "2021-02-03T13:12:03.129671Z",
     "start_time": "2021-02-03T13:12:00.874976Z"
    }
   },
   "outputs": [
    {
     "data": {
      "image/png": "[encoded data removed]",
      "text/plain": [
       "<Figure size 1080x360 with 2 Axes>"
      ]
     },
     "metadata": {
      "needs_background": "light"
     },
     "output_type": "display_data"
    },
    {
     "data": {
      "text/plain": [
       "count   7733533.0\n",
       "mean        235.4\n",
       "std         483.7\n",
       "min           1.0\n",
       "25%          45.0\n",
       "50%         110.0\n",
       "75%         245.0\n",
       "max       18188.0\n",
       "Name: products, dtype: float64"
      ]
     },
     "execution_count": 9,
     "metadata": {},
     "output_type": "execute_result"
    }
   ],
   "source": [
    "#Boxplot Rooms\n",
    "fig=plt.figure(figsize=(15,5))\n",
    "plt.suptitle('Gráfico V_Cantidad de Productos al comentar',fontsize=20, ha='center')\n",
    "ax1=fig.add_subplot(1,2,1)\n",
    "ax2=fig.add_subplot(1,2,2)\n",
    "sns.boxplot(data = reviews,x='products',showfliers=True,showmeans=True,meanprops={\"marker\":\"o\",\"markerfacecolor\":\"white\", \"markeredgecolor\":\"black\"}, ax=ax1)\n",
    "sns.boxplot(data = reviews,x='products',showfliers=False,showmeans=True,meanprops={\"marker\":\"o\",\"markerfacecolor\":\"white\", \"markeredgecolor\":\"black\"}, ax=ax2)\n",
    "ax1.set_title(\"Gráfico V.A: Productos con Outliers\",fontsize=16)\n",
    "ax2.set_title(\"Gráfico V.B: Productos sin Outliers\",fontsize=16)\n",
    "ax1.set_xlabel('Productos',fontsize=16)\n",
    "#ax1.set_ylabel('Rooms',fontsize=16)\n",
    "ax2.set_xlabel('Productos',fontsize=16)\n",
    "#ax2.set_ylabel('Rooms',fontsize=16)\n",
    "fig.subplots_adjust(top=0.8)\n",
    "plt.show()\n",
    "\n",
    "reviews.products.describe()"
   ]
  },
  {
   "cell_type": "markdown",
   "metadata": {},
   "source": [
    "**En promedio, cada usuario tiene 235 juegos. La mediana es 110.**"
   ]
  },
  {
   "cell_type": "markdown",
   "metadata": {},
   "source": [
    "### 6- Cuándo se realizaron los comentarios?."
   ]
  },
  {
   "cell_type": "code",
   "execution_count": 10,
   "metadata": {
    "ExecuteTime": {
     "end_time": "2021-02-03T13:12:04.950433Z",
     "start_time": "2021-02-03T13:12:03.131643Z"
    }
   },
   "outputs": [
    {
     "name": "stdout",
     "output_type": "stream",
     "text": [
      "2018-01-05\n",
      "2010-10-15\n"
     ]
    },
    {
     "data": {
      "image/png": "[encoded data removed]",
      "text/plain": [
       "<Figure size 1080x360 with 1 Axes>"
      ]
     },
     "metadata": {
      "needs_background": "light"
     },
     "output_type": "display_data"
    },
    {
     "data": {
      "text/plain": [
       "count   7733533.0\n",
       "mean        235.4\n",
       "std         483.7\n",
       "min           1.0\n",
       "25%          45.0\n",
       "50%         110.0\n",
       "75%         245.0\n",
       "max       18188.0\n",
       "Name: products, dtype: float64"
      ]
     },
     "execution_count": 10,
     "metadata": {},
     "output_type": "execute_result"
    }
   ],
   "source": [
    "\n",
    "print(reviews.date.max())\n",
    "print(reviews.date.min())\n",
    "#\n",
    "fig=plt.figure(figsize=(15,5))\n",
    "plt.suptitle('Gráfico VI: Cantidad de Productos al comentar',fontsize=20, ha='center')\n",
    "\n",
    "reviews['date'].value_counts().sort_index().plot(kind='line', figsize=(15,5)) # ver layout\n",
    "#ax2.set_ylabel('Rooms',fontsize=16)\n",
    "fig.subplots_adjust(top=0.8)\n",
    "plt.show()\n",
    "\n",
    "reviews.products.describe()\n",
    "\n",
    "\n",
    "\n"
   ]
  },
  {
   "cell_type": "markdown",
   "metadata": {},
   "source": [
    "**Los primeros comentarios son del 2010-10-15 y los últimos del 2018-01-05. El gráfico muestra que existe una tendencia al aumento en la cantidad de comentarios a media que pasa el tiempo.**"
   ]
  },
  {
   "cell_type": "markdown",
   "metadata": {},
   "source": [
    "# Data_Games"
   ]
  },
  {
   "cell_type": "markdown",
   "metadata": {},
   "source": [
    "def parse(path):\n",
    "    g = gzip.open(path, 'r')\n",
    "    for l in g:\n",
    "        yield eval(l)\n",
    "contador = 0\n",
    "data_games = []\n",
    "for l in parse('steam_games.json.gz'):\n",
    "    data_games.append(l)\n",
    "games = pd.DataFrame(data_games)\n",
    "\n",
    "games.to_csv('games.csv', index= False)"
   ]
  },
  {
   "cell_type": "code",
   "execution_count": 11,
   "metadata": {
    "ExecuteTime": {
     "end_time": "2021-02-03T13:12:05.217623Z",
     "start_time": "2021-02-03T13:12:04.951363Z"
    }
   },
   "outputs": [
    {
     "data": {
      "text/html": [
       "<div>\n",
       "<style scoped>\n",
       "    .dataframe tbody tr th:only-of-type {\n",
       "        vertical-align: middle;\n",
       "    }\n",
       "\n",
       "    .dataframe tbody tr th {\n",
       "        vertical-align: top;\n",
       "    }\n",
       "\n",
       "    .dataframe thead th {\n",
       "        text-align: right;\n",
       "    }\n",
       "</style>\n",
       "<table border=\"1\" class=\"dataframe\">\n",
       "  <thead>\n",
       "    <tr style=\"text-align: right;\">\n",
       "      <th></th>\n",
       "      <th>publisher</th>\n",
       "      <th>genres</th>\n",
       "      <th>app_name</th>\n",
       "      <th>title</th>\n",
       "      <th>url</th>\n",
       "      <th>release_date</th>\n",
       "      <th>tags</th>\n",
       "      <th>discount_price</th>\n",
       "      <th>reviews_url</th>\n",
       "      <th>specs</th>\n",
       "      <th>price</th>\n",
       "      <th>early_access</th>\n",
       "      <th>id</th>\n",
       "      <th>developer</th>\n",
       "      <th>sentiment</th>\n",
       "      <th>metascore</th>\n",
       "    </tr>\n",
       "  </thead>\n",
       "  <tbody>\n",
       "    <tr>\n",
       "      <th>0</th>\n",
       "      <td>Kotoshiro</td>\n",
       "      <td>['Action', 'Casual', 'Indie', 'Simulation', 'S...</td>\n",
       "      <td>Lost Summoner Kitty</td>\n",
       "      <td>Lost Summoner Kitty</td>\n",
       "      <td>http://store.steampowered.com/app/761140/Lost_...</td>\n",
       "      <td>2018-01-04</td>\n",
       "      <td>['Strategy', 'Action', 'Indie', 'Casual', 'Sim...</td>\n",
       "      <td>4.5</td>\n",
       "      <td>http://steamcommunity.com/app/761140/reviews/?...</td>\n",
       "      <td>['Single-player']</td>\n",
       "      <td>4.99</td>\n",
       "      <td>False</td>\n",
       "      <td>761140.0</td>\n",
       "      <td>Kotoshiro</td>\n",
       "      <td>NaN</td>\n",
       "      <td>nan</td>\n",
       "    </tr>\n",
       "    <tr>\n",
       "      <th>1</th>\n",
       "      <td>Making Fun, Inc.</td>\n",
       "      <td>['Free to Play', 'Indie', 'RPG', 'Strategy']</td>\n",
       "      <td>Ironbound</td>\n",
       "      <td>Ironbound</td>\n",
       "      <td>http://store.steampowered.com/app/643980/Ironb...</td>\n",
       "      <td>2018-01-04</td>\n",
       "      <td>['Free to Play', 'Strategy', 'Indie', 'RPG', '...</td>\n",
       "      <td>nan</td>\n",
       "      <td>http://steamcommunity.com/app/643980/reviews/?...</td>\n",
       "      <td>['Single-player', 'Multi-player', 'Online Mult...</td>\n",
       "      <td>Free To Play</td>\n",
       "      <td>False</td>\n",
       "      <td>643980.0</td>\n",
       "      <td>Secret Level SRL</td>\n",
       "      <td>Mostly Positive</td>\n",
       "      <td>nan</td>\n",
       "    </tr>\n",
       "    <tr>\n",
       "      <th>2</th>\n",
       "      <td>Poolians.com</td>\n",
       "      <td>['Casual', 'Free to Play', 'Indie', 'Simulatio...</td>\n",
       "      <td>Real Pool 3D - Poolians</td>\n",
       "      <td>Real Pool 3D - Poolians</td>\n",
       "      <td>http://store.steampowered.com/app/670290/Real_...</td>\n",
       "      <td>2017-07-24</td>\n",
       "      <td>['Free to Play', 'Simulation', 'Sports', 'Casu...</td>\n",
       "      <td>nan</td>\n",
       "      <td>http://steamcommunity.com/app/670290/reviews/?...</td>\n",
       "      <td>['Single-player', 'Multi-player', 'Online Mult...</td>\n",
       "      <td>Free to Play</td>\n",
       "      <td>False</td>\n",
       "      <td>670290.0</td>\n",
       "      <td>Poolians.com</td>\n",
       "      <td>Mostly Positive</td>\n",
       "      <td>nan</td>\n",
       "    </tr>\n",
       "    <tr>\n",
       "      <th>3</th>\n",
       "      <td>彼岸领域</td>\n",
       "      <td>['Action', 'Adventure', 'Casual']</td>\n",
       "      <td>弹炸人2222</td>\n",
       "      <td>弹炸人2222</td>\n",
       "      <td>http://store.steampowered.com/app/767400/2222/</td>\n",
       "      <td>2017-12-07</td>\n",
       "      <td>['Action', 'Adventure', 'Casual']</td>\n",
       "      <td>0.8</td>\n",
       "      <td>http://steamcommunity.com/app/767400/reviews/?...</td>\n",
       "      <td>['Single-player']</td>\n",
       "      <td>0.99</td>\n",
       "      <td>False</td>\n",
       "      <td>767400.0</td>\n",
       "      <td>彼岸领域</td>\n",
       "      <td>NaN</td>\n",
       "      <td>nan</td>\n",
       "    </tr>\n",
       "    <tr>\n",
       "      <th>4</th>\n",
       "      <td>NaN</td>\n",
       "      <td>NaN</td>\n",
       "      <td>Log Challenge</td>\n",
       "      <td>NaN</td>\n",
       "      <td>http://store.steampowered.com/app/773570/Log_C...</td>\n",
       "      <td>NaN</td>\n",
       "      <td>['Action', 'Indie', 'Casual', 'Sports']</td>\n",
       "      <td>1.8</td>\n",
       "      <td>http://steamcommunity.com/app/773570/reviews/?...</td>\n",
       "      <td>['Single-player', 'Full controller support', '...</td>\n",
       "      <td>2.99</td>\n",
       "      <td>False</td>\n",
       "      <td>773570.0</td>\n",
       "      <td>NaN</td>\n",
       "      <td>NaN</td>\n",
       "      <td>nan</td>\n",
       "    </tr>\n",
       "  </tbody>\n",
       "</table>\n",
       "</div>"
      ],
      "text/plain": [
       "          publisher                                             genres  \\\n",
       "0         Kotoshiro  ['Action', 'Casual', 'Indie', 'Simulation', 'S...   \n",
       "1  Making Fun, Inc.       ['Free to Play', 'Indie', 'RPG', 'Strategy']   \n",
       "2      Poolians.com  ['Casual', 'Free to Play', 'Indie', 'Simulatio...   \n",
       "3              彼岸领域                  ['Action', 'Adventure', 'Casual']   \n",
       "4               NaN                                                NaN   \n",
       "\n",
       "                  app_name                    title  \\\n",
       "0      Lost Summoner Kitty      Lost Summoner Kitty   \n",
       "1                Ironbound                Ironbound   \n",
       "2  Real Pool 3D - Poolians  Real Pool 3D - Poolians   \n",
       "3                  弹炸人2222                  弹炸人2222   \n",
       "4            Log Challenge                      NaN   \n",
       "\n",
       "                                                 url release_date  \\\n",
       "0  http://store.steampowered.com/app/761140/Lost_...   2018-01-04   \n",
       "1  http://store.steampowered.com/app/643980/Ironb...   2018-01-04   \n",
       "2  http://store.steampowered.com/app/670290/Real_...   2017-07-24   \n",
       "3     http://store.steampowered.com/app/767400/2222/   2017-12-07   \n",
       "4  http://store.steampowered.com/app/773570/Log_C...          NaN   \n",
       "\n",
       "                                                tags  discount_price  \\\n",
       "0  ['Strategy', 'Action', 'Indie', 'Casual', 'Sim...             4.5   \n",
       "1  ['Free to Play', 'Strategy', 'Indie', 'RPG', '...             nan   \n",
       "2  ['Free to Play', 'Simulation', 'Sports', 'Casu...             nan   \n",
       "3                  ['Action', 'Adventure', 'Casual']             0.8   \n",
       "4            ['Action', 'Indie', 'Casual', 'Sports']             1.8   \n",
       "\n",
       "                                         reviews_url  \\\n",
       "0  http://steamcommunity.com/app/761140/reviews/?...   \n",
       "1  http://steamcommunity.com/app/643980/reviews/?...   \n",
       "2  http://steamcommunity.com/app/670290/reviews/?...   \n",
       "3  http://steamcommunity.com/app/767400/reviews/?...   \n",
       "4  http://steamcommunity.com/app/773570/reviews/?...   \n",
       "\n",
       "                                               specs         price  \\\n",
       "0                                  ['Single-player']          4.99   \n",
       "1  ['Single-player', 'Multi-player', 'Online Mult...  Free To Play   \n",
       "2  ['Single-player', 'Multi-player', 'Online Mult...  Free to Play   \n",
       "3                                  ['Single-player']          0.99   \n",
       "4  ['Single-player', 'Full controller support', '...          2.99   \n",
       "\n",
       "   early_access       id         developer        sentiment  metascore  \n",
       "0         False 761140.0         Kotoshiro              NaN        nan  \n",
       "1         False 643980.0  Secret Level SRL  Mostly Positive        nan  \n",
       "2         False 670290.0      Poolians.com  Mostly Positive        nan  \n",
       "3         False 767400.0              彼岸领域              NaN        nan  \n",
       "4         False 773570.0               NaN              NaN        nan  "
      ]
     },
     "execution_count": 11,
     "metadata": {},
     "output_type": "execute_result"
    }
   ],
   "source": [
    "#se carga el dataset modificado y se imrimen las primeras instancias\n",
    "games = pd.read_csv(r'games.csv')\n",
    "games.head()"
   ]
  },
  {
   "cell_type": "code",
   "execution_count": 12,
   "metadata": {
    "ExecuteTime": {
     "end_time": "2021-02-03T13:12:05.236571Z",
     "start_time": "2021-02-03T13:12:05.218620Z"
    }
   },
   "outputs": [
    {
     "data": {
      "text/html": [
       "<div>\n",
       "<style scoped>\n",
       "    .dataframe tbody tr th:only-of-type {\n",
       "        vertical-align: middle;\n",
       "    }\n",
       "\n",
       "    .dataframe tbody tr th {\n",
       "        vertical-align: top;\n",
       "    }\n",
       "\n",
       "    .dataframe thead th {\n",
       "        text-align: right;\n",
       "    }\n",
       "</style>\n",
       "<table border=\"1\" class=\"dataframe\">\n",
       "  <thead>\n",
       "    <tr style=\"text-align: right;\">\n",
       "      <th></th>\n",
       "      <th>discount_price</th>\n",
       "      <th>id</th>\n",
       "      <th>metascore</th>\n",
       "    </tr>\n",
       "  </thead>\n",
       "  <tbody>\n",
       "    <tr>\n",
       "      <th>count</th>\n",
       "      <td>225.0</td>\n",
       "      <td>32133.0</td>\n",
       "      <td>2607.0</td>\n",
       "    </tr>\n",
       "    <tr>\n",
       "      <th>mean</th>\n",
       "      <td>11.9</td>\n",
       "      <td>451757.4</td>\n",
       "      <td>72.3</td>\n",
       "    </tr>\n",
       "    <tr>\n",
       "      <th>std</th>\n",
       "      <td>17.5</td>\n",
       "      <td>182714.0</td>\n",
       "      <td>10.8</td>\n",
       "    </tr>\n",
       "    <tr>\n",
       "      <th>min</th>\n",
       "      <td>0.5</td>\n",
       "      <td>10.0</td>\n",
       "      <td>20.0</td>\n",
       "    </tr>\n",
       "    <tr>\n",
       "      <th>25%</th>\n",
       "      <td>1.4</td>\n",
       "      <td>329280.0</td>\n",
       "      <td>66.0</td>\n",
       "    </tr>\n",
       "    <tr>\n",
       "      <th>50%</th>\n",
       "      <td>4.2</td>\n",
       "      <td>452060.0</td>\n",
       "      <td>74.0</td>\n",
       "    </tr>\n",
       "    <tr>\n",
       "      <th>75%</th>\n",
       "      <td>22.7</td>\n",
       "      <td>593400.0</td>\n",
       "      <td>80.0</td>\n",
       "    </tr>\n",
       "    <tr>\n",
       "      <th>max</th>\n",
       "      <td>140.0</td>\n",
       "      <td>2028850.0</td>\n",
       "      <td>96.0</td>\n",
       "    </tr>\n",
       "  </tbody>\n",
       "</table>\n",
       "</div>"
      ],
      "text/plain": [
       "       discount_price        id  metascore\n",
       "count           225.0   32133.0     2607.0\n",
       "mean             11.9  451757.4       72.3\n",
       "std              17.5  182714.0       10.8\n",
       "min               0.5      10.0       20.0\n",
       "25%               1.4  329280.0       66.0\n",
       "50%               4.2  452060.0       74.0\n",
       "75%              22.7  593400.0       80.0\n",
       "max             140.0 2028850.0       96.0"
      ]
     },
     "execution_count": 12,
     "metadata": {},
     "output_type": "execute_result"
    }
   ],
   "source": [
    "#iniciamos el análisis exploratorio con un profile\n",
    "#games_profile = ProfileReport(games,title=\"Pandas Profiling Report\")\n",
    "#games_profile\n",
    "games.describe()"
   ]
  },
  {
   "cell_type": "markdown",
   "metadata": {},
   "source": [
    "**Features (con una breve descripción según Pandas Profile)**\n",
    "- publisher: empresa que publicó el juego. Existen 8230 valores únicos.\n",
    "- genres: género del juego. El más frecuente es acción.\n",
    "- app_name: nombre del juego. Hay 32094.\n",
    "- title: nombre del juego alt. Hay 30054. App_name es más informativa.\n",
    "- url:página del juego (Steam).\n",
    "- release_date: fecha de lanzamiento. La más frecuente es 2012-10-16. Ese día se lanzó la plataforma.\n",
    "- tags: categorías. Es similar a genres.\n",
    "- discount_price: descuento. Missing 99.3%\n",
    "- reviews_url: página de los comentarios (Steam).\n",
    "- specs:especificaciones.\n",
    "- price: precio\n",
    "- early_access':acceso tempano Solo lo tienen un 6%.\n",
    "- id: id del juego. 32132\n",
    "- developer: empresa que publicó.Hay 10992 valores únicosl\n",
    "- sentiment: el valor más frecuente es míxto. Sin embargo, en general las valoraciones son positivas.\n",
    "- metascore: valoración de Metatric*\n",
    "*sitio web que recopila reseñas de álbumes de música, videojuegos, películas, programas de televisión, DVD y libros."
   ]
  },
  {
   "cell_type": "markdown",
   "metadata": {},
   "source": [
    "## **Missing Values**"
   ]
  },
  {
   "cell_type": "code",
   "execution_count": 13,
   "metadata": {
    "ExecuteTime": {
     "end_time": "2021-02-03T13:12:05.506429Z",
     "start_time": "2021-02-03T13:12:05.237569Z"
    }
   },
   "outputs": [
    {
     "name": "stderr",
     "output_type": "stream",
     "text": [
      "C:\\Users\\augusto\\anaconda3\\envs\\data_science\\lib\\site-packages\\ipykernel_launcher.py:11: MatplotlibDeprecationWarning: Adding an axes using the same arguments as a previous axes currently reuses the earlier instance.  In a future version, a new instance will always be created and returned.  Meanwhile, this warning can be suppressed, and the future behavior ensured, by passing a unique label to each axes instance.\n",
      "  # This is added back by InteractiveShellApp.init_path()\n"
     ]
    },
    {
     "data": {
      "image/png": "[encoded data removed]",
      "text/plain": [
       "<Figure size 432x288 with 1 Axes>"
      ]
     },
     "metadata": {
      "needs_background": "light"
     },
     "output_type": "display_data"
    },
    {
     "data": {
      "text/html": [
       "<div>\n",
       "<style scoped>\n",
       "    .dataframe tbody tr th:only-of-type {\n",
       "        vertical-align: middle;\n",
       "    }\n",
       "\n",
       "    .dataframe tbody tr th {\n",
       "        vertical-align: top;\n",
       "    }\n",
       "\n",
       "    .dataframe thead th {\n",
       "        text-align: right;\n",
       "    }\n",
       "</style>\n",
       "<table border=\"1\" class=\"dataframe\">\n",
       "  <thead>\n",
       "    <tr style=\"text-align: right;\">\n",
       "      <th></th>\n",
       "      <th>Total</th>\n",
       "      <th>Percent</th>\n",
       "    </tr>\n",
       "  </thead>\n",
       "  <tbody>\n",
       "    <tr>\n",
       "      <th>discount_price</th>\n",
       "      <td>31910</td>\n",
       "      <td>99.3</td>\n",
       "    </tr>\n",
       "    <tr>\n",
       "      <th>metascore</th>\n",
       "      <td>29528</td>\n",
       "      <td>91.9</td>\n",
       "    </tr>\n",
       "    <tr>\n",
       "      <th>publisher</th>\n",
       "      <td>8062</td>\n",
       "      <td>25.1</td>\n",
       "    </tr>\n",
       "    <tr>\n",
       "      <th>sentiment</th>\n",
       "      <td>7182</td>\n",
       "      <td>22.4</td>\n",
       "    </tr>\n",
       "    <tr>\n",
       "      <th>developer</th>\n",
       "      <td>3299</td>\n",
       "      <td>10.3</td>\n",
       "    </tr>\n",
       "    <tr>\n",
       "      <th>genres</th>\n",
       "      <td>3283</td>\n",
       "      <td>10.2</td>\n",
       "    </tr>\n",
       "    <tr>\n",
       "      <th>release_date</th>\n",
       "      <td>2067</td>\n",
       "      <td>6.4</td>\n",
       "    </tr>\n",
       "    <tr>\n",
       "      <th>title</th>\n",
       "      <td>2050</td>\n",
       "      <td>6.4</td>\n",
       "    </tr>\n",
       "    <tr>\n",
       "      <th>price</th>\n",
       "      <td>1377</td>\n",
       "      <td>4.3</td>\n",
       "    </tr>\n",
       "    <tr>\n",
       "      <th>specs</th>\n",
       "      <td>670</td>\n",
       "      <td>2.1</td>\n",
       "    </tr>\n",
       "    <tr>\n",
       "      <th>tags</th>\n",
       "      <td>163</td>\n",
       "      <td>0.5</td>\n",
       "    </tr>\n",
       "    <tr>\n",
       "      <th>id</th>\n",
       "      <td>2</td>\n",
       "      <td>0.0</td>\n",
       "    </tr>\n",
       "    <tr>\n",
       "      <th>reviews_url</th>\n",
       "      <td>2</td>\n",
       "      <td>0.0</td>\n",
       "    </tr>\n",
       "    <tr>\n",
       "      <th>app_name</th>\n",
       "      <td>2</td>\n",
       "      <td>0.0</td>\n",
       "    </tr>\n",
       "  </tbody>\n",
       "</table>\n",
       "</div>"
      ],
      "text/plain": [
       "                Total  Percent\n",
       "discount_price  31910     99.3\n",
       "metascore       29528     91.9\n",
       "publisher        8062     25.1\n",
       "sentiment        7182     22.4\n",
       "developer        3299     10.3\n",
       "genres           3283     10.2\n",
       "release_date     2067      6.4\n",
       "title            2050      6.4\n",
       "price            1377      4.3\n",
       "specs             670      2.1\n",
       "tags              163      0.5\n",
       "id                  2      0.0\n",
       "reviews_url         2      0.0\n",
       "app_name            2      0.0"
      ]
     },
     "execution_count": 13,
     "metadata": {},
     "output_type": "execute_result"
    }
   ],
   "source": [
    "#Valores faltantes\n",
    "missing=games.isna().sum()/len(reviews)*100\n",
    "#se crea otra serie para usar como variable independiente.\n",
    "columnas=games.columns\n",
    "\n",
    "##Gráfico\n",
    "sns.barplot(y=columnas, x = missing, palette=\"rocket\")\n",
    "plt.title(\"Gráfico VII: Valores Faltantes\",fontsize=18)\n",
    "plt.xlabel(\"Cantidad\",fontsize=14)\n",
    "plt.ylabel(\"Columnas\",fontsize=14)\n",
    "ax = plt.axes()\n",
    "plt.grid(True,color='grey', linestyle='--', linewidth=0.5)\n",
    "ax.set_axisbelow(True)\n",
    "plt.show()\n",
    "\n",
    "def missing_percentage(df):\n",
    "    total = games.isnull().sum().sort_values(ascending = False)[games.isnull().sum().sort_values(ascending = False) != 0]\n",
    "    percent = round(games.isnull().sum().sort_values(ascending = False)/len(df)*100,2)[round(games.isnull().sum().sort_values(ascending = False)/len(games)*100,2) != 0]\n",
    "    return pd.concat([total, percent], axis=1, keys=['Total','Percent'])\n",
    "missing_percentage(games)"
   ]
  },
  {
   "cell_type": "markdown",
   "metadata": {},
   "source": [
    "##  Selección de columnas relevantes"
   ]
  },
  {
   "cell_type": "code",
   "execution_count": 14,
   "metadata": {
    "ExecuteTime": {
     "end_time": "2021-02-03T13:12:05.534355Z",
     "start_time": "2021-02-03T13:12:05.507426Z"
    }
   },
   "outputs": [
    {
     "data": {
      "text/html": [
       "<div>\n",
       "<style scoped>\n",
       "    .dataframe tbody tr th:only-of-type {\n",
       "        vertical-align: middle;\n",
       "    }\n",
       "\n",
       "    .dataframe tbody tr th {\n",
       "        vertical-align: top;\n",
       "    }\n",
       "\n",
       "    .dataframe thead th {\n",
       "        text-align: right;\n",
       "    }\n",
       "</style>\n",
       "<table border=\"1\" class=\"dataframe\">\n",
       "  <thead>\n",
       "    <tr style=\"text-align: right;\">\n",
       "      <th></th>\n",
       "      <th>id</th>\n",
       "      <th>app_name</th>\n",
       "      <th>title</th>\n",
       "      <th>developer</th>\n",
       "      <th>publisher</th>\n",
       "      <th>sentiment</th>\n",
       "      <th>release_date</th>\n",
       "      <th>genres</th>\n",
       "      <th>specs</th>\n",
       "      <th>tags</th>\n",
       "      <th>price</th>\n",
       "    </tr>\n",
       "  </thead>\n",
       "  <tbody>\n",
       "    <tr>\n",
       "      <th>0</th>\n",
       "      <td>761140.0</td>\n",
       "      <td>Lost Summoner Kitty</td>\n",
       "      <td>Lost Summoner Kitty</td>\n",
       "      <td>Kotoshiro</td>\n",
       "      <td>Kotoshiro</td>\n",
       "      <td>NaN</td>\n",
       "      <td>2018-01-04</td>\n",
       "      <td>['Action', 'Casual', 'Indie', 'Simulation', 'S...</td>\n",
       "      <td>['Single-player']</td>\n",
       "      <td>['Strategy', 'Action', 'Indie', 'Casual', 'Sim...</td>\n",
       "      <td>4.99</td>\n",
       "    </tr>\n",
       "    <tr>\n",
       "      <th>1</th>\n",
       "      <td>643980.0</td>\n",
       "      <td>Ironbound</td>\n",
       "      <td>Ironbound</td>\n",
       "      <td>Secret Level SRL</td>\n",
       "      <td>Making Fun, Inc.</td>\n",
       "      <td>Mostly Positive</td>\n",
       "      <td>2018-01-04</td>\n",
       "      <td>['Free to Play', 'Indie', 'RPG', 'Strategy']</td>\n",
       "      <td>['Single-player', 'Multi-player', 'Online Mult...</td>\n",
       "      <td>['Free to Play', 'Strategy', 'Indie', 'RPG', '...</td>\n",
       "      <td>Free To Play</td>\n",
       "    </tr>\n",
       "    <tr>\n",
       "      <th>2</th>\n",
       "      <td>670290.0</td>\n",
       "      <td>Real Pool 3D - Poolians</td>\n",
       "      <td>Real Pool 3D - Poolians</td>\n",
       "      <td>Poolians.com</td>\n",
       "      <td>Poolians.com</td>\n",
       "      <td>Mostly Positive</td>\n",
       "      <td>2017-07-24</td>\n",
       "      <td>['Casual', 'Free to Play', 'Indie', 'Simulatio...</td>\n",
       "      <td>['Single-player', 'Multi-player', 'Online Mult...</td>\n",
       "      <td>['Free to Play', 'Simulation', 'Sports', 'Casu...</td>\n",
       "      <td>Free to Play</td>\n",
       "    </tr>\n",
       "    <tr>\n",
       "      <th>3</th>\n",
       "      <td>767400.0</td>\n",
       "      <td>弹炸人2222</td>\n",
       "      <td>弹炸人2222</td>\n",
       "      <td>彼岸领域</td>\n",
       "      <td>彼岸领域</td>\n",
       "      <td>NaN</td>\n",
       "      <td>2017-12-07</td>\n",
       "      <td>['Action', 'Adventure', 'Casual']</td>\n",
       "      <td>['Single-player']</td>\n",
       "      <td>['Action', 'Adventure', 'Casual']</td>\n",
       "      <td>0.99</td>\n",
       "    </tr>\n",
       "    <tr>\n",
       "      <th>4</th>\n",
       "      <td>773570.0</td>\n",
       "      <td>Log Challenge</td>\n",
       "      <td>NaN</td>\n",
       "      <td>NaN</td>\n",
       "      <td>NaN</td>\n",
       "      <td>NaN</td>\n",
       "      <td>NaN</td>\n",
       "      <td>NaN</td>\n",
       "      <td>['Single-player', 'Full controller support', '...</td>\n",
       "      <td>['Action', 'Indie', 'Casual', 'Sports']</td>\n",
       "      <td>2.99</td>\n",
       "    </tr>\n",
       "  </tbody>\n",
       "</table>\n",
       "</div>"
      ],
      "text/plain": [
       "        id                 app_name                    title  \\\n",
       "0 761140.0      Lost Summoner Kitty      Lost Summoner Kitty   \n",
       "1 643980.0                Ironbound                Ironbound   \n",
       "2 670290.0  Real Pool 3D - Poolians  Real Pool 3D - Poolians   \n",
       "3 767400.0                  弹炸人2222                  弹炸人2222   \n",
       "4 773570.0            Log Challenge                      NaN   \n",
       "\n",
       "          developer         publisher        sentiment release_date  \\\n",
       "0         Kotoshiro         Kotoshiro              NaN   2018-01-04   \n",
       "1  Secret Level SRL  Making Fun, Inc.  Mostly Positive   2018-01-04   \n",
       "2      Poolians.com      Poolians.com  Mostly Positive   2017-07-24   \n",
       "3              彼岸领域              彼岸领域              NaN   2017-12-07   \n",
       "4               NaN               NaN              NaN          NaN   \n",
       "\n",
       "                                              genres  \\\n",
       "0  ['Action', 'Casual', 'Indie', 'Simulation', 'S...   \n",
       "1       ['Free to Play', 'Indie', 'RPG', 'Strategy']   \n",
       "2  ['Casual', 'Free to Play', 'Indie', 'Simulatio...   \n",
       "3                  ['Action', 'Adventure', 'Casual']   \n",
       "4                                                NaN   \n",
       "\n",
       "                                               specs  \\\n",
       "0                                  ['Single-player']   \n",
       "1  ['Single-player', 'Multi-player', 'Online Mult...   \n",
       "2  ['Single-player', 'Multi-player', 'Online Mult...   \n",
       "3                                  ['Single-player']   \n",
       "4  ['Single-player', 'Full controller support', '...   \n",
       "\n",
       "                                                tags         price  \n",
       "0  ['Strategy', 'Action', 'Indie', 'Casual', 'Sim...          4.99  \n",
       "1  ['Free to Play', 'Strategy', 'Indie', 'RPG', '...  Free To Play  \n",
       "2  ['Free to Play', 'Simulation', 'Sports', 'Casu...  Free to Play  \n",
       "3                  ['Action', 'Adventure', 'Casual']          0.99  \n",
       "4            ['Action', 'Indie', 'Casual', 'Sports']          2.99  "
      ]
     },
     "execution_count": 14,
     "metadata": {},
     "output_type": "execute_result"
    }
   ],
   "source": [
    "games=games[['id','app_name','title','developer','publisher','sentiment','release_date','genres','specs','tags','price']]\n",
    "games.head()"
   ]
  },
  {
   "cell_type": "markdown",
   "metadata": {},
   "source": [
    "### 1-¿Cuántos juegos hay?"
   ]
  },
  {
   "cell_type": "code",
   "execution_count": 15,
   "metadata": {
    "ExecuteTime": {
     "end_time": "2021-02-03T13:12:05.570260Z",
     "start_time": "2021-02-03T13:12:05.535361Z"
    }
   },
   "outputs": [
    {
     "name": "stdout",
     "output_type": "stream",
     "text": [
      "(32133, 10)\n"
     ]
    },
    {
     "data": {
      "text/html": [
       "<div>\n",
       "<style scoped>\n",
       "    .dataframe tbody tr th:only-of-type {\n",
       "        vertical-align: middle;\n",
       "    }\n",
       "\n",
       "    .dataframe tbody tr th {\n",
       "        vertical-align: top;\n",
       "    }\n",
       "\n",
       "    .dataframe thead th {\n",
       "        text-align: right;\n",
       "    }\n",
       "</style>\n",
       "<table border=\"1\" class=\"dataframe\">\n",
       "  <thead>\n",
       "    <tr style=\"text-align: right;\">\n",
       "      <th></th>\n",
       "      <th>app_name</th>\n",
       "      <th>title</th>\n",
       "      <th>developer</th>\n",
       "      <th>publisher</th>\n",
       "      <th>sentiment</th>\n",
       "      <th>release_date</th>\n",
       "      <th>genres</th>\n",
       "      <th>specs</th>\n",
       "      <th>tags</th>\n",
       "      <th>price</th>\n",
       "    </tr>\n",
       "    <tr>\n",
       "      <th>product_id</th>\n",
       "      <th></th>\n",
       "      <th></th>\n",
       "      <th></th>\n",
       "      <th></th>\n",
       "      <th></th>\n",
       "      <th></th>\n",
       "      <th></th>\n",
       "      <th></th>\n",
       "      <th></th>\n",
       "      <th></th>\n",
       "    </tr>\n",
       "  </thead>\n",
       "  <tbody>\n",
       "    <tr>\n",
       "      <th>761140</th>\n",
       "      <td>Lost Summoner Kitty</td>\n",
       "      <td>Lost Summoner Kitty</td>\n",
       "      <td>Kotoshiro</td>\n",
       "      <td>Kotoshiro</td>\n",
       "      <td>NaN</td>\n",
       "      <td>2018-01-04</td>\n",
       "      <td>['Action', 'Casual', 'Indie', 'Simulation', 'S...</td>\n",
       "      <td>['Single-player']</td>\n",
       "      <td>['Strategy', 'Action', 'Indie', 'Casual', 'Sim...</td>\n",
       "      <td>4.99</td>\n",
       "    </tr>\n",
       "    <tr>\n",
       "      <th>643980</th>\n",
       "      <td>Ironbound</td>\n",
       "      <td>Ironbound</td>\n",
       "      <td>Secret Level SRL</td>\n",
       "      <td>Making Fun, Inc.</td>\n",
       "      <td>Mostly Positive</td>\n",
       "      <td>2018-01-04</td>\n",
       "      <td>['Free to Play', 'Indie', 'RPG', 'Strategy']</td>\n",
       "      <td>['Single-player', 'Multi-player', 'Online Mult...</td>\n",
       "      <td>['Free to Play', 'Strategy', 'Indie', 'RPG', '...</td>\n",
       "      <td>Free To Play</td>\n",
       "    </tr>\n",
       "    <tr>\n",
       "      <th>670290</th>\n",
       "      <td>Real Pool 3D - Poolians</td>\n",
       "      <td>Real Pool 3D - Poolians</td>\n",
       "      <td>Poolians.com</td>\n",
       "      <td>Poolians.com</td>\n",
       "      <td>Mostly Positive</td>\n",
       "      <td>2017-07-24</td>\n",
       "      <td>['Casual', 'Free to Play', 'Indie', 'Simulatio...</td>\n",
       "      <td>['Single-player', 'Multi-player', 'Online Mult...</td>\n",
       "      <td>['Free to Play', 'Simulation', 'Sports', 'Casu...</td>\n",
       "      <td>Free to Play</td>\n",
       "    </tr>\n",
       "    <tr>\n",
       "      <th>767400</th>\n",
       "      <td>弹炸人2222</td>\n",
       "      <td>弹炸人2222</td>\n",
       "      <td>彼岸领域</td>\n",
       "      <td>彼岸领域</td>\n",
       "      <td>NaN</td>\n",
       "      <td>2017-12-07</td>\n",
       "      <td>['Action', 'Adventure', 'Casual']</td>\n",
       "      <td>['Single-player']</td>\n",
       "      <td>['Action', 'Adventure', 'Casual']</td>\n",
       "      <td>0.99</td>\n",
       "    </tr>\n",
       "    <tr>\n",
       "      <th>773570</th>\n",
       "      <td>Log Challenge</td>\n",
       "      <td>NaN</td>\n",
       "      <td>NaN</td>\n",
       "      <td>NaN</td>\n",
       "      <td>NaN</td>\n",
       "      <td>NaN</td>\n",
       "      <td>NaN</td>\n",
       "      <td>['Single-player', 'Full controller support', '...</td>\n",
       "      <td>['Action', 'Indie', 'Casual', 'Sports']</td>\n",
       "      <td>2.99</td>\n",
       "    </tr>\n",
       "  </tbody>\n",
       "</table>\n",
       "</div>"
      ],
      "text/plain": [
       "                           app_name                    title  \\\n",
       "product_id                                                     \n",
       "761140          Lost Summoner Kitty      Lost Summoner Kitty   \n",
       "643980                    Ironbound                Ironbound   \n",
       "670290      Real Pool 3D - Poolians  Real Pool 3D - Poolians   \n",
       "767400                      弹炸人2222                  弹炸人2222   \n",
       "773570                Log Challenge                      NaN   \n",
       "\n",
       "                   developer         publisher        sentiment release_date  \\\n",
       "product_id                                                                     \n",
       "761140             Kotoshiro         Kotoshiro              NaN   2018-01-04   \n",
       "643980      Secret Level SRL  Making Fun, Inc.  Mostly Positive   2018-01-04   \n",
       "670290          Poolians.com      Poolians.com  Mostly Positive   2017-07-24   \n",
       "767400                  彼岸领域              彼岸领域              NaN   2017-12-07   \n",
       "773570                   NaN               NaN              NaN          NaN   \n",
       "\n",
       "                                                       genres  \\\n",
       "product_id                                                      \n",
       "761140      ['Action', 'Casual', 'Indie', 'Simulation', 'S...   \n",
       "643980           ['Free to Play', 'Indie', 'RPG', 'Strategy']   \n",
       "670290      ['Casual', 'Free to Play', 'Indie', 'Simulatio...   \n",
       "767400                      ['Action', 'Adventure', 'Casual']   \n",
       "773570                                                    NaN   \n",
       "\n",
       "                                                        specs  \\\n",
       "product_id                                                      \n",
       "761140                                      ['Single-player']   \n",
       "643980      ['Single-player', 'Multi-player', 'Online Mult...   \n",
       "670290      ['Single-player', 'Multi-player', 'Online Mult...   \n",
       "767400                                      ['Single-player']   \n",
       "773570      ['Single-player', 'Full controller support', '...   \n",
       "\n",
       "                                                         tags         price  \n",
       "product_id                                                                   \n",
       "761140      ['Strategy', 'Action', 'Indie', 'Casual', 'Sim...          4.99  \n",
       "643980      ['Free to Play', 'Strategy', 'Indie', 'RPG', '...  Free To Play  \n",
       "670290      ['Free to Play', 'Simulation', 'Sports', 'Casu...  Free to Play  \n",
       "767400                      ['Action', 'Adventure', 'Casual']          0.99  \n",
       "773570                ['Action', 'Indie', 'Casual', 'Sports']          2.99  "
      ]
     },
     "execution_count": 15,
     "metadata": {},
     "output_type": "execute_result"
    }
   ],
   "source": [
    "games.rename(columns={'id':'product_id'},inplace=True)\n",
    "games.dropna(subset=['product_id'], how='all', inplace=True)\n",
    "games['product_id'] = games['product_id'].astype(np.int32)\n",
    "\n",
    "\n",
    "games.set_index('product_id',inplace=True)\n",
    "print(games.shape)\n",
    "games.head()"
   ]
  },
  {
   "cell_type": "markdown",
   "metadata": {},
   "source": [
    "Hay 32133 juegos, mientras que en reviews hay 15474 con comentarios."
   ]
  },
  {
   "cell_type": "markdown",
   "metadata": {},
   "source": [
    "### 2- Es mejor trabajar con app_name y title?"
   ]
  },
  {
   "cell_type": "code",
   "execution_count": 16,
   "metadata": {
    "ExecuteTime": {
     "end_time": "2021-02-03T13:12:05.634126Z",
     "start_time": "2021-02-03T13:12:05.572254Z"
    }
   },
   "outputs": [
    {
     "name": "stdout",
     "output_type": "stream",
     "text": [
      "app_name: Soundtrack                                 3\n",
      "WARZONE                                    2\n",
      "Escape Room                                2\n",
      "Streamline                                 2\n",
      "The Fog                                    2\n",
      "                                          ..\n",
      "Magic: The Gathering - 2013 Deck Pack 3    1\n",
      "Paintball 707                              1\n",
      "FTC Workshop Tool                          1\n",
      "GGXrd System Voice - POTEMKIN              1\n",
      "Voice Splicer Plugin                       1\n",
      "Name: app_name, Length: 32094, dtype: int64\n",
      "titles:  Soundtrack                                 3\n",
      "WARZONE                                    2\n",
      "Escape Room                                2\n",
      "Streamline                                 2\n",
      "The Fog                                    2\n",
      "                                          ..\n",
      "Magic: The Gathering - 2013 Deck Pack 3    1\n",
      "Paintball 707                              1\n",
      "FTC Workshop Tool                          1\n",
      "GGXrd System Voice - POTEMKIN              1\n",
      "Voice Splicer Plugin                       1\n",
      "Name: app_name, Length: 32094, dtype: int64\n"
     ]
    }
   ],
   "source": [
    "app_name=games['app_name'].value_counts()\n",
    "print('app_name:', app_name)\n",
    "\n",
    "title=games['app_name'].value_counts()\n",
    "print('titles: ', title)\n",
    "\n",
    "#como se vio anteriormente, existen valores faltantes que serán completados\n",
    "games['app_name'] = games['app_name'].fillna(games['title'])\n",
    "games['title'] = games['title'].fillna(games['app_name'])"
   ]
  },
  {
   "cell_type": "markdown",
   "metadata": {},
   "source": [
    "**App name y title tienen la misma información, es mejor trabajar con app_name porque posee menos valores faltantes**"
   ]
  },
  {
   "cell_type": "markdown",
   "metadata": {},
   "source": [
    "### 3 - Es mejor trabajar con developer o publisher?"
   ]
  },
  {
   "cell_type": "code",
   "execution_count": 17,
   "metadata": {
    "ExecuteTime": {
     "end_time": "2021-02-03T13:12:05.663045Z",
     "start_time": "2021-02-03T13:12:05.635085Z"
    }
   },
   "outputs": [
    {
     "name": "stdout",
     "output_type": "stream",
     "text": [
      "developers:  Ubisoft - San Francisco       1259\n",
      "SmiteWorks USA, LLC            813\n",
      "Dovetail Games                 253\n",
      "KOEI TECMO GAMES CO., LTD.     232\n",
      "Paradox Development Studio     156\n",
      "                              ... \n",
      "Zadzen Games Ltd.                1\n",
      "Manyland                         1\n",
      "Timuz Games                      1\n",
      "Back To Basics Gaming            1\n",
      "Stegosoft Games                  1\n",
      "Name: developer, Length: 11011, dtype: int64\n",
      "publishers:  Ubisoft - San Francisco    1081\n",
      "SmiteWorks USA, LLC         813\n",
      "Ubisoft                     404\n",
      "Dovetail Games - Trains     360\n",
      "Degica                      289\n",
      "                           ... \n",
      "Avenged Sevenfold             1\n",
      "GeexGames                     1\n",
      "Andy Jurko (Match Gems)       1\n",
      "SMU Guildhall                 1\n",
      "Stegosoft Games               1\n",
      "Name: publisher, Length: 8783, dtype: int64\n"
     ]
    }
   ],
   "source": [
    "games['developer'] = games['developer'].fillna(games['publisher'])\n",
    "games['publisher'] = games['publisher'].fillna(games['developer'])\n",
    "\n",
    "developers=games['developer'].value_counts()\n",
    "print('developers: ', developers)\n",
    "\n",
    "publishers=games['publisher'].value_counts()\n",
    "print('publishers: ', publishers)"
   ]
  },
  {
   "cell_type": "markdown",
   "metadata": {},
   "source": [
    "Publisher y developer poseen la misma información, es preferible trabajar con developer porque tiene menos valores faltntes."
   ]
  },
  {
   "cell_type": "markdown",
   "metadata": {},
   "source": [
    "### 4- Cuándo se publicaron los juegos?"
   ]
  },
  {
   "cell_type": "code",
   "execution_count": 18,
   "metadata": {
    "ExecuteTime": {
     "end_time": "2021-02-03T13:12:06.013103Z",
     "start_time": "2021-02-03T13:12:05.665005Z"
    }
   },
   "outputs": [
    {
     "data": {
      "image/png": "[encoded data removed]",
      "text/plain": [
       "<Figure size 1080x360 with 1 Axes>"
      ]
     },
     "metadata": {
      "needs_background": "light"
     },
     "output_type": "display_data"
    },
    {
     "data": {
      "text/plain": [
       "count   7733533.0\n",
       "mean        235.4\n",
       "std         483.7\n",
       "min           1.0\n",
       "25%          45.0\n",
       "50%         110.0\n",
       "75%         245.0\n",
       "max       18188.0\n",
       "Name: products, dtype: float64"
      ]
     },
     "execution_count": 18,
     "metadata": {},
     "output_type": "execute_result"
    }
   ],
   "source": [
    "#Boxplot Rooms\n",
    "fig=plt.figure(figsize=(15,5))\n",
    "plt.suptitle('Gráfico VIII: Cantidad de Productos al comentar',fontsize=20, ha='center')\n",
    "\n",
    "games['release_date'].value_counts().sort_index().plot(kind='line', figsize=(15,5)) # ver layout#ax2.set_ylabel('Rooms',fontsize=16)\n",
    "fig.subplots_adjust(top=0.8)\n",
    "plt.show()\n",
    "\n",
    "reviews.products.describe()"
   ]
  },
  {
   "cell_type": "markdown",
   "metadata": {},
   "source": [
    "**Existe una tendencia a creciente a la publicación de juegos.**"
   ]
  },
  {
   "cell_type": "markdown",
   "metadata": {},
   "source": [
    "### 5 - Breve exploración del contenido de cada juego."
   ]
  },
  {
   "cell_type": "code",
   "execution_count": 19,
   "metadata": {
    "ExecuteTime": {
     "end_time": "2021-02-03T13:12:06.041025Z",
     "start_time": "2021-02-03T13:12:06.015068Z"
    }
   },
   "outputs": [
    {
     "name": "stdout",
     "output_type": "stream",
     "text": [
      "['Action']                                                           1880\n",
      "['Action', 'Indie']                                                  1650\n",
      "['Simulation']                                                       1396\n",
      "['Casual', 'Simulation']                                             1359\n",
      "['Action', 'Adventure', 'Indie']                                     1082\n",
      "                                                                     ... \n",
      "['Action', 'Early Access', 'Free to Play', 'Strategy']                  1\n",
      "['Adventure', 'Free to Play', 'Indie', 'Simulation']                    1\n",
      "['Action', 'Indie', 'Racing', 'Simulation', 'Sports', 'Strategy']       1\n",
      "['Free to Play', 'RPG', 'Simulation']                                   1\n",
      "['Action', 'Adventure', 'Simulation', 'Strategy']                       1\n",
      "Name: genres, Length: 883, dtype: int64\n",
      "['Single-player']                                                                                                                                                                                                                                                                                          2794\n",
      "['Single-player', 'Downloadable Content']                                                                                                                                                                                                                                                                  1204\n",
      "['Single-player', 'Shared/Split Screen', 'Downloadable Content', 'Steam Achievements', 'Steam Trading Cards', 'Partial Controller Support', 'Steam Cloud', 'Steam Leaderboards']                                                                                                                           1015\n",
      "['Single-player', 'Steam Achievements']                                                                                                                                                                                                                                                                     824\n",
      "['Multi-player', 'Co-op', 'Cross-Platform Multiplayer', 'Downloadable Content']                                                                                                                                                                                                                             756\n",
      "                                                                                                                                                                                                                                                                                                           ... \n",
      "['Single-player', 'Multi-player', 'Cross-Platform Multiplayer', 'Steam Trading Cards', 'Steam Turn Notifications']                                                                                                                                                                                            1\n",
      "['Single-player', 'Multi-player', 'Online Multi-Player', 'Co-op', 'Online Co-op', 'Steam Achievements', 'Full controller support', 'Steam Trading Cards', 'Steam Cloud', 'Stats', 'Includes level editor']                                                                                                    1\n",
      "['Single-player', 'Multi-player', 'Online Multi-Player', 'Local Multi-Player', 'Shared/Split Screen', 'Steam Achievements', 'Full controller support', 'Steam Trading Cards', 'Steam Cloud', 'Steam Leaderboards', 'Includes level editor', 'HTC Vive', 'Oculus Rift', 'Gamepad', 'Seated', 'Standing']       1\n",
      "['Single-player', 'Multi-player', 'Online Multi-Player', 'MMO', 'In-App Purchases']                                                                                                                                                                                                                           1\n",
      "['Single-player', 'Multi-player', 'Online Multi-Player', 'Online Co-op', 'Cross-Platform Multiplayer', 'HTC Vive', 'Tracked Motion Controllers', 'Seated', 'Standing']                                                                                                                                        1\n",
      "Name: specs, Length: 4649, dtype: int64\n",
      "['Casual', 'Simulation']                                                                                                                                                                                                                                                     1292\n",
      "['Action']                                                                                                                                                                                                                                                                   1105\n",
      "['Simulation']                                                                                                                                                                                                                                                               1085\n",
      "['Strategy', 'RPG', 'Indie']                                                                                                                                                                                                                                                  632\n",
      "['Strategy']                                                                                                                                                                                                                                                                  625\n",
      "                                                                                                                                                                                                                                                                             ... \n",
      "['Early Access', 'Adventure', 'Casual', 'Indie', 'Simulation', 'Pixel Graphics', 'Trains', 'Retro', 'Atmospheric']                                                                                                                                                              1\n",
      "['Early Access', 'Survival', 'Adventure', 'Open World', 'Action', 'Indie', 'Crafting', 'Singleplayer', 'Co-op']                                                                                                                                                                 1\n",
      "['Adventure', 'Casual', 'Sports', 'VR']                                                                                                                                                                                                                                         1\n",
      "['RPG', 'Rogue-like', 'Indie', 'JRPG', '2D', 'Anime', 'Turn-Based', 'Rogue-lite', 'Singleplayer', 'Procedural Generation', 'Great Soundtrack', 'Perma Death', 'Pixel Graphics', 'Fantasy', 'Adventure', 'RPGMaker', 'Replay Value', 'Side Scroller', 'Retro', 'Top-Down']       1\n",
      "['Tower Defense', 'Strategy', 'Indie', 'Action', 'Sci-fi', 'Singleplayer', 'Pixel Graphics', 'Retro', '2D', 'Difficult', 'Top-Down', 'Arcade', 'Aliens', 'RTS', 'Sandbox']                                                                                                      1\n",
      "Name: tags, Length: 15395, dtype: int64\n"
     ]
    }
   ],
   "source": [
    "genres=games['genres'].value_counts()\n",
    "print(genres)\n",
    "\n",
    "specs=games['specs'].value_counts()\n",
    "print(specs)\n",
    "\n",
    "tags=games['tags'].value_counts()\n",
    "print(tags)"
   ]
  },
  {
   "cell_type": "markdown",
   "metadata": {},
   "source": [
    "**Dado que el sistema de recomendación no es de contenido, esta variable no se trabajará en detalle.**"
   ]
  },
  {
   "cell_type": "markdown",
   "metadata": {},
   "source": [
    "### 6 - Cómo son los comentarios sobre los juegos? "
   ]
  },
  {
   "cell_type": "code",
   "execution_count": 20,
   "metadata": {
    "ExecuteTime": {
     "end_time": "2021-02-03T13:12:06.235512Z",
     "start_time": "2021-02-03T13:12:06.041996Z"
    }
   },
   "outputs": [
    {
     "data": {
      "image/png": "[encoded data removed]",
      "text/plain": [
       "<Figure size 1080x360 with 1 Axes>"
      ]
     },
     "metadata": {
      "needs_background": "light"
     },
     "output_type": "display_data"
    }
   ],
   "source": [
    "#Boxplot Rooms\n",
    "fig=plt.figure(figsize=(15,5))\n",
    "plt.suptitle('Gráfico IX: Cantidad de Productos al comentar',fontsize=20, ha='center')\n",
    "\n",
    "valoraciones=games['sentiment'].value_counts().plot(kind='bar')\n",
    "fig.subplots_adjust(top=0.8)\n",
    "plt.show()\n",
    "\n",
    "#by_metascore = games.sort_values('metascore',ascending=True)\n",
    "#by_metascore.head(40)"
   ]
  },
  {
   "cell_type": "markdown",
   "metadata": {},
   "source": [
    "Estas dos varibiables indicarían en términos generales las valoraciones de los juegos. Metascore tiene muchos valores faltantes, por lo qie será prioritaria sentiment."
   ]
  },
  {
   "cell_type": "markdown",
   "metadata": {},
   "source": [
    "## **Combinación de Datasets**: "
   ]
  },
  {
   "cell_type": "markdown",
   "metadata": {},
   "source": [
    "**Pregunta Interesante: ¿Existe una relación entre la valoración al comentar y la cantidad de horas jugadas?**"
   ]
  },
  {
   "cell_type": "code",
   "execution_count": 21,
   "metadata": {
    "ExecuteTime": {
     "end_time": "2021-02-03T13:12:16.315806Z",
     "start_time": "2021-02-03T13:12:06.237473Z"
    }
   },
   "outputs": [
    {
     "data": {
      "image/png": "[encoded data removed]",
      "text/plain": [
       "<Figure size 1080x720 with 2 Axes>"
      ]
     },
     "metadata": {
      "needs_background": "light"
     },
     "output_type": "display_data"
    }
   ],
   "source": [
    "#reviews\n",
    "reviews_2=reviews[['user_id','product_id','text','hours']]\n",
    "reviews_2=reviews_2.reset_index(drop=True)\n",
    "\n",
    "#se reaorganizan las columnas\n",
    "games_2=games[['app_name','sentiment']]\n",
    "\n",
    "comb=pd.merge(reviews_2,games_2, on='product_id')\n",
    "\n",
    "grouped=comb.groupby('sentiment').mean().sort_values(('hours'),ascending=False)\n",
    "#print(grouped)\n",
    "\n",
    "#Boxplot Rooms\n",
    "fig=plt.figure(figsize=(15,10))\n",
    "plt.suptitle('Gráfico X: Boxplots Horas Según Sentiment', ha='center')\n",
    "ax1=fig.add_subplot(1,2,1)\n",
    "ax2=fig.add_subplot(1,2,2)\n",
    "sns.boxplot(data = comb, x = \"hours\",y='sentiment',showfliers=True,showmeans=True,meanprops={\"marker\":\"o\",\"markerfacecolor\":\"white\", \"markeredgecolor\":\"black\"}, ax=ax1)\n",
    "\n",
    "sns.boxplot(data = comb, x = \"hours\",y='sentiment',showfliers=False,showmeans=True,meanprops={\"marker\":\"o\",\"markerfacecolor\":\"white\", \"markeredgecolor\":\"black\"}, ax=ax2)\n",
    "ax1.set_title(\"Gráfico X: Horas con Outliers\",fontsize=16)\n",
    "ax2.set_title(\"Gráfico X: Horas sin Outliers\",fontsize=16)\n",
    "ax1.set_xlabel('Hours',fontsize=16)\n",
    "#ax1.set_ylabel('',fontsize=16)\n",
    "ax2.set_xlabel('Hours',fontsize=16)\n",
    "#ax2.set_ylabel('Hours',fontsize=16)\n",
    "fig.subplots_adjust(top=0.9)\n",
    "plt.show()"
   ]
  },
  {
   "cell_type": "markdown",
   "metadata": {},
   "source": [
    "No existen diferencias significativas en cuanto a la cantidad de horas jugadas para productos con valoraciones positivas y negativas, por lo que la variable sentiment no será considerada.\n",
    "El sistema de recomendación se construirá considerando que a los usuarios les gustó un juego cuando jueguen a un determinado producto más que la mediana general que tienen al comentar. Sin embargo, pueden existir reviews positivos que se generen cuando los usuarios juegan menos que la mediana y visceversa (reviews negativos que se realicen a juegos con muchas horas de juego). Lo interesante sería poder analizar el primer caso para tratar de poder incorporarlos al sistema. Sin embargo, como se verá más adelante el dataset está muy desbalanceado, por lo que dicho segundo filtro no será incorporado al sistema de recomendación ya que querremos tomar solo los juegos con mayor cantidad de horas.\n",
    "**Crearemos una nueva columna con la media de la cantidad de horas al realizar los comentarios. Si el valor de la columna horas es igual o mayor que est nuevo feature, consideraremos que el juego le gustó al usuario.**"
   ]
  },
  {
   "cell_type": "code",
   "execution_count": 22,
   "metadata": {
    "ExecuteTime": {
     "end_time": "2021-02-03T13:12:22.661980Z",
     "start_time": "2021-02-03T13:12:16.326807Z"
    }
   },
   "outputs": [
    {
     "data": {
      "text/html": [
       "<div>\n",
       "<style scoped>\n",
       "    .dataframe tbody tr th:only-of-type {\n",
       "        vertical-align: middle;\n",
       "    }\n",
       "\n",
       "    .dataframe tbody tr th {\n",
       "        vertical-align: top;\n",
       "    }\n",
       "\n",
       "    .dataframe thead th {\n",
       "        text-align: right;\n",
       "    }\n",
       "</style>\n",
       "<table border=\"1\" class=\"dataframe\">\n",
       "  <thead>\n",
       "    <tr style=\"text-align: right;\">\n",
       "      <th></th>\n",
       "      <th>user_id</th>\n",
       "      <th>product_id</th>\n",
       "      <th>text</th>\n",
       "      <th>hours</th>\n",
       "      <th>app_name</th>\n",
       "      <th>sentiment</th>\n",
       "      <th>median_hours</th>\n",
       "      <th>implicit_rating</th>\n",
       "    </tr>\n",
       "  </thead>\n",
       "  <tbody>\n",
       "    <tr>\n",
       "      <th>0</th>\n",
       "      <td>76561198159791792</td>\n",
       "      <td>725280</td>\n",
       "      <td>THE WORST GAME I HAVE EVER PLAYED!!! JUST DONT...</td>\n",
       "      <td>0.3</td>\n",
       "      <td>Psi Project</td>\n",
       "      <td>Positive</td>\n",
       "      <td>0.3</td>\n",
       "      <td>1</td>\n",
       "    </tr>\n",
       "    <tr>\n",
       "      <th>1</th>\n",
       "      <td>76561198060686752</td>\n",
       "      <td>328100</td>\n",
       "      <td>A nice game, but better not to get started.\\nT...</td>\n",
       "      <td>3.8</td>\n",
       "      <td>Gunspell - Steam Edition</td>\n",
       "      <td>Mixed</td>\n",
       "      <td>2.9</td>\n",
       "      <td>1</td>\n",
       "    </tr>\n",
       "    <tr>\n",
       "      <th>2</th>\n",
       "      <td>76561198011965360</td>\n",
       "      <td>328100</td>\n",
       "      <td>They do a fantastic job of matching proper gea...</td>\n",
       "      <td>1.3</td>\n",
       "      <td>Gunspell - Steam Edition</td>\n",
       "      <td>Mixed</td>\n",
       "      <td>4.8</td>\n",
       "      <td>0</td>\n",
       "    </tr>\n",
       "    <tr>\n",
       "      <th>3</th>\n",
       "      <td>76561198142240208</td>\n",
       "      <td>328100</td>\n",
       "      <td>Ok graphics and easy game to play. There is ma...</td>\n",
       "      <td>7.1</td>\n",
       "      <td>Gunspell - Steam Edition</td>\n",
       "      <td>Mixed</td>\n",
       "      <td>9.4</td>\n",
       "      <td>0</td>\n",
       "    </tr>\n",
       "    <tr>\n",
       "      <th>4</th>\n",
       "      <td>76561198031283776</td>\n",
       "      <td>328100</td>\n",
       "      <td>Another nice try, but need better balance.</td>\n",
       "      <td>5.5</td>\n",
       "      <td>Gunspell - Steam Edition</td>\n",
       "      <td>Mixed</td>\n",
       "      <td>6.5</td>\n",
       "      <td>0</td>\n",
       "    </tr>\n",
       "    <tr>\n",
       "      <th>...</th>\n",
       "      <td>...</td>\n",
       "      <td>...</td>\n",
       "      <td>...</td>\n",
       "      <td>...</td>\n",
       "      <td>...</td>\n",
       "      <td>...</td>\n",
       "      <td>...</td>\n",
       "      <td>...</td>\n",
       "    </tr>\n",
       "    <tr>\n",
       "      <th>3156572</th>\n",
       "      <td>76561197970986928</td>\n",
       "      <td>518790</td>\n",
       "      <td>A completely unforgettable experience.</td>\n",
       "      <td>11.6</td>\n",
       "      <td>theHunter: Call of the Wild™</td>\n",
       "      <td>Mostly Positive</td>\n",
       "      <td>11.6</td>\n",
       "      <td>1</td>\n",
       "    </tr>\n",
       "    <tr>\n",
       "      <th>3156573</th>\n",
       "      <td>76561198191446304</td>\n",
       "      <td>518790</td>\n",
       "      <td>I would recommend this to any hunter loving fa...</td>\n",
       "      <td>1.3</td>\n",
       "      <td>theHunter: Call of the Wild™</td>\n",
       "      <td>Mostly Positive</td>\n",
       "      <td>59.2</td>\n",
       "      <td>0</td>\n",
       "    </tr>\n",
       "    <tr>\n",
       "      <th>3156574</th>\n",
       "      <td>76561198194088560</td>\n",
       "      <td>518790</td>\n",
       "      <td>It's freaking lit man. Have played quite a bit...</td>\n",
       "      <td>13.9</td>\n",
       "      <td>theHunter: Call of the Wild™</td>\n",
       "      <td>Mostly Positive</td>\n",
       "      <td>103.3</td>\n",
       "      <td>0</td>\n",
       "    </tr>\n",
       "    <tr>\n",
       "      <th>3156575</th>\n",
       "      <td>76561198071850352</td>\n",
       "      <td>518790</td>\n",
       "      <td>If you have a old computer i would not try thi...</td>\n",
       "      <td>0.2</td>\n",
       "      <td>theHunter: Call of the Wild™</td>\n",
       "      <td>Mostly Positive</td>\n",
       "      <td>0.2</td>\n",
       "      <td>1</td>\n",
       "    </tr>\n",
       "    <tr>\n",
       "      <th>3156576</th>\n",
       "      <td>76561198071850352</td>\n",
       "      <td>518790</td>\n",
       "      <td>If you have a old computer i would not try thi...</td>\n",
       "      <td>0.2</td>\n",
       "      <td>theHunter: Call of the Wild™</td>\n",
       "      <td>Mostly Positive</td>\n",
       "      <td>0.2</td>\n",
       "      <td>1</td>\n",
       "    </tr>\n",
       "  </tbody>\n",
       "</table>\n",
       "<p>3156577 rows × 8 columns</p>\n",
       "</div>"
      ],
      "text/plain": [
       "                   user_id  product_id  \\\n",
       "0        76561198159791792      725280   \n",
       "1        76561198060686752      328100   \n",
       "2        76561198011965360      328100   \n",
       "3        76561198142240208      328100   \n",
       "4        76561198031283776      328100   \n",
       "...                    ...         ...   \n",
       "3156572  76561197970986928      518790   \n",
       "3156573  76561198191446304      518790   \n",
       "3156574  76561198194088560      518790   \n",
       "3156575  76561198071850352      518790   \n",
       "3156576  76561198071850352      518790   \n",
       "\n",
       "                                                      text  hours  \\\n",
       "0        THE WORST GAME I HAVE EVER PLAYED!!! JUST DONT...    0.3   \n",
       "1        A nice game, but better not to get started.\\nT...    3.8   \n",
       "2        They do a fantastic job of matching proper gea...    1.3   \n",
       "3        Ok graphics and easy game to play. There is ma...    7.1   \n",
       "4               Another nice try, but need better balance.    5.5   \n",
       "...                                                    ...    ...   \n",
       "3156572             A completely unforgettable experience.   11.6   \n",
       "3156573  I would recommend this to any hunter loving fa...    1.3   \n",
       "3156574  It's freaking lit man. Have played quite a bit...   13.9   \n",
       "3156575  If you have a old computer i would not try thi...    0.2   \n",
       "3156576  If you have a old computer i would not try thi...    0.2   \n",
       "\n",
       "                             app_name        sentiment  median_hours  \\\n",
       "0                         Psi Project         Positive           0.3   \n",
       "1            Gunspell - Steam Edition            Mixed           2.9   \n",
       "2            Gunspell - Steam Edition            Mixed           4.8   \n",
       "3            Gunspell - Steam Edition            Mixed           9.4   \n",
       "4            Gunspell - Steam Edition            Mixed           6.5   \n",
       "...                               ...              ...           ...   \n",
       "3156572  theHunter: Call of the Wild™  Mostly Positive          11.6   \n",
       "3156573  theHunter: Call of the Wild™  Mostly Positive          59.2   \n",
       "3156574  theHunter: Call of the Wild™  Mostly Positive         103.3   \n",
       "3156575  theHunter: Call of the Wild™  Mostly Positive           0.2   \n",
       "3156576  theHunter: Call of the Wild™  Mostly Positive           0.2   \n",
       "\n",
       "         implicit_rating  \n",
       "0                      1  \n",
       "1                      1  \n",
       "2                      0  \n",
       "3                      0  \n",
       "4                      0  \n",
       "...                  ...  \n",
       "3156572                1  \n",
       "3156573                0  \n",
       "3156574                0  \n",
       "3156575                1  \n",
       "3156576                1  \n",
       "\n",
       "[3156577 rows x 8 columns]"
      ]
     },
     "execution_count": 22,
     "metadata": {},
     "output_type": "execute_result"
    }
   ],
   "source": [
    "#mapeo\n",
    "grouped=comb.groupby('user_id').median().sort_values(('hours'),ascending=False).head(20)\n",
    "#reorganizacion de columnas\n",
    "\n",
    "#grouped=reviews.groupby('user_id').mean().sort_values(('price_m2'),ascending=False).head(20)\n",
    "grouped\n",
    "encod_type = comb.groupby('user_id')['hours'].median()\n",
    "comb.loc[:, 'median_hours'] = comb['user_id'].map(encod_type)\n",
    "\n",
    "comb.dropna(subset=['user_id'], how='all', inplace=True)\n",
    "comb['implicit_rating'] = np.where(comb['hours']>=comb['median_hours'], 1, 0)\n",
    "comb['implicit_rating'] = comb['implicit_rating'].astype(np.uint8)\n",
    "#comb=comb[['user_id','implicit_rating','product_id']]\n",
    "comb\n",
    "comb = comb.reset_index(drop=True)\n",
    "comb\n",
    "#transformación de los tipos de datos\n",
    "#reviews['hours'] = reviews['hours'].astype(np.float64)\n",
    "comb['user_id'] = comb['user_id'].astype(np.int64)\n",
    "comb['product_id'] = comb['product_id'].astype(np.uint32)\n",
    "comb.dtypes\n",
    "comb\n"
   ]
  },
  {
   "cell_type": "markdown",
   "metadata": {},
   "source": [
    "# **B - Machine Learning**"
   ]
  },
  {
   "cell_type": "markdown",
   "metadata": {},
   "source": [
    "14.5.1 Semejanza entre usuarios (User User)\n",
    "Supongamos que queremos estimar las calificaciones que le faltan al usuario “i”.\n",
    "Lo que hacemos es buscar los usuarios mas similares a “i” y luego estimar las\n",
    "calificaciones faltantes en base a un promedio ponderado de las calificaciones\n",
    "de los dem´as usuarios ponderadas de acuerdo a la semejanza que tengan con\n",
    "nuestro usuario “i”.\n",
    "Necesitamos entonces una funci´on de semejanza entre usuarios sim(u,v) que\n",
    "calcule cu´an similares son dos usuarios en base a las calificaciones que han realizado los mismos. Cuanto m´as parecidas sean estas calificaciones m´as parecidos\n",
    "ser´an los usuarios. Usuarios que han calificado conjuntos de ´ıtems disjuntos\n",
    "tendr´an semejanza nula.\n",
    "Una de las funciones m´as usadas para calcular la semejanza es la funci´on de\n",
    "correlaci´on de Pearson:\n",
    "sim(x, y) =\n",
    "P\n",
    "s∈Sxy\n",
    "(rxs−rx)(rys−ry)\n",
    "qP\n",
    "s∈Sxy\n",
    "(rxs−rx)\n",
    "2\n",
    "qP\n",
    "s∈Sxy\n",
    "(rys−ry)\n",
    "2\n",
    "(14.11)\n",
    "Donde rx es el promedio de calificaciones del usuario x.\n",
    "Notemos que si los promedios de calificaciones fueran cero entonces la funci´on\n",
    "de correlaci´on de Pearson es el coseno entre x e y (dividido la productoria\n",
    "de sus normas). En muchos casos se empieza entonces por centrar todas las\n",
    "calificaciones de los usuarios en cero, es decir restarle a cada calificaci´on el\n",
    "promedio del usuario."
   ]
  },
  {
   "cell_type": "code",
   "execution_count": 23,
   "metadata": {
    "ExecuteTime": {
     "end_time": "2021-02-03T13:12:26.128187Z",
     "start_time": "2021-02-03T13:12:22.664965Z"
    }
   },
   "outputs": [],
   "source": [
    "\n",
    "#comenzamos borrando los valores nan de user id\n",
    "encod_type = reviews.groupby('user_id')['hours'].median()\n",
    "reviews.loc[:, 'median_hours'] = reviews['user_id'].map(encod_type)\n",
    "reviews.dropna(subset=['user_id'], how='all', inplace=True)\n",
    "\n",
    "reviews['implicit_rating'] = np.where(reviews['hours']>=reviews['median_hours'], 1, 0)\n",
    "reviews['implicit_rating'] = reviews['implicit_rating'].astype(np.uint8)\n",
    "\n",
    "reviews=reviews[['user_id','implicit_rating','product_id']]\n",
    "reviews = reviews.reset_index(drop=True)\n",
    "#transformación de los tipos de datos\n",
    "#reviews['hours'] = reviews['hours'].astype(np.float64)\n",
    "reviews['user_id'] = reviews['user_id'].astype(np.int64)\n",
    "reviews['product_id'] = reviews['product_id'].astype(np.uint32)\n",
    "\n",
    "games=games[['app_name']]"
   ]
  },
  {
   "cell_type": "markdown",
   "metadata": {},
   "source": [
    "### Benchmark - SVD"
   ]
  },
  {
   "cell_type": "code",
   "execution_count": 24,
   "metadata": {
    "ExecuteTime": {
     "end_time": "2021-02-03T13:12:26.134172Z",
     "start_time": "2021-02-03T13:12:26.129184Z"
    }
   },
   "outputs": [],
   "source": [
    "reader = Reader(rating_scale = (0,1))"
   ]
  },
  {
   "cell_type": "code",
   "execution_count": 25,
   "metadata": {
    "ExecuteTime": {
     "end_time": "2021-02-03T13:12:29.208636Z",
     "start_time": "2021-02-03T13:12:26.136167Z"
    }
   },
   "outputs": [],
   "source": [
    "#creamos el DatasetSurprise\n",
    "#N_filas=100000\n",
    "data=Dataset.load_from_df(reviews[['user_id','product_id','implicit_rating']], reader)"
   ]
  },
  {
   "cell_type": "code",
   "execution_count": 26,
   "metadata": {
    "ExecuteTime": {
     "end_time": "2021-02-03T13:12:39.071984Z",
     "start_time": "2021-02-03T13:12:29.209633Z"
    }
   },
   "outputs": [],
   "source": [
    "trainset, testset = train_test_split(data, test_size=.25)"
   ]
  },
  {
   "cell_type": "markdown",
   "metadata": {},
   "source": [
    "## Entrenamiento"
   ]
  },
  {
   "cell_type": "code",
   "execution_count": 27,
   "metadata": {
    "ExecuteTime": {
     "end_time": "2021-02-03T13:12:39.081892Z",
     "start_time": "2021-02-03T13:12:39.074909Z"
    }
   },
   "outputs": [],
   "source": [
    "#definimos\n",
    "#La medida de similitud elegida es la que viene por defecto, es decir, similitud coseno.\n",
    "from surprise import SVD\n",
    "#sim_options = {'name': 'pearson','user_based': True  # compute  similarities between items}\n",
    "algo = SVD()"
   ]
  },
  {
   "cell_type": "code",
   "execution_count": 28,
   "metadata": {
    "ExecuteTime": {
     "end_time": "2021-02-03T13:15:00.410700Z",
     "start_time": "2021-02-03T13:12:39.084884Z"
    }
   },
   "outputs": [
    {
     "data": {
      "text/plain": [
       "<surprise.prediction_algorithms.matrix_factorization.SVD at 0x20aafe2a0c8>"
      ]
     },
     "execution_count": 28,
     "metadata": {},
     "output_type": "execute_result"
    }
   ],
   "source": [
    "#entrenamos\n",
    "algo.fit(trainset)"
   ]
  },
  {
   "cell_type": "code",
   "execution_count": 29,
   "metadata": {
    "ExecuteTime": {
     "end_time": "2021-02-03T13:15:07.640364Z",
     "start_time": "2021-02-03T13:15:00.417653Z"
    }
   },
   "outputs": [],
   "source": [
    "#predecimos\n",
    "predictions = algo.test(testset)"
   ]
  },
  {
   "cell_type": "markdown",
   "metadata": {},
   "source": [
    "## Testeo"
   ]
  },
  {
   "cell_type": "code",
   "execution_count": 30,
   "metadata": {
    "ExecuteTime": {
     "end_time": "2021-02-03T13:15:07.652332Z",
     "start_time": "2021-02-03T13:15:07.642359Z"
    }
   },
   "outputs": [
    {
     "data": {
      "text/plain": [
       "Prediction(uid=76561198031697200, iid=306130, r_ui=1.0, est=0.8127652054122437, details={'was_impossible': False})"
      ]
     },
     "execution_count": 30,
     "metadata": {},
     "output_type": "execute_result"
    }
   ],
   "source": [
    "#vemos un ej. de predicción \n",
    "predictions[1]"
   ]
  },
  {
   "cell_type": "code",
   "execution_count": 31,
   "metadata": {
    "ExecuteTime": {
     "end_time": "2021-02-03T13:15:07.668288Z",
     "start_time": "2021-02-03T13:15:07.654326Z"
    }
   },
   "outputs": [
    {
     "data": {
      "text/plain": [
       "Prediction(uid=76561198011965360, iid=440, r_ui=None, est=0.8920496580018329, details={'was_impossible': False})"
      ]
     },
     "execution_count": 31,
     "metadata": {},
     "output_type": "execute_result"
    }
   ],
   "source": [
    "#estimamos para un usuario y un juego\n",
    "#algo.predict(76561198011965359,440)\n",
    "algo.predict(76561198011965360,440)"
   ]
  },
  {
   "cell_type": "code",
   "execution_count": 32,
   "metadata": {
    "ExecuteTime": {
     "end_time": "2021-02-03T13:15:07.797979Z",
     "start_time": "2021-02-03T13:15:07.669286Z"
    }
   },
   "outputs": [
    {
     "data": {
      "text/html": [
       "<div>\n",
       "<style scoped>\n",
       "    .dataframe tbody tr th:only-of-type {\n",
       "        vertical-align: middle;\n",
       "    }\n",
       "\n",
       "    .dataframe tbody tr th {\n",
       "        vertical-align: top;\n",
       "    }\n",
       "\n",
       "    .dataframe thead th {\n",
       "        text-align: right;\n",
       "    }\n",
       "</style>\n",
       "<table border=\"1\" class=\"dataframe\">\n",
       "  <thead>\n",
       "    <tr style=\"text-align: right;\">\n",
       "      <th></th>\n",
       "      <th>user_id</th>\n",
       "      <th>implicit_rating</th>\n",
       "      <th>product_id</th>\n",
       "      <th>app_name</th>\n",
       "    </tr>\n",
       "  </thead>\n",
       "  <tbody>\n",
       "    <tr>\n",
       "      <th>0</th>\n",
       "      <td>76561198023491408</td>\n",
       "      <td>1</td>\n",
       "      <td>337000</td>\n",
       "      <td>Deus Ex: Mankind Divided</td>\n",
       "    </tr>\n",
       "    <tr>\n",
       "      <th>1</th>\n",
       "      <td>76561198023491408</td>\n",
       "      <td>1</td>\n",
       "      <td>268050</td>\n",
       "      <td>The Evil Within</td>\n",
       "    </tr>\n",
       "    <tr>\n",
       "      <th>2</th>\n",
       "      <td>76561198023491408</td>\n",
       "      <td>1</td>\n",
       "      <td>238430</td>\n",
       "      <td>Contagion</td>\n",
       "    </tr>\n",
       "    <tr>\n",
       "      <th>3</th>\n",
       "      <td>76561198023491408</td>\n",
       "      <td>1</td>\n",
       "      <td>379720</td>\n",
       "      <td>DOOM</td>\n",
       "    </tr>\n",
       "    <tr>\n",
       "      <th>4</th>\n",
       "      <td>76561198023491408</td>\n",
       "      <td>1</td>\n",
       "      <td>9480</td>\n",
       "      <td>Saints Row 2</td>\n",
       "    </tr>\n",
       "    <tr>\n",
       "      <th>5</th>\n",
       "      <td>76561198023491408</td>\n",
       "      <td>1</td>\n",
       "      <td>222480</td>\n",
       "      <td>Resident Evil Revelations / Biohazard Revelations</td>\n",
       "    </tr>\n",
       "    <tr>\n",
       "      <th>6</th>\n",
       "      <td>76561198023491408</td>\n",
       "      <td>1</td>\n",
       "      <td>261640</td>\n",
       "      <td>Borderlands: The Pre-Sequel</td>\n",
       "    </tr>\n",
       "    <tr>\n",
       "      <th>7</th>\n",
       "      <td>76561198023491408</td>\n",
       "      <td>1</td>\n",
       "      <td>223470</td>\n",
       "      <td>POSTAL 2</td>\n",
       "    </tr>\n",
       "    <tr>\n",
       "      <th>8</th>\n",
       "      <td>76561198023491408</td>\n",
       "      <td>1</td>\n",
       "      <td>360430</td>\n",
       "      <td>Mafia III</td>\n",
       "    </tr>\n",
       "    <tr>\n",
       "      <th>9</th>\n",
       "      <td>76561198023491408</td>\n",
       "      <td>1</td>\n",
       "      <td>588430</td>\n",
       "      <td>Fallout Shelter</td>\n",
       "    </tr>\n",
       "    <tr>\n",
       "      <th>10</th>\n",
       "      <td>76561198023491408</td>\n",
       "      <td>1</td>\n",
       "      <td>261030</td>\n",
       "      <td>The Walking Dead: Season 2</td>\n",
       "    </tr>\n",
       "    <tr>\n",
       "      <th>11</th>\n",
       "      <td>76561198023491408</td>\n",
       "      <td>1</td>\n",
       "      <td>241540</td>\n",
       "      <td>State of Decay</td>\n",
       "    </tr>\n",
       "    <tr>\n",
       "      <th>12</th>\n",
       "      <td>76561198023491408</td>\n",
       "      <td>1</td>\n",
       "      <td>241930</td>\n",
       "      <td>Middle-earth™: Shadow of Mordor™</td>\n",
       "    </tr>\n",
       "    <tr>\n",
       "      <th>13</th>\n",
       "      <td>76561198023491408</td>\n",
       "      <td>1</td>\n",
       "      <td>377160</td>\n",
       "      <td>Fallout 4</td>\n",
       "    </tr>\n",
       "    <tr>\n",
       "      <th>14</th>\n",
       "      <td>76561198023491408</td>\n",
       "      <td>1</td>\n",
       "      <td>208200</td>\n",
       "      <td>Doom 3: BFG Edition</td>\n",
       "    </tr>\n",
       "    <tr>\n",
       "      <th>15</th>\n",
       "      <td>76561198023491408</td>\n",
       "      <td>1</td>\n",
       "      <td>207610</td>\n",
       "      <td>The Walking Dead</td>\n",
       "    </tr>\n",
       "    <tr>\n",
       "      <th>16</th>\n",
       "      <td>76561198023491408</td>\n",
       "      <td>1</td>\n",
       "      <td>21100</td>\n",
       "      <td>F.E.A.R. 3</td>\n",
       "    </tr>\n",
       "    <tr>\n",
       "      <th>17</th>\n",
       "      <td>76561198023491408</td>\n",
       "      <td>1</td>\n",
       "      <td>204100</td>\n",
       "      <td>Max Payne 3</td>\n",
       "    </tr>\n",
       "    <tr>\n",
       "      <th>18</th>\n",
       "      <td>76561198023491408</td>\n",
       "      <td>1</td>\n",
       "      <td>221040</td>\n",
       "      <td>Resident Evil 6 / Biohazard 6</td>\n",
       "    </tr>\n",
       "    <tr>\n",
       "      <th>19</th>\n",
       "      <td>76561198023491408</td>\n",
       "      <td>1</td>\n",
       "      <td>57900</td>\n",
       "      <td>Duke Nukem Forever</td>\n",
       "    </tr>\n",
       "    <tr>\n",
       "      <th>20</th>\n",
       "      <td>76561198023491408</td>\n",
       "      <td>1</td>\n",
       "      <td>55230</td>\n",
       "      <td>Saints Row: The Third</td>\n",
       "    </tr>\n",
       "    <tr>\n",
       "      <th>21</th>\n",
       "      <td>76561198023491408</td>\n",
       "      <td>1</td>\n",
       "      <td>21690</td>\n",
       "      <td>Resident Evil™ 5/ Biohazard 5®</td>\n",
       "    </tr>\n",
       "    <tr>\n",
       "      <th>22</th>\n",
       "      <td>76561198023491408</td>\n",
       "      <td>1</td>\n",
       "      <td>9200</td>\n",
       "      <td>RAGE</td>\n",
       "    </tr>\n",
       "    <tr>\n",
       "      <th>23</th>\n",
       "      <td>76561198023491408</td>\n",
       "      <td>1</td>\n",
       "      <td>305620</td>\n",
       "      <td>The Long Dark</td>\n",
       "    </tr>\n",
       "    <tr>\n",
       "      <th>24</th>\n",
       "      <td>76561198023491408</td>\n",
       "      <td>1</td>\n",
       "      <td>1250</td>\n",
       "      <td>Killing Floor</td>\n",
       "    </tr>\n",
       "    <tr>\n",
       "      <th>25</th>\n",
       "      <td>76561198023491408</td>\n",
       "      <td>1</td>\n",
       "      <td>242760</td>\n",
       "      <td>The Forest</td>\n",
       "    </tr>\n",
       "    <tr>\n",
       "      <th>26</th>\n",
       "      <td>76561198023491408</td>\n",
       "      <td>1</td>\n",
       "      <td>223100</td>\n",
       "      <td>Homefront®: The Revolution</td>\n",
       "    </tr>\n",
       "    <tr>\n",
       "      <th>27</th>\n",
       "      <td>76561198023491408</td>\n",
       "      <td>1</td>\n",
       "      <td>32370</td>\n",
       "      <td>STAR WARS™ - Knights of the Old Republic™</td>\n",
       "    </tr>\n",
       "    <tr>\n",
       "      <th>28</th>\n",
       "      <td>76561198023491408</td>\n",
       "      <td>1</td>\n",
       "      <td>24240</td>\n",
       "      <td>PAYDAY™ The Heist</td>\n",
       "    </tr>\n",
       "    <tr>\n",
       "      <th>29</th>\n",
       "      <td>76561198023491408</td>\n",
       "      <td>1</td>\n",
       "      <td>16450</td>\n",
       "      <td>F.E.A.R. 2: Project Origin</td>\n",
       "    </tr>\n",
       "    <tr>\n",
       "      <th>30</th>\n",
       "      <td>76561198023491408</td>\n",
       "      <td>1</td>\n",
       "      <td>440900</td>\n",
       "      <td>Conan Exiles</td>\n",
       "    </tr>\n",
       "    <tr>\n",
       "      <th>31</th>\n",
       "      <td>76561198023491408</td>\n",
       "      <td>1</td>\n",
       "      <td>346110</td>\n",
       "      <td>ARK: Survival Evolved</td>\n",
       "    </tr>\n",
       "    <tr>\n",
       "      <th>32</th>\n",
       "      <td>76561198023491408</td>\n",
       "      <td>1</td>\n",
       "      <td>110800</td>\n",
       "      <td>L.A. Noire</td>\n",
       "    </tr>\n",
       "    <tr>\n",
       "      <th>33</th>\n",
       "      <td>76561198023491408</td>\n",
       "      <td>1</td>\n",
       "      <td>22380</td>\n",
       "      <td>Fallout: New Vegas</td>\n",
       "    </tr>\n",
       "    <tr>\n",
       "      <th>34</th>\n",
       "      <td>76561198023491408</td>\n",
       "      <td>1</td>\n",
       "      <td>239160</td>\n",
       "      <td>Thief</td>\n",
       "    </tr>\n",
       "    <tr>\n",
       "      <th>35</th>\n",
       "      <td>76561198023491408</td>\n",
       "      <td>1</td>\n",
       "      <td>203140</td>\n",
       "      <td>Hitman: Absolution™</td>\n",
       "    </tr>\n",
       "    <tr>\n",
       "      <th>36</th>\n",
       "      <td>76561198023491408</td>\n",
       "      <td>1</td>\n",
       "      <td>45740</td>\n",
       "      <td>Dead Rising® 2</td>\n",
       "    </tr>\n",
       "    <tr>\n",
       "      <th>37</th>\n",
       "      <td>76561198023491408</td>\n",
       "      <td>1</td>\n",
       "      <td>254700</td>\n",
       "      <td>resident evil 4 / biohazard 4</td>\n",
       "    </tr>\n",
       "    <tr>\n",
       "      <th>38</th>\n",
       "      <td>76561198023491408</td>\n",
       "      <td>1</td>\n",
       "      <td>50130</td>\n",
       "      <td>Mafia II</td>\n",
       "    </tr>\n",
       "    <tr>\n",
       "      <th>39</th>\n",
       "      <td>76561198023491408</td>\n",
       "      <td>1</td>\n",
       "      <td>6060</td>\n",
       "      <td>Star Wars: Battlefront 2 (Classic, 2005)</td>\n",
       "    </tr>\n",
       "    <tr>\n",
       "      <th>40</th>\n",
       "      <td>76561198023491408</td>\n",
       "      <td>1</td>\n",
       "      <td>206420</td>\n",
       "      <td>Saints Row IV</td>\n",
       "    </tr>\n",
       "    <tr>\n",
       "      <th>41</th>\n",
       "      <td>76561198023491408</td>\n",
       "      <td>1</td>\n",
       "      <td>8930</td>\n",
       "      <td>Sid Meier's Civilization® V</td>\n",
       "    </tr>\n",
       "    <tr>\n",
       "      <th>42</th>\n",
       "      <td>76561198023491408</td>\n",
       "      <td>1</td>\n",
       "      <td>239140</td>\n",
       "      <td>Dying Light</td>\n",
       "    </tr>\n",
       "    <tr>\n",
       "      <th>43</th>\n",
       "      <td>76561198023491408</td>\n",
       "      <td>1</td>\n",
       "      <td>220</td>\n",
       "      <td>Half-Life 2</td>\n",
       "    </tr>\n",
       "    <tr>\n",
       "      <th>44</th>\n",
       "      <td>76561198023491408</td>\n",
       "      <td>1</td>\n",
       "      <td>582660</td>\n",
       "      <td>Black Desert Online</td>\n",
       "    </tr>\n",
       "    <tr>\n",
       "      <th>45</th>\n",
       "      <td>76561198023491408</td>\n",
       "      <td>1</td>\n",
       "      <td>33420</td>\n",
       "      <td>Call of Juarez®: The Cartel</td>\n",
       "    </tr>\n",
       "    <tr>\n",
       "      <th>46</th>\n",
       "      <td>76561198023491408</td>\n",
       "      <td>1</td>\n",
       "      <td>287290</td>\n",
       "      <td>Resident Evil Revelations 2 / Biohazard Revela...</td>\n",
       "    </tr>\n",
       "    <tr>\n",
       "      <th>47</th>\n",
       "      <td>76561198023491408</td>\n",
       "      <td>1</td>\n",
       "      <td>12220</td>\n",
       "      <td>Grand Theft Auto: Episodes from Liberty City</td>\n",
       "    </tr>\n",
       "    <tr>\n",
       "      <th>48</th>\n",
       "      <td>76561198023491408</td>\n",
       "      <td>1</td>\n",
       "      <td>10180</td>\n",
       "      <td>Call of Duty®: Modern Warfare® 2</td>\n",
       "    </tr>\n",
       "    <tr>\n",
       "      <th>49</th>\n",
       "      <td>76561198023491408</td>\n",
       "      <td>1</td>\n",
       "      <td>49520</td>\n",
       "      <td>Borderlands 2</td>\n",
       "    </tr>\n",
       "    <tr>\n",
       "      <th>50</th>\n",
       "      <td>76561198023491408</td>\n",
       "      <td>1</td>\n",
       "      <td>204450</td>\n",
       "      <td>Call of Juarez® Gunslinger</td>\n",
       "    </tr>\n",
       "    <tr>\n",
       "      <th>51</th>\n",
       "      <td>76561198023491408</td>\n",
       "      <td>1</td>\n",
       "      <td>225540</td>\n",
       "      <td>Just Cause™ 3</td>\n",
       "    </tr>\n",
       "    <tr>\n",
       "      <th>52</th>\n",
       "      <td>76561198023491408</td>\n",
       "      <td>1</td>\n",
       "      <td>214950</td>\n",
       "      <td>Total War™: ROME II - Emperor Edition</td>\n",
       "    </tr>\n",
       "    <tr>\n",
       "      <th>53</th>\n",
       "      <td>76561198023491408</td>\n",
       "      <td>1</td>\n",
       "      <td>234140</td>\n",
       "      <td>Mad Max</td>\n",
       "    </tr>\n",
       "    <tr>\n",
       "      <th>54</th>\n",
       "      <td>76561198023491408</td>\n",
       "      <td>1</td>\n",
       "      <td>6020</td>\n",
       "      <td>STAR WARS™ Jedi Knight - Jedi Academy™</td>\n",
       "    </tr>\n",
       "  </tbody>\n",
       "</table>\n",
       "</div>"
      ],
      "text/plain": [
       "              user_id  implicit_rating  product_id  \\\n",
       "0   76561198023491408                1      337000   \n",
       "1   76561198023491408                1      268050   \n",
       "2   76561198023491408                1      238430   \n",
       "3   76561198023491408                1      379720   \n",
       "4   76561198023491408                1        9480   \n",
       "5   76561198023491408                1      222480   \n",
       "6   76561198023491408                1      261640   \n",
       "7   76561198023491408                1      223470   \n",
       "8   76561198023491408                1      360430   \n",
       "9   76561198023491408                1      588430   \n",
       "10  76561198023491408                1      261030   \n",
       "11  76561198023491408                1      241540   \n",
       "12  76561198023491408                1      241930   \n",
       "13  76561198023491408                1      377160   \n",
       "14  76561198023491408                1      208200   \n",
       "15  76561198023491408                1      207610   \n",
       "16  76561198023491408                1       21100   \n",
       "17  76561198023491408                1      204100   \n",
       "18  76561198023491408                1      221040   \n",
       "19  76561198023491408                1       57900   \n",
       "20  76561198023491408                1       55230   \n",
       "21  76561198023491408                1       21690   \n",
       "22  76561198023491408                1        9200   \n",
       "23  76561198023491408                1      305620   \n",
       "24  76561198023491408                1        1250   \n",
       "25  76561198023491408                1      242760   \n",
       "26  76561198023491408                1      223100   \n",
       "27  76561198023491408                1       32370   \n",
       "28  76561198023491408                1       24240   \n",
       "29  76561198023491408                1       16450   \n",
       "30  76561198023491408                1      440900   \n",
       "31  76561198023491408                1      346110   \n",
       "32  76561198023491408                1      110800   \n",
       "33  76561198023491408                1       22380   \n",
       "34  76561198023491408                1      239160   \n",
       "35  76561198023491408                1      203140   \n",
       "36  76561198023491408                1       45740   \n",
       "37  76561198023491408                1      254700   \n",
       "38  76561198023491408                1       50130   \n",
       "39  76561198023491408                1        6060   \n",
       "40  76561198023491408                1      206420   \n",
       "41  76561198023491408                1        8930   \n",
       "42  76561198023491408                1      239140   \n",
       "43  76561198023491408                1         220   \n",
       "44  76561198023491408                1      582660   \n",
       "45  76561198023491408                1       33420   \n",
       "46  76561198023491408                1      287290   \n",
       "47  76561198023491408                1       12220   \n",
       "48  76561198023491408                1       10180   \n",
       "49  76561198023491408                1       49520   \n",
       "50  76561198023491408                1      204450   \n",
       "51  76561198023491408                1      225540   \n",
       "52  76561198023491408                1      214950   \n",
       "53  76561198023491408                1      234140   \n",
       "54  76561198023491408                1        6020   \n",
       "\n",
       "                                             app_name  \n",
       "0                            Deus Ex: Mankind Divided  \n",
       "1                                     The Evil Within  \n",
       "2                                           Contagion  \n",
       "3                                                DOOM  \n",
       "4                                        Saints Row 2  \n",
       "5   Resident Evil Revelations / Biohazard Revelations  \n",
       "6                         Borderlands: The Pre-Sequel  \n",
       "7                                            POSTAL 2  \n",
       "8                                           Mafia III  \n",
       "9                                     Fallout Shelter  \n",
       "10                         The Walking Dead: Season 2  \n",
       "11                                     State of Decay  \n",
       "12                   Middle-earth™: Shadow of Mordor™  \n",
       "13                                          Fallout 4  \n",
       "14                                Doom 3: BFG Edition  \n",
       "15                                   The Walking Dead  \n",
       "16                                         F.E.A.R. 3  \n",
       "17                                        Max Payne 3  \n",
       "18                      Resident Evil 6 / Biohazard 6  \n",
       "19                                 Duke Nukem Forever  \n",
       "20                              Saints Row: The Third  \n",
       "21                     Resident Evil™ 5/ Biohazard 5®  \n",
       "22                                               RAGE  \n",
       "23                                      The Long Dark  \n",
       "24                                      Killing Floor  \n",
       "25                                         The Forest  \n",
       "26                         Homefront®: The Revolution  \n",
       "27          STAR WARS™ - Knights of the Old Republic™  \n",
       "28                                  PAYDAY™ The Heist  \n",
       "29                         F.E.A.R. 2: Project Origin  \n",
       "30                                       Conan Exiles  \n",
       "31                              ARK: Survival Evolved  \n",
       "32                                         L.A. Noire  \n",
       "33                                 Fallout: New Vegas  \n",
       "34                                              Thief  \n",
       "35                                Hitman: Absolution™  \n",
       "36                                     Dead Rising® 2  \n",
       "37                      resident evil 4 / biohazard 4  \n",
       "38                                           Mafia II  \n",
       "39           Star Wars: Battlefront 2 (Classic, 2005)  \n",
       "40                                      Saints Row IV  \n",
       "41                        Sid Meier's Civilization® V  \n",
       "42                                        Dying Light  \n",
       "43                                        Half-Life 2  \n",
       "44                                Black Desert Online  \n",
       "45                        Call of Juarez®: The Cartel  \n",
       "46  Resident Evil Revelations 2 / Biohazard Revela...  \n",
       "47       Grand Theft Auto: Episodes from Liberty City  \n",
       "48                   Call of Duty®: Modern Warfare® 2  \n",
       "49                                      Borderlands 2  \n",
       "50                         Call of Juarez® Gunslinger  \n",
       "51                                      Just Cause™ 3  \n",
       "52              Total War™: ROME II - Emperor Edition  \n",
       "53                                            Mad Max  \n",
       "54             STAR WARS™ Jedi Knight - Jedi Academy™  "
      ]
     },
     "execution_count": 32,
     "metadata": {},
     "output_type": "execute_result"
    }
   ],
   "source": [
    "#películas que le gustaron a un usuario\n",
    "usuario = 76561198023491408\n",
    "rating = 1  \n",
    "\n",
    "df_user = reviews[(reviews['user_id'] == usuario) & (reviews['implicit_rating'] == rating)]\n",
    "df_user = df_user.reset_index(drop=True)\n",
    "df_user['app_name'] = games['app_name'].loc[df_user.product_id].values\n",
    "df_user"
   ]
  },
  {
   "cell_type": "code",
   "execution_count": 33,
   "metadata": {
    "ExecuteTime": {
     "end_time": "2021-02-03T13:15:07.857509Z",
     "start_time": "2021-02-03T13:15:07.799969Z"
    }
   },
   "outputs": [
    {
     "data": {
      "text/html": [
       "<div>\n",
       "<style scoped>\n",
       "    .dataframe tbody tr th:only-of-type {\n",
       "        vertical-align: middle;\n",
       "    }\n",
       "\n",
       "    .dataframe tbody tr th {\n",
       "        vertical-align: top;\n",
       "    }\n",
       "\n",
       "    .dataframe thead th {\n",
       "        text-align: right;\n",
       "    }\n",
       "</style>\n",
       "<table border=\"1\" class=\"dataframe\">\n",
       "  <thead>\n",
       "    <tr style=\"text-align: right;\">\n",
       "      <th></th>\n",
       "      <th>user_id</th>\n",
       "      <th>implicit_rating</th>\n",
       "      <th>product_id</th>\n",
       "      <th>app_name</th>\n",
       "    </tr>\n",
       "  </thead>\n",
       "  <tbody>\n",
       "    <tr>\n",
       "      <th>0</th>\n",
       "      <td>76561198023491408</td>\n",
       "      <td>0</td>\n",
       "      <td>35140</td>\n",
       "      <td>Batman: Arkham Asylum Game of the Year Edition</td>\n",
       "    </tr>\n",
       "    <tr>\n",
       "      <th>1</th>\n",
       "      <td>76561198023491408</td>\n",
       "      <td>0</td>\n",
       "      <td>214250</td>\n",
       "      <td>I Am Alive</td>\n",
       "    </tr>\n",
       "    <tr>\n",
       "      <th>2</th>\n",
       "      <td>76561198023491408</td>\n",
       "      <td>0</td>\n",
       "      <td>20530</td>\n",
       "      <td>Red Faction</td>\n",
       "    </tr>\n",
       "    <tr>\n",
       "      <th>3</th>\n",
       "      <td>76561198023491408</td>\n",
       "      <td>0</td>\n",
       "      <td>238090</td>\n",
       "      <td>Sniper Elite 3</td>\n",
       "    </tr>\n",
       "    <tr>\n",
       "      <th>4</th>\n",
       "      <td>76561198023491408</td>\n",
       "      <td>0</td>\n",
       "      <td>20500</td>\n",
       "      <td>Red Faction Guerrilla Steam Edition</td>\n",
       "    </tr>\n",
       "    <tr>\n",
       "      <th>5</th>\n",
       "      <td>76561198023491408</td>\n",
       "      <td>0</td>\n",
       "      <td>20900</td>\n",
       "      <td>The Witcher: Enhanced Edition Director's Cut</td>\n",
       "    </tr>\n",
       "    <tr>\n",
       "      <th>6</th>\n",
       "      <td>76561198023491408</td>\n",
       "      <td>0</td>\n",
       "      <td>13210</td>\n",
       "      <td>Unreal Tournament 3 Black</td>\n",
       "    </tr>\n",
       "    <tr>\n",
       "      <th>7</th>\n",
       "      <td>76561198023491408</td>\n",
       "      <td>0</td>\n",
       "      <td>209160</td>\n",
       "      <td>Call of Duty®: Ghosts</td>\n",
       "    </tr>\n",
       "    <tr>\n",
       "      <th>8</th>\n",
       "      <td>76561198023491408</td>\n",
       "      <td>0</td>\n",
       "      <td>99300</td>\n",
       "      <td>Renegade Ops</td>\n",
       "    </tr>\n",
       "    <tr>\n",
       "      <th>9</th>\n",
       "      <td>76561198023491408</td>\n",
       "      <td>0</td>\n",
       "      <td>2610</td>\n",
       "      <td>GUN™</td>\n",
       "    </tr>\n",
       "    <tr>\n",
       "      <th>10</th>\n",
       "      <td>76561198023491408</td>\n",
       "      <td>0</td>\n",
       "      <td>360</td>\n",
       "      <td>Half-Life Deathmatch: Source</td>\n",
       "    </tr>\n",
       "    <tr>\n",
       "      <th>11</th>\n",
       "      <td>76561198023491408</td>\n",
       "      <td>0</td>\n",
       "      <td>340</td>\n",
       "      <td>Half-Life 2: Lost Coast</td>\n",
       "    </tr>\n",
       "    <tr>\n",
       "      <th>12</th>\n",
       "      <td>76561198023491408</td>\n",
       "      <td>0</td>\n",
       "      <td>108710</td>\n",
       "      <td>Alan Wake</td>\n",
       "    </tr>\n",
       "    <tr>\n",
       "      <th>13</th>\n",
       "      <td>76561198023491408</td>\n",
       "      <td>0</td>\n",
       "      <td>28000</td>\n",
       "      <td>Kane &amp; Lynch 2: Dog Days</td>\n",
       "    </tr>\n",
       "    <tr>\n",
       "      <th>14</th>\n",
       "      <td>76561198023491408</td>\n",
       "      <td>0</td>\n",
       "      <td>32400</td>\n",
       "      <td>STAR WARS™ - Dark Forces</td>\n",
       "    </tr>\n",
       "    <tr>\n",
       "      <th>15</th>\n",
       "      <td>76561198023491408</td>\n",
       "      <td>0</td>\n",
       "      <td>20550</td>\n",
       "      <td>Red Faction II</td>\n",
       "    </tr>\n",
       "    <tr>\n",
       "      <th>16</th>\n",
       "      <td>76561198023491408</td>\n",
       "      <td>0</td>\n",
       "      <td>115120</td>\n",
       "      <td>Iron Brigade</td>\n",
       "    </tr>\n",
       "    <tr>\n",
       "      <th>17</th>\n",
       "      <td>76561198023491408</td>\n",
       "      <td>0</td>\n",
       "      <td>10680</td>\n",
       "      <td>Aliens vs. Predator™</td>\n",
       "    </tr>\n",
       "    <tr>\n",
       "      <th>18</th>\n",
       "      <td>76561198023491408</td>\n",
       "      <td>0</td>\n",
       "      <td>265300</td>\n",
       "      <td>Lords Of The Fallen™</td>\n",
       "    </tr>\n",
       "    <tr>\n",
       "      <th>19</th>\n",
       "      <td>76561198023491408</td>\n",
       "      <td>0</td>\n",
       "      <td>34270</td>\n",
       "      <td>SEGA Mega Drive and Genesis Classics</td>\n",
       "    </tr>\n",
       "    <tr>\n",
       "      <th>20</th>\n",
       "      <td>76561198023491408</td>\n",
       "      <td>0</td>\n",
       "      <td>3920</td>\n",
       "      <td>Sid Meier's Pirates!</td>\n",
       "    </tr>\n",
       "    <tr>\n",
       "      <th>21</th>\n",
       "      <td>76561198023491408</td>\n",
       "      <td>0</td>\n",
       "      <td>13200</td>\n",
       "      <td>Unreal 2: The Awakening</td>\n",
       "    </tr>\n",
       "    <tr>\n",
       "      <th>22</th>\n",
       "      <td>76561198023491408</td>\n",
       "      <td>0</td>\n",
       "      <td>38400</td>\n",
       "      <td>Fallout: A Post Nuclear Role Playing Game</td>\n",
       "    </tr>\n",
       "    <tr>\n",
       "      <th>23</th>\n",
       "      <td>76561198023491408</td>\n",
       "      <td>0</td>\n",
       "      <td>620</td>\n",
       "      <td>Portal 2</td>\n",
       "    </tr>\n",
       "    <tr>\n",
       "      <th>24</th>\n",
       "      <td>76561198023491408</td>\n",
       "      <td>0</td>\n",
       "      <td>12170</td>\n",
       "      <td>Grand Theft Auto</td>\n",
       "    </tr>\n",
       "    <tr>\n",
       "      <th>25</th>\n",
       "      <td>76561198023491408</td>\n",
       "      <td>0</td>\n",
       "      <td>97100</td>\n",
       "      <td>Section 8®: Prejudice™</td>\n",
       "    </tr>\n",
       "    <tr>\n",
       "      <th>26</th>\n",
       "      <td>76561198023491408</td>\n",
       "      <td>0</td>\n",
       "      <td>15700</td>\n",
       "      <td>Oddworld: Abe's Oddysee®</td>\n",
       "    </tr>\n",
       "    <tr>\n",
       "      <th>27</th>\n",
       "      <td>76561198023491408</td>\n",
       "      <td>0</td>\n",
       "      <td>67370</td>\n",
       "      <td>The Darkness II</td>\n",
       "    </tr>\n",
       "    <tr>\n",
       "      <th>28</th>\n",
       "      <td>76561198023491408</td>\n",
       "      <td>0</td>\n",
       "      <td>67370</td>\n",
       "      <td>The Darkness II</td>\n",
       "    </tr>\n",
       "    <tr>\n",
       "      <th>29</th>\n",
       "      <td>76561198023491408</td>\n",
       "      <td>0</td>\n",
       "      <td>440</td>\n",
       "      <td>Team Fortress 2</td>\n",
       "    </tr>\n",
       "    <tr>\n",
       "      <th>30</th>\n",
       "      <td>76561198023491408</td>\n",
       "      <td>0</td>\n",
       "      <td>400</td>\n",
       "      <td>Portal</td>\n",
       "    </tr>\n",
       "    <tr>\n",
       "      <th>31</th>\n",
       "      <td>76561198023491408</td>\n",
       "      <td>0</td>\n",
       "      <td>22350</td>\n",
       "      <td>BRINK</td>\n",
       "    </tr>\n",
       "    <tr>\n",
       "      <th>32</th>\n",
       "      <td>76561198023491408</td>\n",
       "      <td>0</td>\n",
       "      <td>238320</td>\n",
       "      <td>Outlast</td>\n",
       "    </tr>\n",
       "    <tr>\n",
       "      <th>33</th>\n",
       "      <td>76561198023491408</td>\n",
       "      <td>0</td>\n",
       "      <td>55110</td>\n",
       "      <td>Red Faction®: Armageddon™</td>\n",
       "    </tr>\n",
       "    <tr>\n",
       "      <th>34</th>\n",
       "      <td>76561198023491408</td>\n",
       "      <td>0</td>\n",
       "      <td>34830</td>\n",
       "      <td>Sniper: Ghost Warrior</td>\n",
       "    </tr>\n",
       "    <tr>\n",
       "      <th>35</th>\n",
       "      <td>76561198023491408</td>\n",
       "      <td>0</td>\n",
       "      <td>15710</td>\n",
       "      <td>Oddworld: Abe's Exoddus®</td>\n",
       "    </tr>\n",
       "    <tr>\n",
       "      <th>36</th>\n",
       "      <td>76561198023491408</td>\n",
       "      <td>0</td>\n",
       "      <td>13250</td>\n",
       "      <td>Unreal Gold</td>\n",
       "    </tr>\n",
       "    <tr>\n",
       "      <th>37</th>\n",
       "      <td>76561198023491408</td>\n",
       "      <td>0</td>\n",
       "      <td>409720</td>\n",
       "      <td>BioShock™ 2 Remastered</td>\n",
       "    </tr>\n",
       "    <tr>\n",
       "      <th>38</th>\n",
       "      <td>76561198023491408</td>\n",
       "      <td>0</td>\n",
       "      <td>19900</td>\n",
       "      <td>Far Cry® 2: Fortune's Edition</td>\n",
       "    </tr>\n",
       "    <tr>\n",
       "      <th>39</th>\n",
       "      <td>76561198023491408</td>\n",
       "      <td>0</td>\n",
       "      <td>420</td>\n",
       "      <td>Half-Life 2: Episode Two</td>\n",
       "    </tr>\n",
       "    <tr>\n",
       "      <th>40</th>\n",
       "      <td>76561198023491408</td>\n",
       "      <td>0</td>\n",
       "      <td>55100</td>\n",
       "      <td>Homefront</td>\n",
       "    </tr>\n",
       "    <tr>\n",
       "      <th>41</th>\n",
       "      <td>76561198023491408</td>\n",
       "      <td>0</td>\n",
       "      <td>8850</td>\n",
       "      <td>BioShock® 2</td>\n",
       "    </tr>\n",
       "    <tr>\n",
       "      <th>42</th>\n",
       "      <td>76561198023491408</td>\n",
       "      <td>0</td>\n",
       "      <td>9010</td>\n",
       "      <td>Return to Castle Wolfenstein</td>\n",
       "    </tr>\n",
       "    <tr>\n",
       "      <th>43</th>\n",
       "      <td>76561198023491408</td>\n",
       "      <td>0</td>\n",
       "      <td>21980</td>\n",
       "      <td>Call of Juarez®: Bound in Blood</td>\n",
       "    </tr>\n",
       "    <tr>\n",
       "      <th>44</th>\n",
       "      <td>76561198023491408</td>\n",
       "      <td>0</td>\n",
       "      <td>6030</td>\n",
       "      <td>STAR WARS™ Jedi Knight II - Jedi Outcast™</td>\n",
       "    </tr>\n",
       "    <tr>\n",
       "      <th>45</th>\n",
       "      <td>76561198023491408</td>\n",
       "      <td>0</td>\n",
       "      <td>380</td>\n",
       "      <td>Half-Life 2: Episode One</td>\n",
       "    </tr>\n",
       "    <tr>\n",
       "      <th>46</th>\n",
       "      <td>76561198023491408</td>\n",
       "      <td>0</td>\n",
       "      <td>232090</td>\n",
       "      <td>Killing Floor 2</td>\n",
       "    </tr>\n",
       "    <tr>\n",
       "      <th>47</th>\n",
       "      <td>76561198023491408</td>\n",
       "      <td>0</td>\n",
       "      <td>17410</td>\n",
       "      <td>Mirror's Edge™</td>\n",
       "    </tr>\n",
       "    <tr>\n",
       "      <th>48</th>\n",
       "      <td>76561198023491408</td>\n",
       "      <td>0</td>\n",
       "      <td>8080</td>\n",
       "      <td>Kane and Lynch: Dead Men™</td>\n",
       "    </tr>\n",
       "    <tr>\n",
       "      <th>49</th>\n",
       "      <td>76561198023491408</td>\n",
       "      <td>0</td>\n",
       "      <td>12110</td>\n",
       "      <td>Grand Theft Auto: Vice City</td>\n",
       "    </tr>\n",
       "    <tr>\n",
       "      <th>50</th>\n",
       "      <td>76561198023491408</td>\n",
       "      <td>0</td>\n",
       "      <td>307690</td>\n",
       "      <td>Sleeping Dogs: Definitive Edition</td>\n",
       "    </tr>\n",
       "    <tr>\n",
       "      <th>51</th>\n",
       "      <td>76561198023491408</td>\n",
       "      <td>0</td>\n",
       "      <td>227300</td>\n",
       "      <td>Euro Truck Simulator 2</td>\n",
       "    </tr>\n",
       "    <tr>\n",
       "      <th>52</th>\n",
       "      <td>76561198023491408</td>\n",
       "      <td>0</td>\n",
       "      <td>280</td>\n",
       "      <td>Half-Life: Source</td>\n",
       "    </tr>\n",
       "    <tr>\n",
       "      <th>53</th>\n",
       "      <td>76561198023491408</td>\n",
       "      <td>0</td>\n",
       "      <td>12120</td>\n",
       "      <td>Grand Theft Auto: San Andreas</td>\n",
       "    </tr>\n",
       "    <tr>\n",
       "      <th>54</th>\n",
       "      <td>76561198023491408</td>\n",
       "      <td>0</td>\n",
       "      <td>209000</td>\n",
       "      <td>Batman™: Arkham Origins</td>\n",
       "    </tr>\n",
       "  </tbody>\n",
       "</table>\n",
       "</div>"
      ],
      "text/plain": [
       "              user_id  implicit_rating  product_id  \\\n",
       "0   76561198023491408                0       35140   \n",
       "1   76561198023491408                0      214250   \n",
       "2   76561198023491408                0       20530   \n",
       "3   76561198023491408                0      238090   \n",
       "4   76561198023491408                0       20500   \n",
       "5   76561198023491408                0       20900   \n",
       "6   76561198023491408                0       13210   \n",
       "7   76561198023491408                0      209160   \n",
       "8   76561198023491408                0       99300   \n",
       "9   76561198023491408                0        2610   \n",
       "10  76561198023491408                0         360   \n",
       "11  76561198023491408                0         340   \n",
       "12  76561198023491408                0      108710   \n",
       "13  76561198023491408                0       28000   \n",
       "14  76561198023491408                0       32400   \n",
       "15  76561198023491408                0       20550   \n",
       "16  76561198023491408                0      115120   \n",
       "17  76561198023491408                0       10680   \n",
       "18  76561198023491408                0      265300   \n",
       "19  76561198023491408                0       34270   \n",
       "20  76561198023491408                0        3920   \n",
       "21  76561198023491408                0       13200   \n",
       "22  76561198023491408                0       38400   \n",
       "23  76561198023491408                0         620   \n",
       "24  76561198023491408                0       12170   \n",
       "25  76561198023491408                0       97100   \n",
       "26  76561198023491408                0       15700   \n",
       "27  76561198023491408                0       67370   \n",
       "28  76561198023491408                0       67370   \n",
       "29  76561198023491408                0         440   \n",
       "30  76561198023491408                0         400   \n",
       "31  76561198023491408                0       22350   \n",
       "32  76561198023491408                0      238320   \n",
       "33  76561198023491408                0       55110   \n",
       "34  76561198023491408                0       34830   \n",
       "35  76561198023491408                0       15710   \n",
       "36  76561198023491408                0       13250   \n",
       "37  76561198023491408                0      409720   \n",
       "38  76561198023491408                0       19900   \n",
       "39  76561198023491408                0         420   \n",
       "40  76561198023491408                0       55100   \n",
       "41  76561198023491408                0        8850   \n",
       "42  76561198023491408                0        9010   \n",
       "43  76561198023491408                0       21980   \n",
       "44  76561198023491408                0        6030   \n",
       "45  76561198023491408                0         380   \n",
       "46  76561198023491408                0      232090   \n",
       "47  76561198023491408                0       17410   \n",
       "48  76561198023491408                0        8080   \n",
       "49  76561198023491408                0       12110   \n",
       "50  76561198023491408                0      307690   \n",
       "51  76561198023491408                0      227300   \n",
       "52  76561198023491408                0         280   \n",
       "53  76561198023491408                0       12120   \n",
       "54  76561198023491408                0      209000   \n",
       "\n",
       "                                          app_name  \n",
       "0   Batman: Arkham Asylum Game of the Year Edition  \n",
       "1                                       I Am Alive  \n",
       "2                                      Red Faction  \n",
       "3                                   Sniper Elite 3  \n",
       "4              Red Faction Guerrilla Steam Edition  \n",
       "5     The Witcher: Enhanced Edition Director's Cut  \n",
       "6                        Unreal Tournament 3 Black  \n",
       "7                            Call of Duty®: Ghosts  \n",
       "8                                     Renegade Ops  \n",
       "9                                             GUN™  \n",
       "10                    Half-Life Deathmatch: Source  \n",
       "11                         Half-Life 2: Lost Coast  \n",
       "12                                       Alan Wake  \n",
       "13                        Kane & Lynch 2: Dog Days  \n",
       "14                        STAR WARS™ - Dark Forces  \n",
       "15                                  Red Faction II  \n",
       "16                                    Iron Brigade  \n",
       "17                            Aliens vs. Predator™  \n",
       "18                            Lords Of The Fallen™  \n",
       "19            SEGA Mega Drive and Genesis Classics  \n",
       "20                            Sid Meier's Pirates!  \n",
       "21                         Unreal 2: The Awakening  \n",
       "22       Fallout: A Post Nuclear Role Playing Game  \n",
       "23                                        Portal 2  \n",
       "24                                Grand Theft Auto  \n",
       "25                          Section 8®: Prejudice™  \n",
       "26                        Oddworld: Abe's Oddysee®  \n",
       "27                                 The Darkness II  \n",
       "28                                 The Darkness II  \n",
       "29                                 Team Fortress 2  \n",
       "30                                          Portal  \n",
       "31                                           BRINK  \n",
       "32                                         Outlast  \n",
       "33                       Red Faction®: Armageddon™  \n",
       "34                           Sniper: Ghost Warrior  \n",
       "35                        Oddworld: Abe's Exoddus®  \n",
       "36                                     Unreal Gold  \n",
       "37                          BioShock™ 2 Remastered  \n",
       "38                   Far Cry® 2: Fortune's Edition  \n",
       "39                        Half-Life 2: Episode Two  \n",
       "40                                       Homefront  \n",
       "41                                     BioShock® 2  \n",
       "42                    Return to Castle Wolfenstein  \n",
       "43                 Call of Juarez®: Bound in Blood  \n",
       "44       STAR WARS™ Jedi Knight II - Jedi Outcast™  \n",
       "45                        Half-Life 2: Episode One  \n",
       "46                                 Killing Floor 2  \n",
       "47                                  Mirror's Edge™  \n",
       "48                       Kane and Lynch: Dead Men™  \n",
       "49                     Grand Theft Auto: Vice City  \n",
       "50               Sleeping Dogs: Definitive Edition  \n",
       "51                          Euro Truck Simulator 2  \n",
       "52                               Half-Life: Source  \n",
       "53                   Grand Theft Auto: San Andreas  \n",
       "54                         Batman™: Arkham Origins  "
      ]
     },
     "execution_count": 33,
     "metadata": {},
     "output_type": "execute_result"
    }
   ],
   "source": [
    "#películas que no le gustaron a un usuario\n",
    "rating = 0  \n",
    "\n",
    "df_user = reviews[(reviews['user_id'] == usuario) & (reviews['implicit_rating'] == rating)]\n",
    "df_user = df_user.reset_index(drop=True)\n",
    "df_user['app_name'] = games['app_name'].loc[df_user.product_id].values\n",
    "df_user"
   ]
  },
  {
   "cell_type": "code",
   "execution_count": 34,
   "metadata": {
    "ExecuteTime": {
     "end_time": "2021-02-03T13:15:07.884464Z",
     "start_time": "2021-02-03T13:15:07.859499Z"
    }
   },
   "outputs": [
    {
     "name": "stdout",
     "output_type": "stream",
     "text": [
      "(110, 3)\n"
     ]
    },
    {
     "data": {
      "text/html": [
       "<div>\n",
       "<style scoped>\n",
       "    .dataframe tbody tr th:only-of-type {\n",
       "        vertical-align: middle;\n",
       "    }\n",
       "\n",
       "    .dataframe tbody tr th {\n",
       "        vertical-align: top;\n",
       "    }\n",
       "\n",
       "    .dataframe thead th {\n",
       "        text-align: right;\n",
       "    }\n",
       "</style>\n",
       "<table border=\"1\" class=\"dataframe\">\n",
       "  <thead>\n",
       "    <tr style=\"text-align: right;\">\n",
       "      <th></th>\n",
       "      <th>user_id</th>\n",
       "      <th>implicit_rating</th>\n",
       "      <th>product_id</th>\n",
       "    </tr>\n",
       "  </thead>\n",
       "  <tbody>\n",
       "    <tr>\n",
       "      <th>3</th>\n",
       "      <td>76561198023491408</td>\n",
       "      <td>0</td>\n",
       "      <td>35140</td>\n",
       "    </tr>\n",
       "    <tr>\n",
       "      <th>6804</th>\n",
       "      <td>76561198023491408</td>\n",
       "      <td>1</td>\n",
       "      <td>337000</td>\n",
       "    </tr>\n",
       "    <tr>\n",
       "      <th>32290</th>\n",
       "      <td>76561198023491408</td>\n",
       "      <td>0</td>\n",
       "      <td>214250</td>\n",
       "    </tr>\n",
       "    <tr>\n",
       "      <th>88240</th>\n",
       "      <td>76561198023491408</td>\n",
       "      <td>0</td>\n",
       "      <td>20530</td>\n",
       "    </tr>\n",
       "    <tr>\n",
       "      <th>139341</th>\n",
       "      <td>76561198023491408</td>\n",
       "      <td>0</td>\n",
       "      <td>238090</td>\n",
       "    </tr>\n",
       "    <tr>\n",
       "      <th>...</th>\n",
       "      <td>...</td>\n",
       "      <td>...</td>\n",
       "      <td>...</td>\n",
       "    </tr>\n",
       "    <tr>\n",
       "      <th>2908948</th>\n",
       "      <td>76561198023491408</td>\n",
       "      <td>0</td>\n",
       "      <td>280</td>\n",
       "    </tr>\n",
       "    <tr>\n",
       "      <th>2918672</th>\n",
       "      <td>76561198023491408</td>\n",
       "      <td>0</td>\n",
       "      <td>12120</td>\n",
       "    </tr>\n",
       "    <tr>\n",
       "      <th>2942219</th>\n",
       "      <td>76561198023491408</td>\n",
       "      <td>0</td>\n",
       "      <td>209000</td>\n",
       "    </tr>\n",
       "    <tr>\n",
       "      <th>2973500</th>\n",
       "      <td>76561198023491408</td>\n",
       "      <td>1</td>\n",
       "      <td>234140</td>\n",
       "    </tr>\n",
       "    <tr>\n",
       "      <th>2997793</th>\n",
       "      <td>76561198023491408</td>\n",
       "      <td>1</td>\n",
       "      <td>6020</td>\n",
       "    </tr>\n",
       "  </tbody>\n",
       "</table>\n",
       "<p>110 rows × 3 columns</p>\n",
       "</div>"
      ],
      "text/plain": [
       "                   user_id  implicit_rating  product_id\n",
       "3        76561198023491408                0       35140\n",
       "6804     76561198023491408                1      337000\n",
       "32290    76561198023491408                0      214250\n",
       "88240    76561198023491408                0       20530\n",
       "139341   76561198023491408                0      238090\n",
       "...                    ...              ...         ...\n",
       "2908948  76561198023491408                0         280\n",
       "2918672  76561198023491408                0       12120\n",
       "2942219  76561198023491408                0      209000\n",
       "2973500  76561198023491408                1      234140\n",
       "2997793  76561198023491408                1        6020\n",
       "\n",
       "[110 rows x 3 columns]"
      ]
     },
     "execution_count": 34,
     "metadata": {},
     "output_type": "execute_result"
    }
   ],
   "source": [
    "#cuáles vio?\n",
    "usuario_vistas = reviews[reviews['user_id'] == usuario]\n",
    "print(usuario_vistas.shape)\n",
    "usuario_vistas"
   ]
  },
  {
   "cell_type": "code",
   "execution_count": 35,
   "metadata": {
    "ExecuteTime": {
     "end_time": "2021-02-03T13:15:07.924324Z",
     "start_time": "2021-02-03T13:15:07.886450Z"
    }
   },
   "outputs": [
    {
     "data": {
      "text/html": [
       "<div>\n",
       "<style scoped>\n",
       "    .dataframe tbody tr th:only-of-type {\n",
       "        vertical-align: middle;\n",
       "    }\n",
       "\n",
       "    .dataframe tbody tr th {\n",
       "        vertical-align: top;\n",
       "    }\n",
       "\n",
       "    .dataframe thead th {\n",
       "        text-align: right;\n",
       "    }\n",
       "</style>\n",
       "<table border=\"1\" class=\"dataframe\">\n",
       "  <thead>\n",
       "    <tr style=\"text-align: right;\">\n",
       "      <th></th>\n",
       "      <th>product_id</th>\n",
       "      <th>app_name</th>\n",
       "    </tr>\n",
       "  </thead>\n",
       "  <tbody>\n",
       "    <tr>\n",
       "      <th>0</th>\n",
       "      <td>761140</td>\n",
       "      <td>Lost Summoner Kitty</td>\n",
       "    </tr>\n",
       "    <tr>\n",
       "      <th>1</th>\n",
       "      <td>643980</td>\n",
       "      <td>Ironbound</td>\n",
       "    </tr>\n",
       "    <tr>\n",
       "      <th>2</th>\n",
       "      <td>670290</td>\n",
       "      <td>Real Pool 3D - Poolians</td>\n",
       "    </tr>\n",
       "    <tr>\n",
       "      <th>3</th>\n",
       "      <td>767400</td>\n",
       "      <td>弹炸人2222</td>\n",
       "    </tr>\n",
       "    <tr>\n",
       "      <th>4</th>\n",
       "      <td>773570</td>\n",
       "      <td>Log Challenge</td>\n",
       "    </tr>\n",
       "    <tr>\n",
       "      <th>...</th>\n",
       "      <td>...</td>\n",
       "      <td>...</td>\n",
       "    </tr>\n",
       "    <tr>\n",
       "      <th>32019</th>\n",
       "      <td>773640</td>\n",
       "      <td>Colony On Mars</td>\n",
       "    </tr>\n",
       "    <tr>\n",
       "      <th>32020</th>\n",
       "      <td>733530</td>\n",
       "      <td>LOGistICAL: South Africa</td>\n",
       "    </tr>\n",
       "    <tr>\n",
       "      <th>32021</th>\n",
       "      <td>610660</td>\n",
       "      <td>Russian Roads</td>\n",
       "    </tr>\n",
       "    <tr>\n",
       "      <th>32022</th>\n",
       "      <td>658870</td>\n",
       "      <td>EXIT 2 - Directions</td>\n",
       "    </tr>\n",
       "    <tr>\n",
       "      <th>32023</th>\n",
       "      <td>681550</td>\n",
       "      <td>Maze Run VR</td>\n",
       "    </tr>\n",
       "  </tbody>\n",
       "</table>\n",
       "<p>32024 rows × 2 columns</p>\n",
       "</div>"
      ],
      "text/plain": [
       "       product_id                  app_name\n",
       "0          761140       Lost Summoner Kitty\n",
       "1          643980                 Ironbound\n",
       "2          670290   Real Pool 3D - Poolians\n",
       "3          767400                   弹炸人2222\n",
       "4          773570             Log Challenge\n",
       "...           ...                       ...\n",
       "32019      773640            Colony On Mars\n",
       "32020      733530  LOGistICAL: South Africa\n",
       "32021      610660             Russian Roads\n",
       "32022      658870       EXIT 2 - Directions\n",
       "32023      681550               Maze Run VR\n",
       "\n",
       "[32024 rows x 2 columns]"
      ]
     },
     "execution_count": 35,
     "metadata": {},
     "output_type": "execute_result"
    }
   ],
   "source": [
    "#acá guardamos las recomendaciones\n",
    "recomendaciones_usuario=games.copy()\n",
    "\n",
    "#borramos las vistas\n",
    "recomendaciones_usuario.drop(usuario_vistas.product_id,inplace = True)\n",
    "recomendaciones_usuario = recomendaciones_usuario.reset_index()\n",
    "recomendaciones_usuario.shape\n",
    "recomendaciones_usuario"
   ]
  },
  {
   "cell_type": "code",
   "execution_count": 36,
   "metadata": {
    "ExecuteTime": {
     "end_time": "2021-02-03T13:15:08.126715Z",
     "start_time": "2021-02-03T13:15:07.926319Z"
    }
   },
   "outputs": [
    {
     "data": {
      "text/html": [
       "<div>\n",
       "<style scoped>\n",
       "    .dataframe tbody tr th:only-of-type {\n",
       "        vertical-align: middle;\n",
       "    }\n",
       "\n",
       "    .dataframe tbody tr th {\n",
       "        vertical-align: top;\n",
       "    }\n",
       "\n",
       "    .dataframe thead th {\n",
       "        text-align: right;\n",
       "    }\n",
       "</style>\n",
       "<table border=\"1\" class=\"dataframe\">\n",
       "  <thead>\n",
       "    <tr style=\"text-align: right;\">\n",
       "      <th></th>\n",
       "      <th>product_id</th>\n",
       "      <th>app_name</th>\n",
       "      <th>Estimate_Score</th>\n",
       "    </tr>\n",
       "  </thead>\n",
       "  <tbody>\n",
       "    <tr>\n",
       "      <th>23274</th>\n",
       "      <td>377530</td>\n",
       "      <td>侠客风云传(Tale of Wuxia)</td>\n",
       "      <td>0.9</td>\n",
       "    </tr>\n",
       "    <tr>\n",
       "      <th>28983</th>\n",
       "      <td>237970</td>\n",
       "      <td>Memento Mori 2</td>\n",
       "      <td>0.9</td>\n",
       "    </tr>\n",
       "    <tr>\n",
       "      <th>14646</th>\n",
       "      <td>658160</td>\n",
       "      <td>ClickRaid</td>\n",
       "      <td>0.9</td>\n",
       "    </tr>\n",
       "    <tr>\n",
       "      <th>11281</th>\n",
       "      <td>673190</td>\n",
       "      <td>All-Star Fruit Racing</td>\n",
       "      <td>0.9</td>\n",
       "    </tr>\n",
       "    <tr>\n",
       "      <th>25125</th>\n",
       "      <td>251290</td>\n",
       "      <td>The Legend of Heroes: Trails in the Sky SC</td>\n",
       "      <td>0.8</td>\n",
       "    </tr>\n",
       "    <tr>\n",
       "      <th>...</th>\n",
       "      <td>...</td>\n",
       "      <td>...</td>\n",
       "      <td>...</td>\n",
       "    </tr>\n",
       "    <tr>\n",
       "      <th>11342</th>\n",
       "      <td>643870</td>\n",
       "      <td>Kitten adventures in city park</td>\n",
       "      <td>0.0</td>\n",
       "    </tr>\n",
       "    <tr>\n",
       "      <th>26670</th>\n",
       "      <td>355970</td>\n",
       "      <td>Home is Where One Starts...</td>\n",
       "      <td>0.0</td>\n",
       "    </tr>\n",
       "    <tr>\n",
       "      <th>2669</th>\n",
       "      <td>302690</td>\n",
       "      <td>Metal Dead</td>\n",
       "      <td>0.0</td>\n",
       "    </tr>\n",
       "    <tr>\n",
       "      <th>26995</th>\n",
       "      <td>346040</td>\n",
       "      <td>Joe's Diner</td>\n",
       "      <td>0.0</td>\n",
       "    </tr>\n",
       "    <tr>\n",
       "      <th>697</th>\n",
       "      <td>46520</td>\n",
       "      <td>Wasteland Angel</td>\n",
       "      <td>0.0</td>\n",
       "    </tr>\n",
       "  </tbody>\n",
       "</table>\n",
       "<p>32024 rows × 3 columns</p>\n",
       "</div>"
      ],
      "text/plain": [
       "       product_id                                    app_name  Estimate_Score\n",
       "23274      377530                        侠客风云传(Tale of Wuxia)             0.9\n",
       "28983      237970                              Memento Mori 2             0.9\n",
       "14646      658160                                   ClickRaid             0.9\n",
       "11281      673190                       All-Star Fruit Racing             0.9\n",
       "25125      251290  The Legend of Heroes: Trails in the Sky SC             0.8\n",
       "...           ...                                         ...             ...\n",
       "11342      643870              Kitten adventures in city park             0.0\n",
       "26670      355970                 Home is Where One Starts...             0.0\n",
       "2669       302690                                  Metal Dead             0.0\n",
       "26995      346040                                 Joe's Diner             0.0\n",
       "697         46520                             Wasteland Angel             0.0\n",
       "\n",
       "[32024 rows x 3 columns]"
      ]
     },
     "execution_count": 36,
     "metadata": {},
     "output_type": "execute_result"
    }
   ],
   "source": [
    "#recomendamos\n",
    "recomendaciones_usuario['Estimate_Score'] = recomendaciones_usuario['product_id'].apply(lambda x: algo.predict(usuario, x).est)\n",
    "recomendaciones_usuario = recomendaciones_usuario.sort_values('Estimate_Score', ascending=False)\n",
    "recomendaciones_usuario"
   ]
  },
  {
   "cell_type": "markdown",
   "metadata": {},
   "source": [
    "## Evaluación"
   ]
  },
  {
   "cell_type": "markdown",
   "metadata": {},
   "source": [
    "Utilizaremos el rmse. La principal crítica a esta métrica es que ciertos\n",
    "errores no son tan importantes como otros ya que cometer errores\n",
    "con los juegos que más le gustaron al usuario es mas grave que cometer errores\n",
    "sobre los juegos que no le han gustado o con calificaciones intermedias."
   ]
  },
  {
   "cell_type": "code",
   "execution_count": 37,
   "metadata": {
    "ExecuteTime": {
     "end_time": "2021-02-03T13:15:08.833947Z",
     "start_time": "2021-02-03T13:15:08.129308Z"
    }
   },
   "outputs": [
    {
     "name": "stdout",
     "output_type": "stream",
     "text": [
      "RMSE: 0.4362\n"
     ]
    },
    {
     "data": {
      "text/plain": [
       "0.4362288253387486"
      ]
     },
     "execution_count": 37,
     "metadata": {},
     "output_type": "execute_result"
    }
   ],
   "source": [
    "from surprise import accuracy\n",
    "accuracy.rmse(predictions)"
   ]
  },
  {
   "cell_type": "markdown",
   "metadata": {},
   "source": [
    "## Optimizacón de parámetros"
   ]
  },
  {
   "cell_type": "code",
   "execution_count": 38,
   "metadata": {
    "ExecuteTime": {
     "end_time": "2021-02-03T13:34:52.768067Z",
     "start_time": "2021-02-03T13:15:08.835869Z"
    }
   },
   "outputs": [
    {
     "name": "stdout",
     "output_type": "stream",
     "text": [
      "\n",
      "Número de Factores: 1\n",
      "Evaluating RMSE of algorithm SVD on 3 split(s).\n",
      "\n",
      "                  Fold 1  Fold 2  Fold 3  Mean    Std     \n",
      "RMSE (testset)    0.4332  0.4328  0.4335  0.4332  0.0003  \n",
      "Fit time          35.70   38.23   37.80   37.25   1.10    \n",
      "Test time         9.23    9.79    9.14    9.39    0.29    \n",
      "\n",
      "Número de Factores: 2\n",
      "Evaluating RMSE of algorithm SVD on 3 split(s).\n",
      "\n",
      "                  Fold 1  Fold 2  Fold 3  Mean    Std     \n",
      "RMSE (testset)    0.4332  0.4327  0.4333  0.4331  0.0003  \n",
      "Fit time          38.62   39.46   41.32   39.80   1.13    \n",
      "Test time         9.53    10.44   9.60    9.86    0.42    \n",
      "\n",
      "Número de Factores: 4\n",
      "Evaluating RMSE of algorithm SVD on 3 split(s).\n",
      "\n",
      "                  Fold 1  Fold 2  Fold 3  Mean    Std     \n",
      "RMSE (testset)    0.4336  0.4331  0.4327  0.4331  0.0004  \n",
      "Fit time          40.14   40.04   35.92   38.70   1.97    \n",
      "Test time         9.80    8.06    8.05    8.64    0.82    \n",
      "\n",
      "Número de Factores: 8\n",
      "Evaluating RMSE of algorithm SVD on 3 split(s).\n",
      "\n",
      "                  Fold 1  Fold 2  Fold 3  Mean    Std     \n",
      "RMSE (testset)    0.4336  0.4334  0.4331  0.4334  0.0002  \n",
      "Fit time          45.23   44.74   45.11   45.02   0.21    \n",
      "Test time         8.94    8.59    11.76   9.77    1.42    \n",
      "\n",
      "Número de Factores: 10\n",
      "Evaluating RMSE of algorithm SVD on 3 split(s).\n",
      "\n",
      "                  Fold 1  Fold 2  Fold 3  Mean    Std     \n",
      "RMSE (testset)    0.4333  0.4332  0.4333  0.4333  0.0001  \n",
      "Fit time          47.30   54.47   54.60   52.12   3.41    \n",
      "Test time         8.54    13.39   11.71   11.22   2.01    \n",
      "\n",
      "Número de Factores: 12\n",
      "Evaluating RMSE of algorithm SVD on 3 split(s).\n",
      "\n",
      "                  Fold 1  Fold 2  Fold 3  Mean    Std     \n",
      "RMSE (testset)    0.4333  0.4331  0.4334  0.4333  0.0001  \n",
      "Fit time          57.87   61.06   54.89   57.94   2.52    \n",
      "Test time         11.22   10.36   12.16   11.25   0.73    \n"
     ]
    }
   ],
   "source": [
    "from surprise.model_selection import cross_validate\n",
    "\n",
    "rmse_test_means = []\n",
    "factores = [1,2,4,8,10,12]\n",
    "\n",
    "for factor in factores:\n",
    "    print(f'\\nNúmero de Factores: {factor}')\n",
    "    algo = SVD(n_factors=factor)\n",
    "    cv = cross_validate(algo, data, measures=['RMSE'], cv = 3, verbose=True)\n",
    "    rmse_test_means.append(np.mean(cv['test_rmse']))"
   ]
  },
  {
   "cell_type": "code",
   "execution_count": 39,
   "metadata": {
    "ExecuteTime": {
     "end_time": "2021-02-03T13:34:53.071693Z",
     "start_time": "2021-02-03T13:34:52.770062Z"
    }
   },
   "outputs": [
    {
     "data": {
      "image/png": "[encoded data removed]",
      "text/plain": [
       "<Figure size 432x288 with 1 Axes>"
      ]
     },
     "metadata": {
      "needs_background": "light"
     },
     "output_type": "display_data"
    }
   ],
   "source": [
    "plt.scatter(factores, rmse_test_means)\n",
    "plt.xlabel('Numero de factores')\n",
    "plt.ylabel('Error RMSE')\n",
    "plt.show()"
   ]
  },
  {
   "cell_type": "markdown",
   "metadata": {},
   "source": [
    "Parámetros a optimizar:\n",
    "\n",
    "- n_factors : el número de factores.\n",
    "\n",
    "- n_epochs : el número de iteraciones del descenso por gradiente estocástico.\n",
    "\n",
    "- lr_all : la tasa de aprendizaje de todos los parámetros.\n",
    "\n",
    "- reg_all : término de regularización para todos los parámetros. "
   ]
  },
  {
   "cell_type": "code",
   "execution_count": 40,
   "metadata": {
    "ExecuteTime": {
     "end_time": "2021-02-03T13:37:46.010350Z",
     "start_time": "2021-02-03T13:34:53.080685Z"
    }
   },
   "outputs": [],
   "source": [
    "from surprise.model_selection import GridSearchCV\n",
    "\n",
    "param_grid = {'n_factors': [2],'n_epochs': [10], 'lr_all': [0.005],\n",
    "              'reg_all': [0.01]}\n",
    "gs = GridSearchCV(SVD, param_grid, measures=['rmse'],cv=2, n_jobs = -1)\n",
    "gs.fit(data)"
   ]
  },
  {
   "cell_type": "code",
   "execution_count": 41,
   "metadata": {
    "ExecuteTime": {
     "end_time": "2021-02-03T13:37:46.081048Z",
     "start_time": "2021-02-03T13:37:46.049959Z"
    }
   },
   "outputs": [
    {
     "name": "stdout",
     "output_type": "stream",
     "text": [
      "0.4284650082270388\n",
      "{'n_factors': 2, 'n_epochs': 10, 'lr_all': 0.005, 'reg_all': 0.01}\n"
     ]
    }
   ],
   "source": [
    "print(gs.best_score['rmse'])\n",
    "print(gs.best_params['rmse'])"
   ]
  },
  {
   "cell_type": "markdown",
   "metadata": {},
   "source": [
    "## SVD++"
   ]
  },
  {
   "cell_type": "code",
   "execution_count": 42,
   "metadata": {
    "ExecuteTime": {
     "end_time": "2021-02-03T13:37:48.452802Z",
     "start_time": "2021-02-03T13:37:46.088032Z"
    }
   },
   "outputs": [],
   "source": [
    "#definimos\n",
    "from surprise import SVDpp\n",
    "algo = SVDpp()"
   ]
  },
  {
   "cell_type": "code",
   "execution_count": 43,
   "metadata": {
    "ExecuteTime": {
     "end_time": "2021-02-03T13:44:24.193782Z",
     "start_time": "2021-02-03T13:37:48.458781Z"
    }
   },
   "outputs": [
    {
     "data": {
      "text/plain": [
       "<surprise.prediction_algorithms.matrix_factorization.SVDpp at 0x20cce3ab288>"
      ]
     },
     "execution_count": 43,
     "metadata": {},
     "output_type": "execute_result"
    }
   ],
   "source": [
    "algo.fit(trainset)"
   ]
  },
  {
   "cell_type": "code",
   "execution_count": 44,
   "metadata": {
    "ExecuteTime": {
     "end_time": "2021-02-03T13:44:48.316456Z",
     "start_time": "2021-02-03T13:44:24.193782Z"
    }
   },
   "outputs": [],
   "source": [
    "#predecimos\n",
    "predictions = algo.test(testset)"
   ]
  },
  {
   "cell_type": "code",
   "execution_count": 45,
   "metadata": {
    "ExecuteTime": {
     "end_time": "2021-02-03T13:44:48.328715Z",
     "start_time": "2021-02-03T13:44:48.316456Z"
    }
   },
   "outputs": [
    {
     "data": {
      "text/plain": [
       "Prediction(uid=76561198031697200, iid=306130, r_ui=1.0, est=0.7558318479049856, details={'was_impossible': False})"
      ]
     },
     "execution_count": 45,
     "metadata": {},
     "output_type": "execute_result"
    }
   ],
   "source": [
    "#vemos un ej. de predicción \n",
    "predictions[1]"
   ]
  },
  {
   "cell_type": "code",
   "execution_count": 46,
   "metadata": {
    "ExecuteTime": {
     "end_time": "2021-02-03T13:44:49.029407Z",
     "start_time": "2021-02-03T13:44:48.330708Z"
    }
   },
   "outputs": [
    {
     "name": "stdout",
     "output_type": "stream",
     "text": [
      "RMSE: 0.4155\n"
     ]
    },
    {
     "data": {
      "text/plain": [
       "0.41554778107519186"
      ]
     },
     "execution_count": 46,
     "metadata": {},
     "output_type": "execute_result"
    }
   ],
   "source": [
    "from surprise import accuracy\n",
    "accuracy.rmse(predictions)\n"
   ]
  },
  {
   "cell_type": "code",
   "execution_count": 47,
   "metadata": {
    "ExecuteTime": {
     "end_time": "2021-02-03T14:24:00.035620Z",
     "start_time": "2021-02-03T13:44:49.031099Z"
    }
   },
   "outputs": [
    {
     "name": "stdout",
     "output_type": "stream",
     "text": [
      "\n",
      "Número de Factores: 1\n",
      "Evaluating RMSE of algorithm SVDpp on 3 split(s).\n",
      "\n",
      "                  Fold 1  Fold 2  Fold 3  Mean    Std     \n",
      "RMSE (testset)    0.4190  0.4221  0.4181  0.4197  0.0017  \n",
      "Fit time          208.05  224.36  233.92  222.11  10.68   \n",
      "Test time         17.35   20.27   21.03   19.55   1.59    \n",
      "\n",
      "Número de Factores: 2\n",
      "Evaluating RMSE of algorithm SVDpp on 3 split(s).\n",
      "\n",
      "                  Fold 1  Fold 2  Fold 3  Mean    Std     \n",
      "RMSE (testset)    0.4187  0.4202  0.4187  0.4192  0.0007  \n",
      "Fit time          218.71  223.97  223.02  221.90  2.29    \n",
      "Test time         17.55   17.41   20.40   18.45   1.38    \n",
      "\n",
      "Número de Factores: 4\n",
      "Evaluating RMSE of algorithm SVDpp on 3 split(s).\n",
      "\n",
      "                  Fold 1  Fold 2  Fold 3  Mean    Std     \n",
      "RMSE (testset)    0.4176  0.4174  0.4189  0.4180  0.0007  \n",
      "Fit time          238.71  259.44  261.15  253.10  10.20   \n",
      "Test time         19.79   20.29   19.38   19.82   0.37    \n"
     ]
    }
   ],
   "source": [
    "from surprise.model_selection import cross_validate\n",
    "\n",
    "rmse_test_means = []\n",
    "factores = [4]\n",
    "\n",
    "for factor in factores:\n",
    "    print(f'\\nNúmero de Factores: {factor}')\n",
    "    algo = SVDpp(n_factors=factor)\n",
    "    cv = cross_validate(algo, data, measures=['RMSE'], cv = 3, verbose=True)\n",
    "    rmse_test_means.append(np.mean(cv['test_rmse']))"
   ]
  },
  {
   "cell_type": "code",
   "execution_count": 48,
   "metadata": {
    "ExecuteTime": {
     "end_time": "2021-02-03T14:24:00.304008Z",
     "start_time": "2021-02-03T14:24:00.038591Z"
    }
   },
   "outputs": [
    {
     "data": {
      "image/png": "[encoded data removed]",
      "text/plain": [
       "<Figure size 432x288 with 1 Axes>"
      ]
     },
     "metadata": {
      "needs_background": "light"
     },
     "output_type": "display_data"
    }
   ],
   "source": [
    "plt.scatter(factores, rmse_test_means)\n",
    "plt.xlabel('Numero de factores')\n",
    "plt.ylabel('Error RMSE')\n",
    "plt.show()"
   ]
  },
  {
   "cell_type": "code",
   "execution_count": null,
   "metadata": {
    "ExecuteTime": {
     "end_time": "2021-02-03T15:10:11.537531Z",
     "start_time": "2021-02-03T13:09:25.783Z"
    }
   },
   "outputs": [],
   "source": [
    "from surprise.model_selection import GridSearchCV\n",
    "\n",
    "param_grid = {'n_factors': [4],'n_epochs': [20], 'lr_all': [0.005],\n",
    "              'reg_all': [0.01]}\n",
    "\n",
    "gs = GridSearchCV(SVDpp, param_grid, measures=['rmse'],cv=2, n_jobs = -1)\n",
    "gs.fit(data)\n",
    "print(gs.best_score['rmse'])\n",
    "print(gs.best_params['rmse'])"
   ]
  },
  {
   "cell_type": "markdown",
   "metadata": {},
   "source": [
    "**A partir de correr los dos modelos y optimizar hiperparámetros, se elije como mejor modelo a SVD++ porque minimiza el RMSE en el valor 0.4122830997858415.\n",
    "Los hiperparámetros seleccionados son:\n",
    "\n",
    "- n_factors': 4, \n",
    "\n",
    "- n_epochs': 20\n",
    "\n",
    "- lr_all': 0.005, \n",
    "\n",
    "- reg_all: 0.01"
   ]
  },
  {
   "cell_type": "markdown",
   "metadata": {},
   "source": [
    "#  **C - Investigación**"
   ]
  },
  {
   "cell_type": "markdown",
   "metadata": {},
   "source": [
    "**Algunas sugerencias para continuar con el modelo son las siguientes:**\n",
    "\n",
    "1 - Utilizar procesamiento del lenguaje natural para poder interpretar el texto de cada review. Con el uso de librerías vistas en clase como NLTK se podría alcanzar una mejor interpretación de la columna \"text\" del dataset \"Reviews\".\n",
    "\n",
    "2 - Otra oportunidad de mejora sería establecer una métrica superadora al rmse ya que en en las preferencias reales, algunos errores no son tan importantes como otros, por ejemplo si un usuario utilizó durante muchas horas un juego y el sistema predice que no le gusta tenemos un error igual a 1, que es el mismo error que existe entre un juego que no le gusta y que el sistema recomienda. Sin embargo el primero es bastante mas importante que el segundo ya que a la hora de recomendar\n",
    "queremos encontrar los juegos que le gustan. \n",
    "\n",
    "3 - Otra posibilidad de mejora sería estudiar modificaciones que permitan garantizar el cumplimiento de la serendipity: podrían eliminarse las recomendaciones obvias, por ejemplo, quitando de recomendaciones_usuario los juegos más populares. \n",
    "\n",
    "4 - Finalmente, también se podría desarrollar un algoritmo que nos permita recomendar\n",
    "ítems nuevos. Algunos de estos ítems van a ser buenos y otros no, incluso pueden ser muy malos. Tenemos que\n",
    "descubrir cuáles serán realmente buenos mediante experimentación. Los algoritmos que se\n",
    "encargan de este tipo de cuestiones se denominan ”multi-armed bandits”\n"
   ]
  },
  {
   "cell_type": "markdown",
   "metadata": {},
   "source": [
    "**Con las mejoras planteadas se espera encontrar los mejores resultados:**\n",
    "\n",
    "1 - Con esto se espera poder verificar la hipotesis planteada tras realizar la \"pregunta interesante\": se graficaron boxplots que expresan la distribución de horas según el tipo de comentarios de cada juego y se verificó que no hay una relación directa entre el tiempo jugado al realizar el review y las valoraciones indicadas en el dataset \"games\" (según este análisis, por ejemplo, los juegos con comentarios Mixtos tienen una media y una mediana mayor de horas de juegos que los aquellos con reviews mayoritariamente positivos) lo cual no sería muy lógico a priori aunque podría suceder, por ejemplo, que usuarios comenten negativamente juegos que les gustan solo por el hecho de querer realizar \"críticas objetivas\", por estar influenciados por otros comentarios o simplemente por cansarse de los juegos tras jugarlos muchas horas (por cambio de gustos, por frustración al no poder ganarlo, por no tener un buen final, etc).\n",
    "\n",
    "2 - Con estas métricas basadas en el orden se espera poder mejorar el ranking al otorgar mayor relevancia al error de las primeras posiciones del ranking de recomendaciones de cada usuario.En definitiva cometer errores con los juegos que mas le gustaron al usuario es mas grave que cometer errores sobre los juegos que no le han gustado o con calificaciones intermedias.  MPR (Mean Reciprocal Rank) y MAP (Mean Average Precision) son métricas basadas en el orden que intentan atacar este problema.\n",
    "\n",
    "3 - Esta implementación quitaría los juegos más conocidos como Team Fortress 2, Rust y Bordenlands 2 (el top tres con mayores recomendaciones).\n",
    "\n",
    "4 - Podría incluirse una sección de recomendaciones llamada \"novedades\" para poder calificar a los juegos nuevos y combatir el problema del cold start."
   ]
  },
  {
   "cell_type": "markdown",
   "metadata": {},
   "source": [
    " ## **D - Análisis Exploratorio utilizando NLP**"
   ]
  },
  {
   "cell_type": "markdown",
   "metadata": {},
   "source": [
    "**Esta punto pretende explorar el tipo de comentarios y se fundamenta en el hecho de que el sistema de recomendación del Tp3 consideraba como juegos recomendados aquellos que fueron comentados por usuarios que realizaron su review al superar su propia mediana global de horas de juegos. Sin embargo, al realizar esta diferenciación, se corre el riesgo de cometer dos tipos de errores: incorporar juegos con comentarios positivos con pocas horas de juego y juegos con comentarios negativos con muchas horas de juego.**\n",
    "**Como se vió anteriormente, existe una gran similitud entre los juegos comentados negativamente y positivamente en cuanto a la cantidad de horas jugadas.Para realizar la exploración se tratará de tomar los comentarios negativos a partir de las categorías provistas por el dataset games y extrapolarlas al dataset games a fin de saber cuáles son las palabras más frecuentes en cada uno de ellos.**"
   ]
  },
  {
   "cell_type": "code",
   "execution_count": 50,
   "metadata": {
    "ExecuteTime": {
     "end_time": "2021-02-03T15:11:32.392836Z",
     "start_time": "2021-02-03T15:11:31.531550Z"
    }
   },
   "outputs": [
    {
     "data": {
      "image/png": "[encoded data removed]",
      "text/plain": [
       "<Figure size 1080x360 with 1 Axes>"
      ]
     },
     "metadata": {
      "needs_background": "light"
     },
     "output_type": "display_data"
    }
   ],
   "source": [
    "nlp_dataset=comb\n",
    "fig=plt.figure(figsize=(15,5))\n",
    "plt.suptitle('Gráfico XI: Cantidad de Productos al comentar',fontsize=20, ha='center')\n",
    "sns.countplot(y=nlp_dataset.sentiment)\n",
    "fig.subplots_adjust(top=0.8)\n",
    "plt.show()"
   ]
  },
  {
   "cell_type": "code",
   "execution_count": 51,
   "metadata": {
    "ExecuteTime": {
     "end_time": "2021-02-03T15:11:44.383088Z",
     "start_time": "2021-02-03T15:11:33.275343Z"
    }
   },
   "outputs": [
    {
     "data": {
      "image/png": "[encoded data removed]",
      "text/plain": [
       "<Figure size 1080x360 with 1 Axes>"
      ]
     },
     "metadata": {
      "needs_background": "light"
     },
     "output_type": "display_data"
    },
    {
     "name": "stdout",
     "output_type": "stream",
     "text": [
      "53183 First of all, I cannot believe that STEAM is still selling this unmitigated piece of crap.\n",
      "I'm not sure if the developer *ever* actually intended to complete the game, or if this was a simple cash grab right from the start. Either way, my suggestion would be to run, don't walk, as far away from this... I can't even call it a game, as I've never actually ever even gotten it to start up for me.\n",
      "Anyway, you get the picture. If you choose to pick this up anyway, on your own head be it. You have been warned... Mostly Negative\n"
     ]
    }
   ],
   "source": [
    "#nlp_dataset=new_dataset[['text','sentiment']]\n",
    "nlp_dataset=nlp_dataset[(nlp_dataset.sentiment=='Positive')|\n",
    "                        (nlp_dataset.sentiment=='Overwhelmingly Negative')|\n",
    "                        (nlp_dataset.sentiment=='Very Negative')|\n",
    "                        (nlp_dataset.sentiment=='Mostly Negative')|\n",
    "                        (nlp_dataset.sentiment=='Negative')]\n",
    "\n",
    "fig=plt.figure(figsize=(15,5))\n",
    "plt.suptitle('Gráfico XII: Cantidad de Productos al comentar',fontsize=20, ha='center')\n",
    "sns.countplot(nlp_dataset.sentiment)\n",
    "fig.subplots_adjust(top=0.8)\n",
    "plt.show()\n",
    "\n",
    "\n",
    "#breve exploración a través de un ejemplo aleatorio\n",
    "index_random = np.random.randint(0,high = nlp_dataset.shape[0])\n",
    "texto = nlp_dataset.iloc[index_random].text\n",
    "print(index_random, texto, nlp_dataset.iloc[index_random].sentiment)"
   ]
  },
  {
   "cell_type": "markdown",
   "metadata": {},
   "source": [
    "**Hasta aquí, se vió que el dataset está muy desbalanceado y que el porcentaje de reviews negativos es ínfimo, por lo que se descarta el uso del atributo text para la mejora del sistema de recomendación. De todas formas, se realizará el análisis exploratorio para poder diferenciar binariamente entre reviews positivos y negativos.**"
   ]
  },
  {
   "cell_type": "markdown",
   "metadata": {},
   "source": [
    "**Tokenización, StopWords y Rarewords**"
   ]
  },
  {
   "cell_type": "code",
   "execution_count": 52,
   "metadata": {
    "ExecuteTime": {
     "end_time": "2021-02-03T15:11:44.428934Z",
     "start_time": "2021-02-03T15:11:44.385050Z"
    }
   },
   "outputs": [],
   "source": [
    "#nlp_dataset\n",
    "filtrar = []\n",
    "if True:\n",
    "    filtrar.append(\"game\")\n",
    "    filtrar.append(\"I\")\n",
    "    filtrar.append(\"The\")\n",
    "    filtrar.append(\"It\")\n",
    "    filtrar.append(\"This\")\n",
    "    filtrar.append(\"one\")\n",
    "    filtrar.append(\"not\")\n",
    "    filtrar.append(\"get\")\n",
    "    filtrar.append(\"really\")\n",
    "    filtrar.append(\"games\")\n",
    "    filtrar.append(\"like\")\n",
    "    filtrar.append(\"play\")\n",
    "    filtrar.append(\"time\")\n",
    "    filtrar.append(\"would\")\n",
    "    filtrar.append(\"even\")\n",
    "    filtrar.append(\"good\")\n",
    "    filtrar.append(\"much\")\n",
    "    filtrar.append(\"You\")\n",
    "    filtrar.append(\"first\")\n",
    "    filtrar.append(\"make\")\n",
    "    filtrar.append(\"playing\")\n",
    "    filtrar.append(\"If\")\n",
    "    filtrar.append(\"played\")\n",
    "    filtrar.append(\"A\")\n",
    "    filtrar.append(\"There\")\n",
    "\n",
    "#TOKENIZACIÓN CON NLTK\n",
    "titular_st = nltk.tokenize.sent_tokenize(texto)\n",
    "titular_wt = nltk.tokenize.word_tokenize(texto)\n",
    "    \n",
    "#NORMALIZACIÓN \n",
    "stopwords = nltk.corpus.stopwords.words('english')\n",
    "stopwords = [palabra for palabra in stopwords if 'not' not in palabra]\n",
    "\n",
    "titular_wt_sin_sw = [word for word in titular_wt if word not in stopwords]\n",
    "\n",
    "#FRECUENCIA DE PALABRAS\n",
    "freq=nltk.FreqDist(titular_wt_sin_sw)"
   ]
  },
  {
   "cell_type": "markdown",
   "metadata": {},
   "source": [
    "### Textos Positivos"
   ]
  },
  {
   "cell_type": "code",
   "execution_count": 53,
   "metadata": {
    "ExecuteTime": {
     "end_time": "2021-02-03T15:11:55.807203Z",
     "start_time": "2021-02-03T15:11:44.431927Z"
    }
   },
   "outputs": [
    {
     "data": {
      "image/png": "[encoded data removed]",
      "text/plain": [
       "<Figure size 1080x576 with 1 Axes>"
      ]
     },
     "metadata": {
      "needs_background": "light"
     },
     "output_type": "display_data"
    }
   ],
   "source": [
    "# Agrupar los titulares por tipo. Crear un dataframe para cada uno. Recuerden usar máscaras.\n",
    "dataset_positive = nlp_dataset[nlp_dataset.implicit_rating==1]\n",
    "\n",
    "#toquenización+borrado de stopwords, palabras de filtrar y palabras de menos de tres letras\n",
    "todos_textos_positivos = []\n",
    "for i in range(dataset_positive.shape[0]):\n",
    "    texto = dataset_positive.iloc[i].text\n",
    "    texto = nltk.tokenize.RegexpTokenizer(\"[\\w]+\").tokenize(texto)\n",
    "    texto = [word for word in texto if word not in stopwords]\n",
    "    texto = [word for word in texto if word not in filtrar]\n",
    "    textoi= [word for word in texto if len(word)>3]\n",
    "\n",
    "    todos_textos_positivos.append(texto)\n",
    "    \n",
    "todos_textos_positivos = list(itertools.chain(*todos_textos_positivos))\n",
    "#todos_textos_positivos[0:10]\n",
    "freq_textos_positivos = nltk.FreqDist(todos_textos_positivos)\n",
    "\n",
    "\n",
    "df_positivos = pd.DataFrame(list(freq_textos_positivos.items()), columns = [\"Word\",\"Frequency\"])\n",
    "df_positivos.sort_values('Frequency',ascending=False, inplace = True)\n",
    "df_positivos.reset_index(drop = True, inplace=True)\n",
    "df_positivos.head()\n",
    "\n",
    "plt.figure(figsize = (15,8))\n",
    "plot = sns.barplot(x  = df_positivos.iloc[:30].Word, y = df_positivos.iloc[:30].Frequency)\n",
    "for item in plot.get_xticklabels():\n",
    "    item.set_rotation(90)\n",
    "plt.show()"
   ]
  },
  {
   "cell_type": "markdown",
   "metadata": {},
   "source": [
    "### Textos Negativos"
   ]
  },
  {
   "cell_type": "code",
   "execution_count": 54,
   "metadata": {
    "ExecuteTime": {
     "end_time": "2021-02-03T15:12:06.062133Z",
     "start_time": "2021-02-03T15:11:55.809198Z"
    }
   },
   "outputs": [
    {
     "data": {
      "image/png": "[encoded data removed]",
      "text/plain": [
       "<Figure size 1080x576 with 1 Axes>"
      ]
     },
     "metadata": {
      "needs_background": "light"
     },
     "output_type": "display_data"
    }
   ],
   "source": [
    "dataset_negative = nlp_dataset[nlp_dataset.implicit_rating==0]\n",
    "\n",
    "todos_textos_negativos = []\n",
    "for i in range(dataset_negative.shape[0]):\n",
    "    texto = dataset_negative.iloc[i].text\n",
    "    texto = nltk.tokenize.RegexpTokenizer(\"[\\w]+\").tokenize(texto)\n",
    "    texto = [word for word in texto if word not in stopwords]\n",
    "    texto = [word for word in texto if word not in filtrar]\n",
    "    texto= [word for word in texto if len(word)>3]\n",
    "    todos_textos_negativos.append(texto)\n",
    "    \n",
    "todos_textos_negativos = list(itertools.chain(*todos_textos_negativos))\n",
    "\n",
    "freq_negative = nltk.FreqDist(todos_textos_negativos)\n",
    "\n",
    "df_negative = pd.DataFrame(list(freq_negative.items()), columns = [\"Word\",\"Frequency\"])\n",
    "\n",
    "df_negative.sort_values('Frequency',ascending=False, inplace = True)\n",
    "\n",
    "df_negative.reset_index(drop = True, inplace=True)\n",
    "\n",
    "plt.figure(figsize = ( 15,8))\n",
    "plot = sns.barplot(x  = df_negative.iloc[:30].Word, y = df_negative.iloc[:30].Frequency)\n",
    "for item in plot.get_xticklabels():\n",
    "    item.set_rotation(90)\n",
    "plt.show()"
   ]
  },
  {
   "cell_type": "markdown",
   "metadata": {},
   "source": [
    "**Lematización**"
   ]
  },
  {
   "cell_type": "code",
   "execution_count": 55,
   "metadata": {
    "ExecuteTime": {
     "end_time": "2021-02-03T15:12:06.128282Z",
     "start_time": "2021-02-03T15:12:06.064121Z"
    }
   },
   "outputs": [],
   "source": [
    "#dataset=comb\n",
    "dataset= pd.concat([dataset_positive, dataset_negative])\n",
    "dataset=pd.concat([dataset.text,dataset.implicit_rating],axis=1)\n",
    "dataset.dropna(axis=0,inplace=True)  # Si hay alguna nan, tiramos esa instancia\n",
    "dataset.head()\n",
    "\n",
    "# Importamos esta libreria que nos permite reemplzar caracteres\n",
    "import re\n",
    "\n",
    "# Importamos el lemmatizar de NLTK, y creamos el objeto\n",
    "from nltk.stem import WordNetLemmatizer\n",
    "wordnet_lemmatizer = WordNetLemmatizer()"
   ]
  },
  {
   "cell_type": "code",
   "execution_count": 56,
   "metadata": {
    "ExecuteTime": {
     "end_time": "2021-02-03T15:12:06.136227Z",
     "start_time": "2021-02-03T15:12:06.129245Z"
    }
   },
   "outputs": [],
   "source": [
    "from nltk.corpus import wordnet\n",
    "\n",
    "def get_wordnet_pos(word):\n",
    "    \"\"\"Map POS tag to first character lemmatize() accepts\"\"\"\n",
    "    tag = nltk.pos_tag([word])[0][1][0].upper()\n",
    "    tag_dict = {\"J\": wordnet.ADJ,\n",
    "                \"N\": wordnet.NOUN,\n",
    "                \"V\": wordnet.VERB,\n",
    "                \"R\": wordnet.ADV}\n",
    "\n",
    "    return tag_dict.get(tag, wordnet.NOUN)\n"
   ]
  },
  {
   "cell_type": "code",
   "execution_count": 57,
   "metadata": {
    "ExecuteTime": {
     "end_time": "2021-02-03T15:12:06.143209Z",
     "start_time": "2021-02-03T15:12:06.137224Z"
    }
   },
   "outputs": [],
   "source": [
    "# Importamos el lemmatizar de NLTK, y creamos el objeto\n",
    "from nltk.stem import WordNetLemmatizer\n",
    "wordnet_lemmatizer = WordNetLemmatizer()\n",
    "\n",
    "# Importamos esta libreria que nos permite reemplzar caracteres\n",
    "import re\n",
    "\n",
    "# Traemos nuevamente las stopwords\n",
    "stopwords = nltk.corpus.stopwords.words('english')\n",
    "#stopword.remove('no')\n",
    "#stopword.remove('not')"
   ]
  },
  {
   "cell_type": "code",
   "execution_count": 58,
   "metadata": {
    "ExecuteTime": {
     "end_time": "2021-02-03T15:48:06.384839Z",
     "start_time": "2021-02-03T15:12:06.145202Z"
    }
   },
   "outputs": [],
   "source": [
    "titular_list=[]\n",
    "for titular in dataset.text:\n",
    "    # Vamos a reemplzar los caracteres que no sean leras por espacios\n",
    "    titular=re.sub(\"[^a-zA-Z]\",\" \",str(titular))\n",
    "    # Pasamos todo a minúsculas\n",
    "    titular=titular.lower()\n",
    "    # Tokenizamos para separar las palabras\n",
    "    titular=nltk.word_tokenize(titular)\n",
    "    # Aplicamos el Lemmatizer (Esto puede tardar un ratito)\n",
    "    frase_lemma = [wordnet_lemmatizer.lemmatize(w, get_wordnet_pos(w)) for w in titular]\n",
    "    # Eliminamos las palabras demenos de 3 letras\n",
    "    titular = [palabra for palabra in titular if len(palabra)>3]\n",
    "    # Sacamos las Stopwords\n",
    "    titular = [palabra for palabra in titular if not palabra in stopwords]\n",
    "    # Por ultimo volvemos a unir el titular\n",
    "    titular=\" \".join(titular)\n",
    "    #dataset[\"titular_normalizado\"] = titular_list\n",
    "    titular_list.append(titular)"
   ]
  },
  {
   "cell_type": "code",
   "execution_count": 59,
   "metadata": {
    "ExecuteTime": {
     "end_time": "2021-02-03T15:48:06.458617Z",
     "start_time": "2021-02-03T15:48:06.387805Z"
    }
   },
   "outputs": [
    {
     "data": {
      "text/html": [
       "<div>\n",
       "<style scoped>\n",
       "    .dataframe tbody tr th:only-of-type {\n",
       "        vertical-align: middle;\n",
       "    }\n",
       "\n",
       "    .dataframe tbody tr th {\n",
       "        vertical-align: top;\n",
       "    }\n",
       "\n",
       "    .dataframe thead th {\n",
       "        text-align: right;\n",
       "    }\n",
       "</style>\n",
       "<table border=\"1\" class=\"dataframe\">\n",
       "  <thead>\n",
       "    <tr style=\"text-align: right;\">\n",
       "      <th></th>\n",
       "      <th>titular_lemm</th>\n",
       "      <th>implicit_rating</th>\n",
       "    </tr>\n",
       "  </thead>\n",
       "  <tbody>\n",
       "    <tr>\n",
       "      <th>0</th>\n",
       "      <td>worst game ever played dont give money</td>\n",
       "      <td>1</td>\n",
       "    </tr>\n",
       "    <tr>\n",
       "      <th>4899</th>\n",
       "      <td>somewhere zibylon zibylon command centre read ...</td>\n",
       "      <td>1</td>\n",
       "    </tr>\n",
       "    <tr>\n",
       "      <th>5784</th>\n",
       "      <td>afraid afraid well certainly links master horr...</td>\n",
       "      <td>1</td>\n",
       "    </tr>\n",
       "    <tr>\n",
       "      <th>5786</th>\n",
       "      <td>game good annoys steam stopped update game stu...</td>\n",
       "      <td>1</td>\n",
       "    </tr>\n",
       "    <tr>\n",
       "      <th>5788</th>\n",
       "      <td>hard game recommend people actually liked anim...</td>\n",
       "      <td>1</td>\n",
       "    </tr>\n",
       "  </tbody>\n",
       "</table>\n",
       "</div>"
      ],
      "text/plain": [
       "                                           titular_lemm  implicit_rating\n",
       "0                worst game ever played dont give money                1\n",
       "4899  somewhere zibylon zibylon command centre read ...                1\n",
       "5784  afraid afraid well certainly links master horr...                1\n",
       "5786  game good annoys steam stopped update game stu...                1\n",
       "5788  hard game recommend people actually liked anim...                1"
      ]
     },
     "execution_count": 59,
     "metadata": {},
     "output_type": "execute_result"
    }
   ],
   "source": [
    "dataset[\"titular_lemm\"] = titular_list\n",
    "dataset_lemm = pd.concat([dataset.titular_lemm,dataset.implicit_rating],axis=1)\n",
    "dataset_lemm.dropna(axis=0,inplace=True)  # Por si quedaron titulares vacios\n",
    "dataset_lemm.head()"
   ]
  },
  {
   "cell_type": "code",
   "execution_count": 60,
   "metadata": {
    "ExecuteTime": {
     "end_time": "2021-02-03T15:48:08.622433Z",
     "start_time": "2021-02-03T15:48:06.462605Z"
    }
   },
   "outputs": [
    {
     "name": "stdout",
     "output_type": "stream",
     "text": [
      "50 palabras mas usadas:  ['abandoned', 'abilities', 'ability', 'able', 'absolute', 'absolutely', 'access', 'achievements', 'across', 'acting', 'action', 'actual', 'actually', 'added', 'addictive', 'adding', 'addition', 'adds', 'adventure', 'allow', 'allows', 'almost', 'alone', 'along', 'alot', 'alpha', 'already', 'also', 'although', 'always', 'amazing', 'amount', 'animation', 'animations', 'annoying', 'another', 'anymore', 'anyone', 'anything', 'anyway', 'apparently', 'appear', 'appears', 'arcade', 'area', 'areas', 'around', 'aside', 'asking', 'aspect']\n"
     ]
    }
   ],
   "source": [
    "# Tomamso la lista de palabras y el vector que nos dice si es o no sarcastico el titulo\n",
    "list_titulos = list(dataset_lemm['titular_lemm'].values)\n",
    "recomendado = dataset_lemm['implicit_rating'].values\n",
    "\n",
    "## Para probar con Stemmizer:\n",
    "#list_titulos = list(dataset_stem'titular_stem'].values)\n",
    "#is_sarc = dataset_stem['is_sarcastic'].values\n",
    "\n",
    "from sklearn.feature_extraction.text import CountVectorizer\n",
    "\n",
    "# Usaremos solo las 1000 palabras con mas frecuencia en todo el corpus para generar los vectores\n",
    "max_features=1000\n",
    "\n",
    "# Es decir que cada instancia tendrá 1000 features\n",
    "cou_vec=CountVectorizer(max_features=max_features) # stop_words=\"english\" , ngram_range=(1, 2)\n",
    "\n",
    "matriz_titulos = cou_vec.fit_transform(list_titulos)\n",
    "\n",
    "# Tomamos las palabras\n",
    "all_words = cou_vec.get_feature_names()\n",
    "\n",
    "# Vizualizamos las 50 palabras mas usadas\n",
    "print(\"50 palabras mas usadas: \",all_words[0:50])"
   ]
  },
  {
   "cell_type": "code",
   "execution_count": 61,
   "metadata": {
    "ExecuteTime": {
     "end_time": "2021-02-03T15:48:11.547283Z",
     "start_time": "2021-02-03T15:48:08.623431Z"
    }
   },
   "outputs": [
    {
     "name": "stdout",
     "output_type": "stream",
     "text": [
      "acc :  0.5410805483379626\n"
     ]
    },
    {
     "data": {
      "image/png": "[encoded data removed]",
      "text/plain": [
       "<Figure size 360x360 with 2 Axes>"
      ]
     },
     "metadata": {
      "needs_background": "light"
     },
     "output_type": "display_data"
    }
   ],
   "source": [
    "x = matriz_titulos.toarray()\n",
    "y = recomendado\n",
    "\n",
    "from sklearn.model_selection import train_test_split\n",
    "xtrain, xtest, ytrain, ytest = train_test_split(x,y,test_size=0.2,random_state=42,stratify=y)\n",
    "\n",
    "\n",
    "from sklearn.metrics import confusion_matrix\n",
    "\n",
    "def confusion(ytest,y_pred):\n",
    "    names=[\"No recomendado\",\"Recomendado\"]\n",
    "    cm=confusion_matrix(ytest,y_pred)\n",
    "    f,ax=plt.subplots(figsize=(5,5))\n",
    "    sns.heatmap(cm,annot=True,linewidth=.5,linecolor=\"r\",fmt=\".0f\",ax=ax)\n",
    "    plt.xlabel(\"y_pred\")\n",
    "    plt.ylabel(\"y_true\")\n",
    "    ax.set_xticklabels(names)\n",
    "    ax.set_yticklabels(names)\n",
    "    plt.show()\n",
    "\n",
    "    return\n",
    "\n",
    "\n",
    "from sklearn.naive_bayes import GaussianNB\n",
    "nb = GaussianNB()\n",
    "nb.fit(xtrain,ytrain)\n",
    "print(\"acc : \", nb.score(xtest,ytest))\n",
    "\n",
    "\n",
    "y_pred=nb.predict(xtest)\n",
    "confusion(ytest,y_pred)"
   ]
  },
  {
   "cell_type": "code",
   "execution_count": 62,
   "metadata": {
    "ExecuteTime": {
     "end_time": "2021-02-03T15:51:16.734658Z",
     "start_time": "2021-02-03T15:48:11.549247Z"
    }
   },
   "outputs": [
    {
     "name": "stdout",
     "output_type": "stream",
     "text": [
      "acc:  0.574679688199982\n"
     ]
    },
    {
     "data": {
      "image/png": "[encoded data removed]",
      "text/plain": [
       "<Figure size 360x360 with 2 Axes>"
      ]
     },
     "metadata": {
      "needs_background": "light"
     },
     "output_type": "display_data"
    },
    {
     "data": {
      "image/png": "[encoded data removed]",
      "text/plain": [
       "<Figure size 1080x576 with 1 Axes>"
      ]
     },
     "metadata": {
      "needs_background": "light"
     },
     "output_type": "display_data"
    }
   ],
   "source": [
    "from sklearn.ensemble import RandomForestClassifier\n",
    "from sklearn.metrics import confusion_matrix\n",
    "\n",
    "rf = RandomForestClassifier(n_estimators = 100, random_state=42)\n",
    "rf.fit(xtrain,ytrain)\n",
    "print(\"acc: \",rf.score(xtest,ytest))\n",
    "\n",
    "\n",
    "y_pred=rf.predict(xtest)\n",
    "confusion(ytest,y_pred)\n",
    "\n",
    "\n",
    "# Le preguntamos la importancia de cada feature (cada palabra)\n",
    "importances = rf.feature_importances_\n",
    "# Tomamos la lista de palabras\n",
    "all_words = cou_vec.get_feature_names()\n",
    "columns = all_words\n",
    "\n",
    "# Ordenamos por importnacia y tomamos las 20 primeras\n",
    "indices = np.argsort(importances)[::-1]\n",
    "indices = indices[:20]\n",
    "selected_columns = [columns[i] for i in indices]\n",
    "selected_importances = importances[indices]\n",
    "\n",
    "# Por ultimo graficamos\n",
    "plt.figure(figsize = (15,8))\n",
    "sns.barplot(selected_columns, selected_importances)\n",
    "plt.show()"
   ]
  },
  {
   "cell_type": "markdown",
   "metadata": {},
   "source": [
    "#### Conclusión NLP:\n",
    "\n",
    "**Este punto trató de incorporar los juegos con comentarios positivos pero con poco tiempo de juego al sistema de recomendación, sin embargo, tras realizar el análisis se concluye que no es factible realizar mejoras sustanciales en el sistema de recomendación incorportando NLP por las siguientes razones:**\n",
    "    - a pesar de que no se cuenta con un feautre que defina a cada review como positivo o negativo, se cuenta con una aproximación a través de la columna \"sentiment\" del dataset games, Sin embargo, existe un fuerte desbalance que dificulta caracterizar a los reviews negativos por ser una pequeña minoría del dataset total.\n",
    "    - las categorías de juegos con comentarios negativos tienen muchas palabras en común con las categorías con comentarios positivos.\n",
    "    - los accuracy de los modelos entrenados fueron bajos (acc: 0,54 para random forest)\n",
    "    \n",
    "    Por estas razón, se recomienda continuar trabajando con el modelo presentado en el Trabajo Nro."
   ]
  },
  {
   "cell_type": "code",
   "execution_count": null,
   "metadata": {},
   "outputs": [],
   "source": []
  }
 ],
 "metadata": {
  "colab": {
   "collapsed_sections": [],
   "name": "DS_Proyecto_03_SR.ipynb",
   "provenance": []
  },
  "kernelspec": {
   "display_name": "Python 3",
   "language": "python",
   "name": "python3"
  },
  "language_info": {
   "codemirror_mode": {
    "name": "ipython",
    "version": 3
   },
   "file_extension": ".py",
   "mimetype": "text/x-python",
   "name": "python",
   "nbconvert_exporter": "python",
   "pygments_lexer": "ipython3",
   "version": "3.7.7"
  },
  "toc": {
   "base_numbering": 1,
   "nav_menu": {},
   "number_sections": true,
   "sideBar": true,
   "skip_h1_title": false,
   "title_cell": "Table of Contents",
   "title_sidebar": "Contents",
   "toc_cell": false,
   "toc_position": {},
   "toc_section_display": true,
   "toc_window_display": false
  }
 },
 "nbformat": 4,
 "nbformat_minor": 1
}
